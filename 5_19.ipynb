{
  "nbformat": 4,
  "nbformat_minor": 0,
  "metadata": {
    "colab": {
      "provenance": [],
      "authorship_tag": "ABX9TyO0OmZecTKTOQIdZsytuzBh",
      "include_colab_link": true
    },
    "kernelspec": {
      "name": "python3",
      "display_name": "Python 3"
    },
    "language_info": {
      "name": "python"
    }
  },
  "cells": [
    {
      "cell_type": "markdown",
      "metadata": {
        "id": "view-in-github",
        "colab_type": "text"
      },
      "source": [
        "<a href=\"https://colab.research.google.com/github/Annie00000/Project/blob/main/5_19.ipynb\" target=\"_parent\"><img src=\"https://colab.research.google.com/assets/colab-badge.svg\" alt=\"Open In Colab\"/></a>"
      ]
    },
    {
      "cell_type": "markdown",
      "source": [
        "### 要用process，不能用thread (要kill才不會影響其他System_UI)"
      ],
      "metadata": {
        "id": "uTuJ85QQl9SN"
      }
    },
    {
      "cell_type": "markdown",
      "source": [
        "1. 使用stop_event (check_stop) 在 各step function & run_report_function  (直接放在主程式了)\n",
        "2. 重新thread時， 先stop_event.clear() (解除stop狀態)\n",
        "3. 添加 kill btn\n",
        "4. start report ，下方出現狀態列，並且 report btn 變成 disabled (=true)\n",
        "5. start 按鈕 → 開啟interval。& step-list.style (獨立的callback, 若上個thread還在執行，progress還要變動)\n",
        "6. 完成後寄信\n",
        "  kill 按鈕 & report 完成 → 關閉interval。"
      ],
      "metadata": {
        "id": "wPCFKB4SjROl"
      }
    },
    {
      "cell_type": "code",
      "source": [
        "# stop_event 與執行緒參考\n",
        "stop_event = threading.Event()\n",
        "current_thread = None"
      ],
      "metadata": {
        "id": "sXm4-0XMY2KW"
      },
      "execution_count": null,
      "outputs": []
    },
    {
      "cell_type": "code",
      "source": [
        "def step5():\n",
        "    check_stop()\n",
        "    time.sleep(1)\n",
        "\n",
        "def step6():\n",
        "    check_stop()\n",
        "    time.sleep(1)\n",
        "\n",
        "# 每一步驟模擬\n",
        "# def step1():\n",
        "#     if stop_event.is_set(): return\n",
        "#     time.sleep(1)\n",
        "\n",
        "# 檢查是否應停止\n",
        "def check_stop():\n",
        "    if stop_event.is_set():\n",
        "        raise Exception(\"中止流程\")"
      ],
      "metadata": {
        "id": "otDa3WBEYZe6"
      },
      "execution_count": null,
      "outputs": []
    },
    {
      "cell_type": "code",
      "source": [
        "# 啟動流程\n",
        "@app.callback(\n",
        "    Output(\"run-btn\", \"disabled\"),\n",
        "    Output(\"kill-btn\", \"disabled\"),\n",
        "    # Output('step-list', 'children'),\n",
        "    Input(\"run-btn\", \"n_clicks\"),\n",
        "    prevent_initial_call=True\n",
        ")\n",
        "def start_process(n_clicks):\n",
        "    global current_thread  # 要重新賦值，要先global\n",
        "    stop_event.set()  # 通知舊流程停止\n",
        "    # 確定當前結束\n",
        "    if current_thread and current_thread.is_alive():\n",
        "        # 先初始化 progress\n",
        "        get_initial_progress()\n",
        "        progress['status'][0]='waiting'\n",
        "        current_thread.join()\n",
        "\n",
        "    # 重設狀態 (新執行緒開始前清除 stop 狀態)\n",
        "    stop_event.clear()\n",
        "    progress['current_index'] = -1\n",
        "    progress['step_status'] = ['pending'] * len(step_names)\n",
        "    progress['step_times'] = [None] * len(step_names)\n",
        "    progress['error'] = False\n",
        "\n",
        "    current_thread = threading.Thread(target=run_report_process, daemon=True)\n",
        "    current_thread.start()\n",
        "    return True, False\n",
        "\n",
        "# 停止流程\n",
        "@app.callback(\n",
        "    Output(\"kill-btn\", \"disabled\", allow_duplicate=True),\n",
        "    Output(\"run-btn\", \"disabled\", allow_duplicate=True),\n",
        "    Input(\"kill-btn\", \"n_clicks\"),\n",
        "    prevent_initial_call=True\n",
        ")\n",
        "def stop_process(n_clicks):\n",
        "    global current_thread\n",
        "    stop_event.set()\n",
        "\n",
        "    if current_thread and current_thread.is_alive():\n",
        "        # 先初始化 progress\n",
        "        get_initial_progress()\n",
        "        progress['status'][0]='waiting'\n",
        "        current_thread.join()\n",
        "    return True, False"
      ],
      "metadata": {
        "id": "xz5oa1KreqdC"
      },
      "execution_count": null,
      "outputs": []
    },
    {
      "cell_type": "code",
      "source": [
        "# 更新 UI\n",
        "@app.callback(\n",
        "    Output(\"step-list\", \"children\"),\n",
        "    Output(\"progress-label\", \"children\"),\n",
        "    Input(\"interval\", \"n_intervals\")\n",
        ")\n",
        "def update_ui(n):\n",
        "    elements = []\n",
        "    for i, step in enumerate(step_names):\n",
        "        status = progress['step_status'][i]\n",
        "        color = {'pending': 'gray', 'running': 'orange', 'success': 'green', 'error': 'red'}.get(status, 'gray')\n",
        "        symbol = {'pending': \"□\", 'running': \"▶\", 'success': \"✔\", 'error': \"❌\"}.get(status, \"□\")\n",
        "        time_spent = f\" ({progress['step_times'][i]}秒)\" if progress['step_times'][i] else \"\"\n",
        "        elements.append(html.Div(f\"{symbol} {step}{time_spent}\", style={\"color\": color, \"marginBottom\": \"5px\"}))\n",
        "\n",
        "    current = progress['current_index']\n",
        "    if progress['error']:\n",
        "        label = f\"流程中斷：{step_names[current]} 發生錯誤\"\n",
        "    elif current == len(step_names) - 1 and progress['step_status'][-1] == 'success':\n",
        "        label = \"流程完成 ✅\"\n",
        "    else:\n",
        "        label = f\"目前進度：{current + 1}/{len(step_names)}\"\n",
        "    return elements, label"
      ],
      "metadata": {
        "id": "fkHe8hQKfJKU"
      },
      "execution_count": null,
      "outputs": []
    }
  ]
}