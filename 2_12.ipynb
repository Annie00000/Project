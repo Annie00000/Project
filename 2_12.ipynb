{
  "nbformat": 4,
  "nbformat_minor": 0,
  "metadata": {
    "colab": {
      "provenance": [],
      "authorship_tag": "ABX9TyMuAU6ntgiimpysuwKJ5ysM",
      "include_colab_link": true
    },
    "kernelspec": {
      "name": "python3",
      "display_name": "Python 3"
    },
    "language_info": {
      "name": "python"
    }
  },
  "cells": [
    {
      "cell_type": "markdown",
      "metadata": {
        "id": "view-in-github",
        "colab_type": "text"
      },
      "source": [
        "<a href=\"https://colab.research.google.com/github/Annie00000/Project/blob/main/2_12.ipynb\" target=\"_parent\"><img src=\"https://colab.research.google.com/assets/colab-badge.svg\" alt=\"Open In Colab\"/></a>"
      ]
    },
    {
      "cell_type": "markdown",
      "source": [
        "## 1.dash table中 被打勾的項目（row) 更換其背景色"
      ],
      "metadata": {
        "id": "ZvS4S332mgO0"
      }
    },
    {
      "cell_type": "code",
      "source": [
        "import dash\n",
        "from dash import dash_table, dcc, html\n",
        "import pandas as pd\n",
        "\n",
        "app = dash.Dash(__name__)\n",
        "\n",
        "# 建立 DataFrame\n",
        "df = pd.DataFrame({\n",
        "    'id': [1, 2, 3, 4, 5],\n",
        "    'name': ['A', 'B', 'C', 'D', 'E']\n",
        "})\n",
        "\n",
        "app.layout = html.Div([\n",
        "    dash_table.DataTable(\n",
        "        id='table',\n",
        "        columns=[{\"name\": i, \"id\": i} for i in df.columns],\n",
        "        data=df.to_dict('records'),\n",
        "        page_size=5,\n",
        "        row_selectable=\"multi\",  # 允許多選\n",
        "        selected_rows=[],  # 預設無選取,是一個列表（list），裡面存的是 被勾選的行的\"索引\"）。\n",
        "        style_data_conditional=[\n",
        "            {\n",
        "                'if': {'row_index': 'selected'},  # 當 row 被勾選時\n",
        "                'backgroundColor': 'lightblue',  # 設定背景顏色\n",
        "                'color': 'black'  # 設定文字顏色\n",
        "            }\n",
        "        ]\n",
        "    )\n",
        "])\n",
        "\n"
      ],
      "metadata": {
        "id": "1nW9D5wOm5n_"
      },
      "execution_count": null,
      "outputs": []
    },
    {
      "cell_type": "markdown",
      "source": [
        "## 2. 想知道選取的row_index，其data"
      ],
      "metadata": {
        "id": "DAXpjZuDm7rB"
      }
    },
    {
      "cell_type": "code",
      "source": [
        "import dash\n",
        "from dash import dash_table, dcc, html, callback, Input, Output, State\n",
        "import pandas as pd\n",
        "\n",
        "app = dash.Dash(__name__)\n",
        "\n",
        "# 建立 DataFrame\n",
        "df = pd.DataFrame({\n",
        "    'id': [101, 102, 103, 104, 105],\n",
        "    'name': ['A', 'B', 'C', 'D', 'E'],\n",
        "    'value': [10, 20, 30, 40, 50]\n",
        "})\n",
        "\n",
        "app.layout = html.Div([\n",
        "    dash_table.DataTable(\n",
        "        id='table',\n",
        "        columns=[{\"name\": i, \"id\": i} for i in df.columns],\n",
        "        data=df.to_dict('records'),\n",
        "        page_size=5,\n",
        "        row_selectable=\"multi\",  # 允許多選\n",
        "        selected_rows=[],\n",
        "    ),\n",
        "    html.Button(\"下載 Excel\", id=\"download-btn\", n_clicks=0),\n",
        "    dcc.Download(id=\"download-dataframe-xlsx\")\n",
        "])\n",
        "\n",
        "@callback(\n",
        "    Output(\"download-dataframe-xlsx\", \"data\"),\n",
        "    Input(\"download-btn\", \"n_clicks\"),\n",
        "    State(\"table\", \"selected_rows\"),\n",
        "    prevent_initial_call=True\n",
        ")\n",
        "def download_selected_data(n_clicks, selected_rows):\n",
        "    # 取得被勾選的行的完整數據 (!!!!!)\n",
        "    selected_data = df.iloc[selected_rows]\n",
        "\n",
        "    # 如果沒有選擇任何行，就不下載\n",
        "    if selected_data.empty:\n",
        "        return dash.no_update\n",
        "\n",
        "    # 轉換成 Excel 檔案並下載\n",
        "    return dcc.send_data_frame(selected_data.to_excel, \"selected_data.xlsx\", index=False)\n",
        "\n"
      ],
      "metadata": {
        "id": "tlxpFie1offO"
      },
      "execution_count": null,
      "outputs": []
    },
    {
      "cell_type": "markdown",
      "source": [
        "## 3. figure放置"
      ],
      "metadata": {
        "id": "wnkA0wRopZuP"
      }
    },
    {
      "cell_type": "markdown",
      "source": [
        "### 3-1. /assets/ 資料夾"
      ],
      "metadata": {
        "id": "w_egUczxu1_z"
      }
    },
    {
      "cell_type": "markdown",
      "source": [
        "1. 解析 Dash Table 中的資料：讀取每一行的 date, base, stat, chart_name, query_start, query_end 欄位。\n",
        "2. 建立圖片路徑：根據這些欄位來生成圖片的路徑。\n",
        "3. 排除重複圖片：使用 set 來避免重複顯示相同圖片。\n",
        "4. 動態顯示圖片：將所有圖片顯示在頁面上。"
      ],
      "metadata": {
        "id": "5HWIYiDHvI-C"
      }
    },
    {
      "cell_type": "markdown",
      "source": [
        "* 這個範例假設圖片存放於 /assets/ 資料夾下，這樣 Dash 頁面可以正確顯示圖片。\n",
        "* 如果圖片不在 assets/ 資料夾內，則需要透過 Flask 提供靜態檔案（如 send_from_directory）來處理圖片的路徑。"
      ],
      "metadata": {
        "id": "seEdI5fsvOb1"
      }
    },
    {
      "cell_type": "code",
      "source": [
        "import os\n",
        "import dash\n",
        "from dash import dcc, html, dash_table\n",
        "import pandas as pd\n",
        "\n",
        "# 假設你的資料表格長這樣：\n",
        "data = [\n",
        "    {'date': '2025-01-01', 'base': 'USD', 'stat': 'Open', 'chart_name': 'Chart1', 'query_start': '2025-01-01', 'query_end': '2025-01-02'},\n",
        "    {'date': '2025-01-01', 'base': 'USD', 'stat': 'Close', 'chart_name': 'Chart1', 'query_start': '2025-01-01', 'query_end': '2025-01-02'},\n",
        "    {'date': '2025-01-02', 'base': 'EUR', 'stat': 'Open', 'chart_name': 'Chart2', 'query_start': '2025-01-02', 'query_end': '2025-01-03'},\n",
        "]\n",
        "\n",
        "df = pd.DataFrame(data)\n",
        "\n",
        "# 假設圖片檔案儲存在 ../data_source 資料夾內\n",
        "IMAGE_FOLDER = '../data_source'\n",
        "\n",
        "# 函數：生成圖片路徑\n",
        "def generate_image_path(row):\n",
        "    date = row['date']\n",
        "    base = row['base']\n",
        "    stat = row['stat']\n",
        "    chart_name = row['chart_name']\n",
        "    query_start = row['query_start']\n",
        "    query_end = row['query_end']\n",
        "\n",
        "    # 圖片路徑格式\n",
        "    return f\"/assets/{date}/{base}/figure/{chart_name}___{base}___{stat}___{query_start}___{query_end}.png\"\n",
        "\n",
        "# 取得表格中所有圖片路徑\n",
        "image_paths = set()  # 使用 set 來排除重複圖片\n",
        "for _, row in df.iterrows():\n",
        "    image_paths.add(generate_image_path(row))\n",
        "\n",
        "# 建立 Dash 應用程式\n",
        "app = dash.Dash(__name__)\n",
        "\n",
        "# 生成圖片顯示\n",
        "app.layout = html.Div([\n",
        "    dash_table.DataTable(\n",
        "        id='table',\n",
        "        columns=[\n",
        "            {\"name\": col, \"id\": col} for col in df.columns\n",
        "        ],\n",
        "        data=df.to_dict('records')\n",
        "    ),\n",
        "    html.Div([\n",
        "        html.H3(\"所有相關圖片：\"),\n",
        "        html.Div([html.Img(src=img_path, style={'width': '50%'}) for img_path in image_paths])\n",
        "    ])\n",
        "])\n",
        "\n",
        "if __name__ == '__main__':\n",
        "    app.run_server(debug=True)\n"
      ],
      "metadata": {
        "id": "IfbYAYSru1eR"
      },
      "execution_count": null,
      "outputs": []
    },
    {
      "cell_type": "markdown",
      "source": [
        "### 3-2. Flask ()"
      ],
      "metadata": {
        "id": "EibaFkOKu7hS"
      }
    },
    {
      "cell_type": "markdown",
      "source": [
        "如果你的圖片存放在其他資料夾，例如 ../data_source/，你需要用 Flask 的 send_from_directory 來提供靜態圖片。"
      ],
      "metadata": {
        "id": "aGtSsys_vTlt"
      }
    },
    {
      "cell_type": "code",
      "source": [
        "import os\n",
        "import dash\n",
        "from dash import dcc, html, dash_table\n",
        "import pandas as pd\n",
        "from flask import Flask, send_from_directory\n",
        "\n",
        "# 初始化 Flask 伺服器\n",
        "server = Flask(__name__) # __name__ 是一個特殊變數，它代表當前腳本的名稱。\n",
        "# 當你執行一個 Python 腳本時，__name__ 的值會是 \"__main__\"\n",
        "app = dash.Dash(__name__, server=server)\n",
        "\n",
        "# 設定圖片資料夾\n",
        "IMAGE_FOLDER = \"../data_source\"\n",
        "\n",
        "# Flask 路由：當前端請求 `/images/xxx.png`，從資料夾提供圖片\n",
        "@server.route(\"/images/<path:image_name>\")\n",
        "def serve_image(image_name):\n",
        "    return send_from_directory(IMAGE_FOLDER, image_name)\n",
        "\n",
        "# 假設這是你的 Dash Table 資料\n",
        "data = [\n",
        "    {'date': '2025-01-01', 'base': 'USD', 'stat': 'Open', 'chart_name': 'Chart1', 'query_start': '2025-01-01', 'query_end': '2025-01-02'},\n",
        "    {'date': '2025-01-01', 'base': 'USD', 'stat': 'Close', 'chart_name': 'Chart1', 'query_start': '2025-01-01', 'query_end': '2025-01-02'},\n",
        "    {'date': '2025-01-02', 'base': 'EUR', 'stat': 'Open', 'chart_name': 'Chart2', 'query_start': '2025-01-02', 'query_end': '2025-01-03'},\n",
        "]\n",
        "\n",
        "df = pd.DataFrame(data)\n",
        "\n",
        "# 產生圖片的 URL\n",
        "def generate_image_url(row):\n",
        "    image_name = f\"{row['chart_name']}___{row['base']}___{row['stat']}___{row['query_start']}___{row['query_end']}.png\"\n",
        "    return f\"/images/{image_name}\"\n",
        "\n",
        "# 取得所有不重複的圖片\n",
        "image_urls = set()\n",
        "for _, row in df.iterrows():\n",
        "    image_urls.add(generate_image_url(row))\n",
        "\n",
        "# Dash 頁面 Layout\n",
        "app.layout = html.Div([\n",
        "    html.H3(\"Dash Table\"),\n",
        "    dash_table.DataTable(\n",
        "        id='table',\n",
        "        columns=[{\"name\": col, \"id\": col} for col in df.columns],\n",
        "        data=df.to_dict('records')\n",
        "    ),\n",
        "    html.H3(\"對應的圖片\"),\n",
        "    html.Div([html.Img(src=img_url, style={'width': '30%'}) for img_url in image_urls])\n",
        "])\n",
        "\n",
        "##\n",
        "app.run_server(debug=True, port=8050, use_reloader=False)\n",
        "\n",
        "\n",
        "# 在 Jupyter Notebook 中運行 Flask 應用\n",
        "from werkzeug.serving import run_simple\n",
        "run_simple('127.0.0.1', 8050, app.server, use_reloader=False, threaded=True)\n",
        "# use_reloader=False 防止 Flask 進行自動重啟（這在 Jupyter Notebook 中會有衝突）。\n",
        "# threaded=True 允許多線程運行，這樣可以避免阻塞主線程"
      ],
      "metadata": {
        "id": "-MLjhdegwI2y"
      },
      "execution_count": null,
      "outputs": []
    },
    {
      "cell_type": "markdown",
      "source": [
        "##### serve_image 函數的作用與運作方式"
      ],
      "metadata": {
        "id": "Th9NZjF1w2w_"
      }
    },
    {
      "cell_type": "markdown",
      "source": [
        "在 Flask（Dash 的後端框架）中，@server.route(\"/images/<path:image_name>\") 是一個路由設定，它告訴 Flask：\n",
        "\n",
        "* 當使用者請求 /images/xxx.png 時，應該執行 serve_image(image_name) 這個函數。\n",
        "* 函數會從 IMAGE_FOLDER 內尋找圖片，然後傳送回前端"
      ],
      "metadata": {
        "id": "EQ7NcIpUw5lO"
      }
    },
    {
      "cell_type": "markdown",
      "source": [
        "**為什麼 serve_image 沒有直接被呼叫？**\n",
        "\n",
        "在 Dash 程式碼裡，你沒有直接執行 serve_image()，而是讓 Flask 自動處理這個請求。這是因為：\n",
        "1. html.Img(src='/images/sample.png') 這行程式碼，告訴瀏覽器要載入 /images/sample.png。\n",
        "2. 當瀏覽器請求 /images/sample.png 時，這個請求會被 Flask 處理，觸發 serve_image()。\n",
        "3. Flask 在 serve_image() 裡面執行 send_from_directory()，找到對應的圖片，並回傳給瀏覽器。"
      ],
      "metadata": {
        "id": "UvUYxHRZxGcY"
      }
    },
    {
      "cell_type": "markdown",
      "source": [
        "這種方式適合用來提供 assets/ 以外的圖片，例如 ../data_source/ 資料夾內的動態圖片。\n",
        "你不需要手動呼叫 serve_image()，只要 html.Img(src='/images/xxx.png')，Flask 會自動處理請求。"
      ],
      "metadata": {
        "id": "EV0jK615xVVf"
      }
    },
    {
      "cell_type": "code",
      "source": [],
      "metadata": {
        "id": "HKAExGnDw9Tf"
      },
      "execution_count": null,
      "outputs": []
    },
    {
      "cell_type": "code",
      "source": [],
      "metadata": {
        "id": "bMQIRHRJw5V1"
      },
      "execution_count": null,
      "outputs": []
    },
    {
      "cell_type": "code",
      "source": [],
      "metadata": {
        "id": "uLwCd-Fxw3xj"
      },
      "execution_count": null,
      "outputs": []
    }
  ]
}