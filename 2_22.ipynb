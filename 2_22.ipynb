{
  "nbformat": 4,
  "nbformat_minor": 0,
  "metadata": {
    "colab": {
      "provenance": [],
      "authorship_tag": "ABX9TyPMaMEDf9XiEXGsUOYDDLBZ",
      "include_colab_link": true
    },
    "kernelspec": {
      "name": "python3",
      "display_name": "Python 3"
    },
    "language_info": {
      "name": "python"
    }
  },
  "cells": [
    {
      "cell_type": "markdown",
      "metadata": {
        "id": "view-in-github",
        "colab_type": "text"
      },
      "source": [
        "<a href=\"https://colab.research.google.com/github/Annie00000/Project/blob/main/2_22.ipynb\" target=\"_parent\"><img src=\"https://colab.research.google.com/assets/colab-badge.svg\" alt=\"Open In Colab\"/></a>"
      ]
    },
    {
      "cell_type": "markdown",
      "source": [
        "## 1. Flask 處理 /download/{file_path}"
      ],
      "metadata": {
        "id": "jyPD-hXYLn8s"
      }
    },
    {
      "cell_type": "markdown",
      "source": [
        "#### 1-1. Flask 如何處理\n",
        "\n",
        "- 當用戶點擊 下載連結 時，瀏覽器會發送請求，例如：GET /download/202502/202502_A.txt\n",
        "- 這時候：\n",
        "  1. file_path = \"202502/202502_A.txt\"\n",
        "  2. full_path = os.path.join(BASE_PATH, file_path)\n",
        "  🔹 結果 → ../../data_source/update/202502/202502_A.txt\n",
        "  3. send_file(full_path, as_attachment=True) 讓檔案下載，而不是在瀏覽器打開。"
      ],
      "metadata": {
        "id": "lLUIHu0RMAzS"
      }
    },
    {
      "cell_type": "code",
      "source": [
        "from flask import Flask, send_file, abort\n",
        "import os\n",
        "\n",
        "app = Flask(__name__)\n",
        "\n",
        "# 檔案根目錄\n",
        "\n",
        "\n",
        "@app.route('/download/<path:file_path>')\n",
        "def download_file(file_path):\n",
        "    # 檔案根目錄\n",
        "    BASE_PATH = '../../data_source/update'\n",
        "    # 拼接完整檔案路徑\n",
        "    full_path = os.path.join(BASE_PATH, file_path)\n",
        "\n",
        "    # 確保檔案存在\n",
        "    if os.path.exists(full_path):\n",
        "        return send_file(full_path, as_attachment=True)  # 強制下載\n",
        "    else:\n",
        "        return abort(404)  # 若檔案不存在則回傳 404\n",
        "\n",
        "if __name__ == '__main__':\n",
        "    app.run(debug=True)\n"
      ],
      "metadata": {
        "id": "wq9MTrrsLtEP"
      },
      "execution_count": null,
      "outputs": []
    },
    {
      "cell_type": "markdown",
      "source": [
        "#### 1-2.  Dash 產生正確下載連結\n",
        "\n",
        "確保 href 指向 /download/{file_path}，而不是 ../../data_source/update/{file_path}，因為 /download/ 會自動加上 BASE_PATH。"
      ],
      "metadata": {
        "id": "1YgDzBrDMdmO"
      }
    },
    {
      "cell_type": "code",
      "source": [
        "def generate_file_links(file_string):\n",
        "    if not file_string:\n",
        "        return \"\"\n",
        "\n",
        "    files = file_string.split(', ')\n",
        "    links = []\n",
        "\n",
        "    for file in files:\n",
        "        parts = file.split('_', 1)\n",
        "        if len(parts) > 1:\n",
        "            display_name = parts[1]  # 取 _ 之後的字眼\n",
        "            month = parts[0]  # 取 _ 之前的月份字串\n",
        "            file_id = f\"{month}/{file}\"  # 例如 \"202502/202502_A.txt\"\n",
        "\n",
        "            # 正確的 Flask 下載 URL\n",
        "            link = f'<a href=\"/download/{file_id}\" download>{display_name}</a>'\n",
        "            links.append(link)\n",
        "\n",
        "    return \"  \\n\".join(links)\n"
      ],
      "metadata": {
        "id": "lCcURDDoL5--"
      },
      "execution_count": null,
      "outputs": []
    },
    {
      "cell_type": "markdown",
      "source": [
        " **總結**\n",
        "\n",
        "- /download/{file_path} 只是 URL，實際檔案路徑是 BASE_PATH + file_path\n",
        "- Flask send_file 負責找到檔案並強制下載\n",
        "- Dash 內部 href 連結應該指向 /download/{file_path}，而不是直接寫完整路徑\n",
        "\n",
        "這樣 .txt、.csv、.png 這些檔案就能正常下載了"
      ],
      "metadata": {
        "id": "mi33KG6VMjfq"
      }
    },
    {
      "cell_type": "markdown",
      "source": [
        "## 2. 有下載該檔案，但格式都會變成html"
      ],
      "metadata": {
        "id": "c7TOmmM2M7No"
      }
    },
    {
      "cell_type": "markdown",
      "source": [
        "Reason : 瀏覽器錯誤地將下載的檔案當作 HTML 處理，通常是因為 Flask 在回應時，*Content-Type 沒有正確設定，或者檔案的 MIME 類型未正確識別*。\n",
        "\n",
        "ans : 明確指定 mimetype"
      ],
      "metadata": {
        "id": "htkbER_nM-Kb"
      }
    },
    {
      "cell_type": "code",
      "source": [
        "from flask import Flask, send_file, abort, mimetypes\n",
        "import os\n",
        "\n",
        "app = Flask(__name__)\n",
        "\n",
        "# 檔案根目錄\n",
        "BASE_PATH = '../../data_source/update'\n",
        "\n",
        "@app.route('/download/<path:file_path>')\n",
        "def download_file(file_path):\n",
        "    # 拼接完整檔案路徑\n",
        "    full_path = os.path.join(BASE_PATH, file_path)\n",
        "\n",
        "    # 確保檔案存在\n",
        "    if not os.path.exists(full_path):\n",
        "        return abort(404)  # 若檔案不存在則回傳 404\n",
        "\n",
        "    # 嘗試根據檔案副檔名判斷 MIME 類型\n",
        "    mime_type, _ = mimetypes.guess_type(full_path)\n",
        "    if mime_type is None:\n",
        "        mime_type = \"application/octet-stream\"  # 預設為二進位流，防止被當成 HTML\n",
        "\n",
        "    print(f\"✅ 下載檔案: {full_path} (MIME: {mime_type})\")\n",
        "\n",
        "    return send_file(full_path, as_attachment=True, mimetype=mime_type)  # 強制下載並確保格式正確\n",
        "\n",
        "if __name__ == '__main__':\n",
        "    app.run(debug=True)\n"
      ],
      "metadata": {
        "id": "GzWPQhpJNRju"
      },
      "execution_count": null,
      "outputs": []
    },
    {
      "cell_type": "markdown",
      "source": [
        "1. mimetypes.guess_type(full_path) 作用 (自動偵測檔案的 MIME 類型)，確保下載時，瀏覽器不會錯誤解析成 HTML :\n",
        "\n",
        "*   txt → text/plain\n",
        "*   csv → text/csv\n",
        "*   png → image/png\n",
        "*   xlsx → application/vnd.openxmlformats-officedocument.spreadsheetml.sheet\n",
        "\n",
        "2. application/octet-stream（預設值）\n",
        "\n",
        "  如果 MIME 類型無法被偵測，就使用 application/octet-stream，這樣瀏覽器會強制下載檔案，而不會嘗試開啟它\n",
        "\n",
        "3. as_attachment=True\n",
        "\n",
        "  讓瀏覽器正確地下載檔案，而不是直接打開。"
      ],
      "metadata": {
        "id": "9yKmXg1eNVOl"
      }
    }
  ]
}