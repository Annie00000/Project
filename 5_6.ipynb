{
  "nbformat": 4,
  "nbformat_minor": 0,
  "metadata": {
    "colab": {
      "provenance": [],
      "authorship_tag": "ABX9TyOx1qWyH4beZ+F9tD+BppTp",
      "include_colab_link": true
    },
    "kernelspec": {
      "name": "python3",
      "display_name": "Python 3"
    },
    "language_info": {
      "name": "python"
    }
  },
  "cells": [
    {
      "cell_type": "markdown",
      "metadata": {
        "id": "view-in-github",
        "colab_type": "text"
      },
      "source": [
        "<a href=\"https://colab.research.google.com/github/Annie00000/Project/blob/main/5_6.ipynb\" target=\"_parent\"><img src=\"https://colab.research.google.com/assets/colab-badge.svg\" alt=\"Open In Colab\"/></a>"
      ]
    },
    {
      "cell_type": "markdown",
      "source": [
        "### function"
      ],
      "metadata": {
        "id": "Okaqx1zw6DOk"
      }
    },
    {
      "cell_type": "markdown",
      "source": [
        "* Grade B/C"
      ],
      "metadata": {
        "id": "_YZp9K1JyxGD"
      }
    },
    {
      "cell_type": "code",
      "source": [
        "def check_grade_B(df):\n",
        "    chart_counts = df['CHART'].value_counts()\n",
        "    df['Grade_B'] = df['CHART'].apply(lambda x: '1' if chart_counts[x] >= 3 else '0')\n",
        "    return df\n",
        "\n",
        "def check_grade_C(df):\n",
        "    df['Grade_C'] = df['monthly_fail_flag'].apply(lambda x: '1' if x == 1 else '0')\n",
        "    return df"
      ],
      "metadata": {
        "id": "CW2qw6cPdmNt"
      },
      "execution_count": null,
      "outputs": []
    },
    {
      "cell_type": "markdown",
      "source": [
        "* Grade A"
      ],
      "metadata": {
        "id": "eGA1-ftayzfz"
      }
    },
    {
      "cell_type": "code",
      "source": [
        "import pandas as pd\n",
        "import re\n",
        "\n",
        "def parse_rule_result(s):\n",
        "    \"\"\"\n",
        "    從 rule_result 字串中提取前兩個中括號中的數值。\n",
        "    空值或缺失值回傳 0。\n",
        "    \"\"\"\n",
        "    matches = re.findall(r'\\[([-\\d.]+)?\\]', s)\n",
        "    # 若為 ''或'-999' 則給0，等於無條件通過mean_shift判定\n",
        "    val1 = float(matches[0]) if matches[0] not in ['', '-999'] else 0\n",
        "    val2 = float(matches[1]) if matches[1] not in ['', '-999'] else 0\n",
        "    return val1, val2\n",
        "\n",
        "def check_grade_A(df):\n",
        "    # Step 1: 定義分類條件\n",
        "    is_saw = df['PROGRP'].str.startswith('[SF') | df['PROGRP'].str.startswith('[Tf')\n",
        "    is_hbtb = df['PROGRP'].isin(['[H01U-PB]', '[H01U-KB]', '[H02U-F2]'])\n",
        "    is_others = ~(is_saw | is_hbtb)\n",
        "\n",
        "    # Step 2: 解析 rule_result 數值\n",
        "    result_vals = df['rule_result'].apply(parse_rule_result)\n",
        "    df['Mean_shift'] = result_vals.apply(lambda x: x[0])\n",
        "    df['Sigma_ratio'] = result_vals.apply(lambda x: x[1])\n",
        "\n",
        "    # Step 3: 建立 Grade_A 欄位\n",
        "    df['Grade_A'] = '0'\n",
        "\n",
        "    # SAW 條件：一律為 1\n",
        "    df.loc[is_saw, 'Grade_A'] = '1'\n",
        "\n",
        "    # HBTB 條件\n",
        "    df.loc[is_hbtb & (\n",
        "        (df.groupby('PROGRP')['param'].transform('count') >= 2) |  # PROGRP 下有param重複（出現2次以上）\n",
        "        (df['Mean_shift'].abs() > 2) |\n",
        "        (df['Sigma_ratio'].abs() > 2)\n",
        "    ), 'Grade_A'] = '1'\n",
        "\n",
        "    # Others 條件\n",
        "    df.loc[is_others & (\n",
        "        (df.groupby(['PROGRP', 'Fab'])['param'].transform('count') >= 2) |  # PROGRP+Fab 下有param重複（出現2次以上）\n",
        "        (df['Mean_shift'].abs() > 2) |\n",
        "        (df['Sigma_ratio'].abs() > 2)\n",
        "    ), 'Grade_A'] = '1'\n",
        "\n",
        "    df = df.drop(columns = ['Mean_shift', 'Sigma_ratio'])\n",
        "    return df\n"
      ],
      "metadata": {
        "id": "RH7m-fdl3MJi"
      },
      "execution_count": null,
      "outputs": []
    },
    {
      "cell_type": "markdown",
      "source": [
        "### 判定"
      ],
      "metadata": {
        "id": "qirMQC2l6ANx"
      }
    },
    {
      "cell_type": "code",
      "source": [
        "from dateutil.relativedelta import relativedelta\n",
        "import pandas as pd\n",
        "\n",
        "review_month = '2025M04'\n",
        "base_on, stat = 'WAFER', 'MEAN'\n",
        "def add_priority(review_month, pre_record_df, record_df):\n",
        "  start_month = (pd.to_datetime(review_month.replace('M', ''), format='%YM%m') - relativedelta(months=5)).strftime('%YM%m')\n",
        "  # 合併前5個月 + 當月資料，並篩選 fail_flag = 1\n",
        "  combined_df = pd.concat([pre_record_df, record_df], ignore_index=True)\n",
        "  filtered_df = combined_df[(combined_df['Month'] >= start_month) & (combined_df['fail_flag'] == '1')].reset_index(drop=True)\n",
        "\n",
        "  # 進行 grade 計算\n",
        "  filtered_df = check_grade_A(filtered_df)  # 新增 Grade_A 欄位\n",
        "  filtered_df = check_grade_B(filtered_df)  # 新增 Grade_B 欄位\n",
        "\n",
        "  # 取出本月份資料, 並做最終 Grade 判斷\n",
        "  current_df = filtered_df[filtered_df['Month'] == review_month].copy()\n",
        "  current_df['GRADE'] = current_df.apply(\n",
        "      lambda row: 'A' if row['Grade_A'] == '1' else ('B' if row['Grade_B'] == '1' else 'C'),\n",
        "      axis=1\n",
        "  )\n",
        "\n",
        "  # 合併回原本 record_df，fail_flag=0 則 Priority = ''\n",
        "  record_df = record_df.merge(current_df[['CHART', 'GRADE']], on='CHART', how='left')\n",
        "  record_df['GRADE'] = record_df['GRADE'].fillna('')\n",
        "  # 移除原 Priority 欄並改名\n",
        "  record_df = record_df.drop(columns='Priority').rename(columns={'GRADE': 'Priority'})\n",
        "  return record_df\n"
      ],
      "metadata": {
        "id": "wCQpXwLDFaBm"
      },
      "execution_count": null,
      "outputs": []
    },
    {
      "cell_type": "code",
      "source": [
        "record_lst = []\n",
        "for group, temp_record_df in record_df.groupby(['BASE_ON','STAT']):\n",
        "  temp_pre_record_df = pre_record_df[(pre_record_df['BASE_ON']==group[0])&(pre_record_df['STAT']==group[1])]\n",
        "  temp_record_df_new = add_priority(review_month, temp_pre_record_df, temp_record_df)\n",
        "  record_lst.append(temp_record_df_new)\n",
        "all_record_df = pd.concat(record_lst, axis=0, ignore_index=True)"
      ],
      "metadata": {
        "id": "EFvpkiuLILX6"
      },
      "execution_count": null,
      "outputs": []
    }
  ]
}