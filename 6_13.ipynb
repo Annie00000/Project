{
  "nbformat": 4,
  "nbformat_minor": 0,
  "metadata": {
    "colab": {
      "provenance": [],
      "authorship_tag": "ABX9TyO0hV9WWuJXLiqwWYVmaRM1",
      "include_colab_link": true
    },
    "kernelspec": {
      "name": "python3",
      "display_name": "Python 3"
    },
    "language_info": {
      "name": "python"
    }
  },
  "cells": [
    {
      "cell_type": "markdown",
      "metadata": {
        "id": "view-in-github",
        "colab_type": "text"
      },
      "source": [
        "<a href=\"https://colab.research.google.com/github/Annie00000/Project/blob/main/6_13.ipynb\" target=\"_parent\"><img src=\"https://colab.research.google.com/assets/colab-badge.svg\" alt=\"Open In Colab\"/></a>"
      ]
    },
    {
      "cell_type": "markdown",
      "source": [
        "## 1. 指定路徑"
      ],
      "metadata": {
        "id": "yl1q8tvxBC7a"
      }
    },
    {
      "cell_type": "code",
      "source": [
        "import glob\n",
        "import os\n",
        "\n",
        "folder_path = '/your/path/here'\n",
        "prefix = 'chart_aaa'  # 動態變數\n",
        "\n",
        "# 方法 1: glob :  組合 pattern，例如 chart_aaa__*.png\n",
        "pattern = os.path.join(folder_path, f'{prefix}__*.png')\n",
        "png_files = glob.glob(pattern)\n",
        "\n",
        "\n",
        "# 方法 2:\n",
        "import os\n",
        "folder_path = '/your/path/here'\n",
        "png_files = [\n",
        "    f for f in os.listdir(folder_path)\n",
        "    if f.startswith('chart_aaa') and f.endswith('.png')\n",
        "]\n",
        "# 若需要完整路徑\n",
        "png_files = [os.path.join(folder_path, f) for f in png_files]"
      ],
      "metadata": {
        "id": "LiLa8xNB2Tpw"
      },
      "execution_count": null,
      "outputs": []
    },
    {
      "cell_type": "markdown",
      "source": [
        "## 2. 放照片"
      ],
      "metadata": {
        "id": "aFf744Dy42uE"
      }
    },
    {
      "cell_type": "code",
      "source": [
        "### key 對應 base64路徑\n",
        "import base64\n",
        "import os\n",
        "\n",
        "for file in png_files:\n",
        "    file_key = file[:-4].split('___')[1]  # 去掉最後4個字元 '.png'\n",
        "    full_path = os.path.join(folder_path, file)\n",
        "    with open(full_path, 'rb') as f:\n",
        "        encoded = base64.b64encode(f.read()).decode()\n",
        "    image_map[file_key] = f'data:image/png;base64,{encoded}'\n",
        "\n",
        "\n"
      ],
      "metadata": {
        "id": "kPVPgyrJAyO9"
      },
      "execution_count": null,
      "outputs": []
    },
    {
      "cell_type": "markdown",
      "source": [
        "#### 2-1. html.Div()"
      ],
      "metadata": {
        "id": "pL8bHsDD5GVd"
      }
    },
    {
      "cell_type": "code",
      "source": [
        "import os\n",
        "import dash\n",
        "from dash import html\n",
        "\n",
        "app = dash.Dash(__name__)\n",
        "\n",
        "# 圖片所在資料夾與前綴\n",
        "folder_path = '../../../data_source/stat/tm'\n",
        "prefix = 'chart_aaa___'\n",
        "\n",
        "# 搜尋符合條件的圖片檔案\n",
        "all_files = os.listdir(folder_path)\n",
        "png_files = [f for f in all_files if f.startswith(prefix) and f.endswith('.png')]\n",
        "\n",
        "# 根據結尾關鍵字放入對應欄位\n",
        "image_map = {\n",
        "    'CPK': None,\n",
        "    'MEAN_SHIFT': None,\n",
        "    'SIGMA_RATIO': None,\n",
        "    'TREND_CHART': None,\n",
        "}\n",
        "\n",
        "for file in png_files:\n",
        "    for key in image_map:\n",
        "        if file.endswith(f'{key}.png'):\n",
        "            image_map[key] = os.path.join(folder_path, file)\n",
        "\n",
        "\n",
        "## 轉base64\n",
        "\"\"\"\n",
        "### 簡潔 :key 對應 base64路徑\n",
        "import base64\n",
        "import os\n",
        "\n",
        "for file in png_files:\n",
        "    file_key = file[:-4].split('___')[1]  # 去掉最後4個字元 '.png'\n",
        "    full_path = os.path.join(folder_path, file)\n",
        "    with open(full_path, 'rb') as f:\n",
        "        encoded = base64.b64encode(f.read()).decode()\n",
        "    image_map[file_key] = f'data:image/png;base64,{encoded}'\n",
        "\n",
        "\"\"\"\n",
        "\n",
        "\"\"\"\n",
        "import base64\n",
        "import os\n",
        "\n",
        "for file in png_files:\n",
        "    for key in image_map:\n",
        "        if file.endswith(f'{key}.png'):\n",
        "            full_path = os.path.join(folder_path, file)\n",
        "            with open(full_path, 'rb') as f:\n",
        "                encoded = base64.b64encode(f.read()).decode()\n",
        "            image_map[key] = f'data:image/png;base64,{encoded}'\n",
        "            break\n",
        "\"\"\"\n",
        "\n",
        "# 建立圖片元件\n",
        "def image_component(path):\n",
        "    if path and os.path.exists(path):\n",
        "        # Dash 本身無法直接讀本機路徑，這邊簡化寫法為占位用\n",
        "        return html.Img(src=path, style={'width': '100%', 'height': 'auto', 'border': '1px solid #ccc'})\n",
        "    else:\n",
        "        return html.Div(style={'width': '100%', 'height': '300px'})  # 空白占位\n",
        "\n",
        "# 頁面 layout：2x2 grid\n",
        "app.layout = html.Div([\n",
        "    html.Div([\n",
        "        # 左上、右上\n",
        "        html.Div(image_component(image_map['CPK']), style={'width': '50%'}),\n",
        "        html.Div(image_component(image_map['MEAN_SHIFT']), style={'width': '50%'})\n",
        "    ], style={'display': 'flex'}),\n",
        "\n",
        "    html.Div([\n",
        "        # 左下、右下\n",
        "        html.Div(image_component(image_map['SIGMA_RATIO']), style={'width': '50%'}),\n",
        "        html.Div(image_component(image_map['TREND_CHART']), style={'width': '50%'})\n",
        "    ], style={'display': 'flex'})\n",
        "])\n"
      ],
      "metadata": {
        "id": "qJVqLOU244NG"
      },
      "execution_count": null,
      "outputs": []
    },
    {
      "cell_type": "markdown",
      "source": [
        "#### 2-2. dbc."
      ],
      "metadata": {
        "id": "kyHzhNdU5JtW"
      }
    },
    {
      "cell_type": "code",
      "source": [
        "import os\n",
        "import dash\n",
        "from dash import html\n",
        "import dash_bootstrap_components as dbc\n",
        "\n",
        "app = dash.Dash(__name__, external_stylesheets=[dbc.themes.BOOTSTRAP])\n",
        "\n",
        "# 設定資料夾與檔名前綴\n",
        "folder_path = '../../../data_source/stat/tm'\n",
        "prefix = 'chart_aaa___'\n",
        "\n",
        "# 找出所有符合 prefix 的檔案\n",
        "all_files = os.listdir(folder_path)\n",
        "png_files = [f for f in all_files if f.startswith(prefix) and f.endswith('.png')]\n",
        "\n",
        "# 建立對應字典：{分類名稱: 圖檔路徑}\n",
        "image_map = {\n",
        "    'CPK': None,\n",
        "    'MEAN_SHIFT': None,\n",
        "    'SIGMA_RATIO': None,\n",
        "    'TREND_CHART': None,\n",
        "}\n",
        "\n",
        "# 依據檔名結尾放入對應位置\n",
        "for file in png_files:\n",
        "    for key in image_map:\n",
        "        if file.endswith(f'{key}.png'):\n",
        "            image_map[key] = os.path.join(folder_path, file)\n",
        "            break\n",
        "\n",
        "# 建立圖片元件（若為 None 則留空）\n",
        "def image_component(path):\n",
        "    if path and os.path.exists(path):\n",
        "        return html.Img(src=path, style={'width': '100%', 'height': 'auto', 'border': '1px solid #ccc'})\n",
        "    else:\n",
        "        return html.Div()  # 空白占位\n",
        "\n",
        "# Layout：2x2 Grid\n",
        "app.layout = dbc.Container([\n",
        "    dbc.Row([\n",
        "        dbc.Col(image_component(image_map['CPK']), width=6),  # 示佔滿整體寬度的 6/12（Bootstrap 網格系統總寬度為 12）\n",
        "        dbc.Col(image_component(image_map['MEAN_SHIFT']), width=6),\n",
        "    ]),\n",
        "    dbc.Row([\n",
        "        dbc.Col(image_component(image_map['SIGMA_RATIO']), width=6),\n",
        "        dbc.Col(image_component(image_map['TREND_CHART']), width=6),\n",
        "    ]),\n",
        "], fluid=True)\n",
        "\n",
        "if __name__ == '__main__':\n",
        "    app.run_server(debug=True)\n"
      ],
      "metadata": {
        "id": "xI4Im8j35MUN"
      },
      "execution_count": null,
      "outputs": []
    },
    {
      "cell_type": "markdown",
      "source": [
        "### 3. PPT"
      ],
      "metadata": {
        "id": "ljZUdBSZ5pI0"
      }
    },
    {
      "cell_type": "code",
      "source": [
        "import os\n",
        "from pptx import Presentation\n",
        "from pptx.util import Inches, Pt\n",
        "\n",
        "# 範例元素清單\n",
        "elements = ['chartA', 'chartB', 'chartC']\n",
        "\n",
        "image_folder = './images'\n",
        "\n",
        "prs = Presentation()\n",
        "\n",
        "# 4個位置座標 (左上, 右上, 左下, 右下)\n",
        "positions = {\n",
        "    'CPK': (Inches(0.5), Inches(1.5)), # 距離左邊 0.5 吋，距離上方 1.5 吋。\n",
        "    'MEAN_SHIFT': (Inches(5.0), Inches(1.5)),\n",
        "    'SIGMA_RATIO': (Inches(0.5), Inches(4.5)),\n",
        "    'TREND_CHART': (Inches(5.0), Inches(4.5)),\n",
        "}\n",
        "\n",
        "img_width = Inches(4.5)\n",
        "img_height = Inches(3)\n",
        "\n",
        "for elem in elements:\n",
        "    slide = prs.slides.add_slide(prs.slide_layouts[5])  # 空白版型\n",
        "\n",
        "    # 加標題\n",
        "    title_box = slide.shapes.add_textbox(Inches(0.5), Inches(0.2), Inches(9), Inches(1))\n",
        "    title_frame = title_box.text_frame\n",
        "    title_frame.text = elem\n",
        "    title_frame.paragraphs[0].font.size = Pt(28)\n",
        "\n",
        "    # 找該元素相關png圖片\n",
        "    # 篩選以 elem 開頭，且結尾含特定字串的png\n",
        "    relevant_imgs = [f for f in os.listdir(image_folder) if f.startswith(elem) and f.lower().endswith('.png')]\n",
        "\n",
        "    # 用來記錄每個位置是否有圖\n",
        "    placed = {key: False for key in positions.keys()}\n",
        "\n",
        "    for img_file in relevant_imgs:\n",
        "        for key in positions.keys():\n",
        "            if img_file.endswith(f\"_{key}.png\"):\n",
        "                left, top = positions[key]\n",
        "                img_path = os.path.join(image_folder, img_file)\n",
        "                slide.shapes.add_picture(img_path, left, top, width=img_width, height=img_height)\n",
        "                placed[key] = True\n",
        "                break  # 找到位置後跳出內層\n",
        "\n",
        "    # 沒找到該位置的圖片會留空白，不用特別處理\n",
        "\n",
        "prs.save('output_2x2_layout.pptx')\n"
      ],
      "metadata": {
        "id": "d20-Zr3t-_S-"
      },
      "execution_count": null,
      "outputs": []
    },
    {
      "cell_type": "code",
      "source": [
        "### 比對一下跟上面差別\n",
        "\n",
        "import os\n",
        "from pptx import Presentation\n",
        "from pptx.util import Inches, Pt\n",
        "\n",
        "elements = ['chartA', 'chartB', 'chartC']\n",
        "image_folder = './images'\n",
        "\n",
        "prs = Presentation()\n",
        "\n",
        "positions = {\n",
        "    'CPK': (Inches(0.5), Inches(1.5)),\n",
        "    'MEAN_SHIFT': (Inches(5.0), Inches(1.5)),\n",
        "    'SIGMA_RATIO': (Inches(0.5), Inches(4.5)),\n",
        "    'TREND_CHART': (Inches(5.0), Inches(4.5)),\n",
        "}\n",
        "\n",
        "img_width = Inches(4.5)\n",
        "img_height = Inches(3)\n",
        "\n",
        "for elem in elements:\n",
        "    slide = prs.slides.add_slide(prs.slide_layouts[5])\n",
        "\n",
        "    title_box = slide.shapes.add_textbox(Inches(0.5), Inches(0.2), Inches(9), Inches(1))\n",
        "    title_frame = title_box.text_frame\n",
        "    title_frame.text = elem\n",
        "    title_frame.paragraphs[0].font.size = Pt(28)\n",
        "\n",
        "    # 用 dict 記錄每個 key 對應的圖片路徑 (只記第一張)\n",
        "    img_for_key = {}\n",
        "\n",
        "    # 掃描所有符合 elem 開頭的圖片\n",
        "    relevant_imgs = [f for f in os.listdir(image_folder) if f.startswith(elem) and f.lower().endswith('.png')]\n",
        "\n",
        "    for img_file in relevant_imgs:\n",
        "        for key in positions.keys():\n",
        "            if img_file.endswith(f\"_{key}.png\") and key not in img_for_key:\n",
        "                img_for_key[key] = os.path.join(image_folder, img_file)\n",
        "\n",
        "    # 放圖片\n",
        "    for key, pos in positions.items():\n",
        "        if key in img_for_key:\n",
        "            left, top = pos\n",
        "            slide.shapes.add_picture(img_for_key[key], left, top, width=img_width, height=img_height)\n",
        "        # 找不到圖片則跳過，該位置留空\n",
        "\n",
        "prs.save('output_2x2_layout_no_break.pptx')\n"
      ],
      "metadata": {
        "id": "e0-mbRox_5jC"
      },
      "execution_count": null,
      "outputs": []
    }
  ]
}