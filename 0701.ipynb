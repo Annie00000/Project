{
  "nbformat": 4,
  "nbformat_minor": 0,
  "metadata": {
    "colab": {
      "provenance": [],
      "authorship_tag": "ABX9TyPNnG9we+to0L8OaEki1BJr",
      "include_colab_link": true
    },
    "kernelspec": {
      "name": "python3",
      "display_name": "Python 3"
    },
    "language_info": {
      "name": "python"
    }
  },
  "cells": [
    {
      "cell_type": "markdown",
      "metadata": {
        "id": "view-in-github",
        "colab_type": "text"
      },
      "source": [
        "<a href=\"https://colab.research.google.com/github/Annie00000/Project/blob/main/0701.ipynb\" target=\"_parent\"><img src=\"https://colab.research.google.com/assets/colab-badge.svg\" alt=\"Open In Colab\"/></a>"
      ]
    },
    {
      "cell_type": "markdown",
      "source": [
        "startswith_values,isin_values\n",
        "SF,H02U-B1\n",
        "TF,H01U-NB\n",
        ", H02U-RR\n",
        "\n",
        "* 注意：如果一欄有空值，Python 會讀成 NaN，要過濾掉。\n"
      ],
      "metadata": {
        "id": "K52QQLLhf3Em"
      }
    },
    {
      "cell_type": "code",
      "source": [
        "import pandas as pd\n",
        "\n",
        "# 嘗試讀取規則 CSV\n",
        "rule_path = 'rules.csv'\n",
        "if os.path.exists(rule_path):\n",
        "  rules_df = pd.read_csv('rules.csv')\n",
        "  # 取得 startswith 規則列表，並去除 NaN\n",
        "  startswith_list = rules_df['startswith_values'].dropna().tolist()\n",
        "  # 取得 isin 規則列表，並去除 NaN\n",
        "  isin_list = rules_df['isin_values'].dropna().tolist()\n",
        "else:\n",
        "  startswith_list = ['SF', 'TF']\n",
        "  isin_list =  ['[H02U-B1]', '[H01U-NB]', '[H02U-RR]']\n",
        "# 應用條件到 df（假設你已經有 df）\n",
        "is_saw = df['PRODGRP_ID'].str.startswith(tuple(startswith_list))\n",
        "is_hbtb = df['PRODGRP_ID'].isin(isin_list)\n"
      ],
      "metadata": {
        "id": "NWanxUeSf6gr"
      },
      "execution_count": null,
      "outputs": []
    }
  ]
}