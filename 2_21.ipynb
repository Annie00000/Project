{
  "nbformat": 4,
  "nbformat_minor": 0,
  "metadata": {
    "colab": {
      "provenance": [],
      "authorship_tag": "ABX9TyNpgOOx5yBLMudeXaE9Oqiu",
      "include_colab_link": true
    },
    "kernelspec": {
      "name": "python3",
      "display_name": "Python 3"
    },
    "language_info": {
      "name": "python"
    }
  },
  "cells": [
    {
      "cell_type": "markdown",
      "metadata": {
        "id": "view-in-github",
        "colab_type": "text"
      },
      "source": [
        "<a href=\"https://colab.research.google.com/github/Annie00000/Project/blob/main/2_21.ipynb\" target=\"_parent\"><img src=\"https://colab.research.google.com/assets/colab-badge.svg\" alt=\"Open In Colab\"/></a>"
      ]
    },
    {
      "cell_type": "markdown",
      "source": [
        "## 1. 監聽 Markdown 連結點擊並觸發下載"
      ],
      "metadata": {
        "id": "OhuS_8kJQjPt"
      }
    },
    {
      "cell_type": "code",
      "source": [
        "def generate_file_links(file_string):\n",
        "    if not file_string:\n",
        "        return \"\"\n",
        "\n",
        "    files = file_string.split(', ')\n",
        "    links = []\n",
        "\n",
        "    for file in files:\n",
        "        parts = file.split('_', 1)\n",
        "        if len(parts) > 1:\n",
        "            display_name = parts[1]\n",
        "            month = parts[0]\n",
        "            file_id = f\"{month}/{file}\"\n",
        "\n",
        "            # 使用 Dash 特殊標記 `download://` 來表示下載\n",
        "            link = f\"[{display_name}](download://{file_id})\"\n",
        "            links.append(link)\n",
        "\n",
        "    return \"  \\n\".join(links)\n",
        "\n",
        "df[\"File\"] = df[\"File\"].apply(generate_file_links)\n",
        "\n",
        "\n",
        "\n",
        "@app.callback(\n",
        "    Output(\"download-component\", \"data\"),\n",
        "    Input(\"table\", \"active_cell\"),\n",
        "    prevent_initial_call=True\n",
        ")\n",
        "def trigger_download(active_cell):\n",
        "    if not active_cell:\n",
        "        return dash.no_update\n",
        "\n",
        "    row = active_cell[\"row\"]\n",
        "    col = active_cell[\"column_id\"]\n",
        "\n",
        "    if col != \"File\":\n",
        "        return dash.no_update\n",
        "\n",
        "    file_string = df.at[row, \"File\"]\n",
        "    if \"download://\" in file_string:\n",
        "        file_path = file_string.split(\"(download://\")[1].split(\")\")[0]  # 解析下載路徑\n",
        "        file_path = f\"../../data_source/{file_path}\"\n",
        "\n",
        "        if os.path.exists(file_path):\n",
        "            return dcc.send_file(file_path)\n",
        "\n",
        "    return dash.no_update\n"
      ],
      "metadata": {
        "id": "kkYBMGvcQkgM"
      },
      "execution_count": null,
      "outputs": []
    },
    {
      "cell_type": "markdown",
      "source": [
        "## 2. 使用 Markdown 並攔截點擊事件"
      ],
      "metadata": {
        "id": "E74wVjJzRJFN"
      }
    },
    {
      "cell_type": "markdown",
      "source": [
        "1. 在 dash_table.DataTable 的 File 欄位顯示 Markdown 連結\n",
        "\n",
        "  - 202502_A.txt → [A.txt](/202502_A.txt)\n",
        "  - 202502_B.xlsx → [B.xlsx](/202502_B.xlsx)\n",
        "  - 這樣表格內的 File 欄位會顯示藍字、底線的超連結。\n",
        "2. 監聽 active_cell，偵測點擊的檔案名稱\n",
        "\n",
        "  - 透過 ctx.triggered 確認是哪個超連結被點擊。\n",
        "3. 解析 File 欄位內的 Markdown 連結\n",
        "\n",
        "  - 取得 file_id（檔案名稱），並組合出完整的 file_path。\n",
        "4. 透過 dcc.Download 下載檔案\n",
        "\n",
        "  - 確保檔案存在後，執行 dcc.send_file(file_path) 讓使用者下載。"
      ],
      "metadata": {
        "id": "k3RHfU9ERNBD"
      }
    },
    {
      "cell_type": "code",
      "source": [
        "def generate_file_links(file_string):\n",
        "    if not file_string:\n",
        "        return \"\"\n",
        "\n",
        "    files = file_string.split(', ')\n",
        "    links = []\n",
        "\n",
        "    for file in files:\n",
        "        parts = file.split('_', 1)\n",
        "        if len(parts) > 1:\n",
        "            display_name = parts[1]  # 顯示在表格內的文字\n",
        "            month = parts[0]  # 取得月份資訊\n",
        "            file_id = f\"{month}/{file}\"  # 生成唯一檔案識別碼\n",
        "\n",
        "            # 這裡產生一個 Markdown 連結，href 設為特殊識別格式\n",
        "            link = f\"[{display_name}](/{file_id})\"\n",
        "            links.append(link)\n",
        "\n",
        "    return \" \\n\".join(links)  # 使用 Markdown 換行符號，讓多個檔案顯示在不同行\n",
        "\n",
        "df[\"File\"] = df[\"File\"].apply(generate_file_links)\n",
        "\n",
        "\n",
        "## 因為 dash_table.DataTable 沒有內建 n_clicks, 改用 active_cell 來偵測使用者點擊哪個欄位：\n",
        "@app.callback(\n",
        "    Output(\"download-component\", \"data\"),\n",
        "    Input(\"table\", \"active_cell\"),\n",
        "    prevent_initial_call=True\n",
        ")\n",
        "def trigger_download(active_cell):\n",
        "    if not active_cell:\n",
        "        return dash.no_update\n",
        "\n",
        "    row = active_cell[\"row\"]\n",
        "    col = active_cell[\"column_id\"]\n",
        "\n",
        "    if col != \"File\":\n",
        "        return dash.no_update  # 確保只有點擊 \"File\" 欄位時才觸發下載\n",
        "\n",
        "    file_string = df.at[row, \"File\"]  # 取得被點擊的檔案欄位值\n",
        "    file_links = file_string.split(\"  \\n\")  # Markdown 轉換後的多個連結\n",
        "\n",
        "    # 從回調內容取得觸發的超連結\n",
        "    ctx = dash.callback_context\n",
        "    if not ctx.triggered:\n",
        "        return dash.no_update\n",
        "\n",
        "    # 解析被點擊的檔案名稱\n",
        "    triggered_text = ctx.triggered[0][\"value\"]\n",
        "    matched_files = [link for link in file_links if triggered_text in link]\n",
        "\n",
        "    if matched_files:\n",
        "        file_id = matched_files[0].split('](')[1].rstrip(')')  # 取得 \"/{file_id}\"\n",
        "        file_path = f\"../../data_source{file_id}\"\n",
        "\n",
        "        if os.path.exists(file_path):\n",
        "            return dcc.send_file(file_path)\n",
        "\n",
        "    return dash.no_update\n"
      ],
      "metadata": {
        "id": "pqjlGPVgRKBU"
      },
      "execution_count": null,
      "outputs": []
    },
    {
      "cell_type": "markdown",
      "source": [
        "## 3. 使用 / </a/> html 的/ download"
      ],
      "metadata": {
        "id": "V5YVouTyS3hd"
      }
    },
    {
      "cell_type": "markdown",
      "source": [
        "### 3-1"
      ],
      "metadata": {
        "id": "dyrLrVB8Y8pe"
      }
    },
    {
      "cell_type": "code",
      "source": [
        "####### 使用真實路徑\n",
        "import dash\n",
        "from dash import dcc, html, dash_table\n",
        "import pandas as pd\n",
        "\n",
        "app = dash.Dash(__name__)\n",
        "\n",
        "# 原始數據\n",
        "data = [\n",
        "    [1, \"H02U\", 'DH240P23.00', 23, '202502_A.txt, 202502_B.xlsx'],\n",
        "    [2, \"H02D\", 'DH240P11.00', 23, '202502_C.png, 202502_D.csv'],\n",
        "    [3, \"H03F\", 'DH240P10.00', 21, '202502_CD.xlsx, 202502_E.csv, 2025-02_F.csv'],\n",
        "    [4, \"D03F\", 'CH240P10.00', 11, '']\n",
        "]\n",
        "\n",
        "# 轉換為 DataFrame\n",
        "df = pd.DataFrame(data, columns=[\"Issue Number\", \"Chart Name\", \"Lot\", \"Count\", \"File\"])\n",
        "\n",
        "# 產生下載的<a>標籤，這次直接使用真實路徑\n",
        "def generate_file_links(file_string):\n",
        "    if not file_string:\n",
        "        return \"\"\n",
        "\n",
        "    files = file_string.split(', ')\n",
        "    links = []\n",
        "\n",
        "    for file in files:\n",
        "        parts = file.split('_', 1)\n",
        "        if len(parts) > 1:\n",
        "            display_name = parts[1]  # 取 _ 之後的字眼\n",
        "            month = parts[0]  # 取 _ 之前的月份字串\n",
        "            file_path = f\"../../data_source/update/{month}/{file}\"  # 生成真實檔案路徑\n",
        "\n",
        "            # 直接在 href 中使用真實路徑\n",
        "            link = f'<a href=\"/{file_path}\" download>{display_name}</a>'\n",
        "            links.append(link)\n",
        "\n",
        "    return \"  \\n\".join(links)  # 使用換行顯示多個檔案\n",
        "\n",
        "df[\"File\"] = df[\"File\"].apply(generate_file_links)\n",
        "\n",
        "app.layout = html.Div([\n",
        "    dash_table.DataTable(\n",
        "        id='table',\n",
        "        columns=[\n",
        "            {\"name\": col, \"id\": col, \"presentation\": \"html\"} if col == \"File\" else {\"name\": col, \"id\": col}\n",
        "            for col in df.columns\n",
        "        ],\n",
        "        data=df.to_dict('records'),\n",
        "        style_table={'overflowX': 'auto'},\n",
        "    ),\n",
        "])\n",
        "\n",
        "if __name__ == '__main__':\n",
        "    app.run_server(debug=True)\n"
      ],
      "metadata": {
        "id": "7ih0IKGTYxa1"
      },
      "execution_count": null,
      "outputs": []
    },
    {
      "cell_type": "markdown",
      "source": [
        "### 3-2"
      ],
      "metadata": {
        "id": "Wv8vVmk7Y-nd"
      }
    },
    {
      "cell_type": "markdown",
      "source": [
        "1. 檔案路徑更新：在 download_file 函數中，file_path 被更新為 os.path.join(base_path, file_path)，其中 base_path 設為 ../../data_source/update，並且將 file_path 拼接進來，這樣就能正確定位到檔案的根目錄。\n",
        "\n",
        "2. 下載檔案：當使用者點擊下載連結時，會根據正確的路徑提供檔案下載。"
      ],
      "metadata": {
        "id": "h356sQBKZAfW"
      }
    },
    {
      "cell_type": "code",
      "source": [
        "######## 使用 flask\n",
        "import dash\n",
        "from dash import dcc, html, dash_table, Input, Output\n",
        "from flask import send_file  # 這行是為了導入 send_file\n",
        "import pandas as pd\n",
        "import os\n",
        "\n",
        "app = dash.Dash(__name__)\n",
        "\n",
        "# 原始數據\n",
        "data = [\n",
        "    [1, \"H02U\", 'DH240P23.00', 23, '202502_A.txt, 202502_B.xlsx'],\n",
        "    [2, \"H02D\", 'DH240P11.00', 23, '202502_C.png, 202502_D.csv'],\n",
        "    [3, \"H03F\", 'DH240P10.00', 21, '202502_CD.xlsx, 202502_E.csv, 2025-02_F.csv'],\n",
        "    [4, \"D03F\", 'CH240P10.00', 11, '']\n",
        "]\n",
        "\n",
        "# 轉換為 DataFrame\n",
        "df = pd.DataFrame(data, columns=[\"Issue Number\", \"Chart Name\", \"Lot\", \"Count\", \"File\"])\n",
        "\n",
        "# 產生下載的<a>標籤\n",
        "def generate_file_links(file_string):\n",
        "    if not file_string:\n",
        "        return \"\"\n",
        "\n",
        "    files = file_string.split(', ')\n",
        "    links = []\n",
        "\n",
        "    for file in files:\n",
        "        parts = file.split('_', 1)\n",
        "        if len(parts) > 1:\n",
        "            display_name = parts[1]  # 取 _ 之後的字眼\n",
        "            month = parts[0]  # 取 _ 之前的月份字串\n",
        "            file_id = f\"{month}/{file}\"  # 生成下載 ID\n",
        "\n",
        "            # 使用 <a> 標籤並加入 download 屬性\n",
        "            link = f'<a href=\"/download/{file_id}\" download>{display_name}</a>'\n",
        "            links.append(link)\n",
        "\n",
        "    return \"  \\n\".join(links)  # 使用換行顯示多個檔案\n",
        "\n",
        "df[\"File\"] = df[\"File\"].apply(generate_file_links)\n",
        "\n",
        "app.layout = html.Div([\n",
        "    dash_table.DataTable(\n",
        "        id='table',\n",
        "        columns=[\n",
        "            {\"name\": col, \"id\": col, \"presentation\": \"html\"} if col == \"File\" else {\"name\": col, \"id\": col}\n",
        "            for col in df.columns\n",
        "        ],\n",
        "        data=df.to_dict('records'),\n",
        "        style_table={'overflowX': 'auto'},\n",
        "    ),\n",
        "    dcc.Download(id=\"download-component\")\n",
        "])\n",
        "\n",
        "# 提供檔案下載\n",
        "@app.server.route('/download/<path:file_path>')\n",
        "def download_file(file_path):\n",
        "    # 更新檔案路徑，根據你提供的結構\n",
        "    base_path = '../../data_source/update'\n",
        "    file_path = os.path.join(base_path, file_path)  # 假設文件存放在指定的根目錄\n",
        "    if os.path.exists(file_path):\n",
        "        return send_file(file_path, as_attachment=True)\n",
        "    else:\n",
        "        return \"File not found\", 404\n",
        "\n",
        "if __name__ == '__main__':\n",
        "    app.run_server(debug=True)\n"
      ],
      "metadata": {
        "id": "y-e8HnSWY2M3"
      },
      "execution_count": null,
      "outputs": []
    },
    {
      "cell_type": "markdown",
      "source": [
        "@app.server.route('/download/<path/:file_path>')\n",
        "\n",
        "這段程式碼表示，當用戶訪問 /download/<file_path> 路徑時（例如 /download/?202502_A.txt），Flask 會觸發 download_file 函數，並將 file_path 參數傳遞給它。"
      ],
      "metadata": {
        "id": "9dJv-oLaZIlV"
      }
    },
    {
      "cell_type": "markdown",
      "source": [
        "- <path/:file_path>：這是一個動態路由參數，表示 URL 中的檔案路徑。Flask 會從 URL 中提取 file_path，並將它傳遞給 download_file 函數。\n",
        "\n",
        "- 例如，當你點擊表格中的某個檔案下載鏈接 \"/download?/202502_A.txt\" 時，file_path 的值會是 202502_A.txt，並且此檔案會在你的伺服器上被查找並提供下載。"
      ],
      "metadata": {
        "id": "Dyz0aGTqZQqg"
      }
    }
  ]
}