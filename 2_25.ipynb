{
  "nbformat": 4,
  "nbformat_minor": 0,
  "metadata": {
    "colab": {
      "provenance": [],
      "authorship_tag": "ABX9TyOTk+XrQiU/TTSZQtSpkfv5",
      "include_colab_link": true
    },
    "kernelspec": {
      "name": "python3",
      "display_name": "Python 3"
    },
    "language_info": {
      "name": "python"
    }
  },
  "cells": [
    {
      "cell_type": "markdown",
      "metadata": {
        "id": "view-in-github",
        "colab_type": "text"
      },
      "source": [
        "<a href=\"https://colab.research.google.com/github/Annie00000/Project/blob/main/2_25.ipynb\" target=\"_parent\"><img src=\"https://colab.research.google.com/assets/colab-badge.svg\" alt=\"Open In Colab\"/></a>"
      ]
    },
    {
      "cell_type": "markdown",
      "source": [
        "## 1. 繪圖"
      ],
      "metadata": {
        "id": "vvkCIt7n_rqs"
      }
    },
    {
      "cell_type": "markdown",
      "source": [
        "- x_index_half 不會有最後一個 n+0.5（避免超出範圍）\n",
        "- x 軸仍然顯示原本的 x_labels（但計算用數字）\n",
        "- 灰色背景範圍從 x=0 到 x=0.5（對應 15:00:00 前的部分）\n",
        "- 未來擴展時仍自動適應數據長度"
      ],
      "metadata": {
        "id": "TvZVeY5wAGpo"
      }
    },
    {
      "cell_type": "code",
      "source": [
        "import plotly.graph_objects as go\n",
        "\n",
        "# 原始數據\n",
        "x_labels = [\"20250202_140001 FAH55\", \"20250202_150201 FAH56\", \"20250202_171101 PAH52\"]\n",
        "y_values = [100, 150, 130]\n",
        "\n",
        "# 動態生成 x 軸索引\n",
        "x_index = list(range(len(x_labels)))  # 產生 [0, 1, 2, ..., n]\n",
        "x_index_half = [i + 0.5 for i in x_index[:-1]]  # 產生 [0.5, 1.5, ..., n-0.5] (不包含最後一個)\n",
        "\n",
        "fig = go.Figure()\n",
        "\n",
        "# 添加折線圖，並設定 hovertext\n",
        "fig.add_trace(go.Scatter(\n",
        "    x=x_index,\n",
        "    y=y_values,\n",
        "    mode='lines+markers',\n",
        "    name='數據',\n",
        "    hovertext=x_labels,  # 懸停時顯示原始 x_labels\n",
        "    hoverinfo=\"text+y\"   # 只顯示 hovertext (x_labels) + y 值\n",
        "))\n",
        "\n",
        "# 添加灰色背景 (最早的 x 位置到 +0.5)\n",
        "fig.add_vrect(\n",
        "    x0=x_index[0], x1=x_index[0] + 0.5,  # 只標示第一個點到 0.5\n",
        "    fillcolor=\"gray\", opacity=0.3, layer=\"below\", line_width=0\n",
        ")\n",
        "\n",
        "# 設定 x 軸標籤\n",
        "fig.update_layout(\n",
        "    title=\"自動生成 X 軸索引並保持原始標籤\",\n",
        "    xaxis_title=\"時間+編號\",\n",
        "    yaxis_title=\"數值\",\n",
        "    xaxis=dict(\n",
        "        tickvals=x_index,      # 設定 x 軸的索引\n",
        "        ticktext=x_labels,     # 替換成原始時間+編號\n",
        "        range=[-0.5, len(x_labels) - 1]  # 確保標籤不擠在邊界\n",
        "    )\n",
        ")\n",
        "\n",
        "fig.show()\n"
      ],
      "metadata": {
        "id": "c-lDVwMB_r6v"
      },
      "execution_count": null,
      "outputs": []
    },
    {
      "cell_type": "markdown",
      "source": [
        "## 2. func"
      ],
      "metadata": {
        "id": "rJMuBKqjBf-8"
      }
    },
    {
      "cell_type": "markdown",
      "source": [
        "1. 數字化 x 軸\n",
        "把 x_col 轉成 數字索引 (0, 1, 2, ...)，但 x 軸仍顯示原本的時間+編號。\n",
        "判斷哪些點需要灰底\n",
        "2. 解析 x_col 的時間部分，如果 < start_time，則該點的 .5 索引 會加灰底。\n",
        "3. 畫折線圖 & 加入灰色區間。\n",
        "4. 自動適應不同數據長度。"
      ],
      "metadata": {
        "id": "mwFYFfkZCmQB"
      }
    },
    {
      "cell_type": "code",
      "source": [
        "import pandas as pd\n",
        "import plotly.graph_objects as go\n",
        "\n",
        "def plot_time_series_with_shading(df, x_col, y_col, start_time):\n",
        "    \"\"\"\n",
        "    繪製折線圖，並對 x_col 時間部分小於 start_time 的 0.5 索引點加上灰底。\n",
        "\n",
        "    參數：\n",
        "    - df: pandas DataFrame，包含 x_col 和 y_col\n",
        "    - x_col: str，表示 x 軸的欄位名稱（格式：\"YYYYMMDD_HHMMSS 編號\"）\n",
        "    - y_col: str，表示 y 軸的欄位名稱（數值型）\n",
        "    - start_time: str，格式為 \"HHMMSS\"，用來判別灰底區域\n",
        "\n",
        "    回傳：\n",
        "    - plotly Figure 物件\n",
        "    \"\"\"\n",
        "\n",
        "    # 1️⃣ 生成 x 軸數字索引\n",
        "    df = df.copy()\n",
        "    df[\"x_index\"] = range(len(df))  # 生成 0, 1, 2, ...\n",
        "\n",
        "    # 2️⃣ 解析時間部分，用來判斷灰色區間\n",
        "    df[\"time_part\"] = df[x_col].str.split(\"_\").str[1]  # 提取時間部分 (HHMMSS)\n",
        "\n",
        "    # 3️⃣ 找出需要加灰底的 x_index_half\n",
        "    x_index_half = [\n",
        "        i + 0.5 for i, time_str in zip(df[\"x_index\"], df[\"time_part\"])\n",
        "        if time_str < start_time\n",
        "    ]\n",
        "\n",
        "    # 4️⃣ 建立圖表\n",
        "    fig = go.Figure()\n",
        "\n",
        "    # 添加折線圖\n",
        "    fig.add_trace(go.Scatter(\n",
        "        x=df[\"x_index\"],\n",
        "        y=df[y_col],\n",
        "        mode='lines+markers',\n",
        "        name='數據'\n",
        "    ))\n",
        "\n",
        "    # 5️⃣ 加入灰底區間 (多個範圍)\n",
        "    for x_half in x_index_half:\n",
        "        fig.add_vrect(\n",
        "            x0=x_half - 0.5, x1=x_half,  # 標記區間 (e.g., 0 ~ 0.5)\n",
        "            fillcolor=\"gray\", opacity=0.3, layer=\"below\", line_width=0\n",
        "        )\n",
        "\n",
        "    # 6️⃣ 設定 x 軸標籤\n",
        "    fig.update_layout(\n",
        "        title=\"時間序列折線圖 (帶灰色區間)\",\n",
        "        xaxis_title=x_col,\n",
        "        yaxis_title=y_col,\n",
        "        xaxis=dict(\n",
        "            tickvals=df[\"x_index\"],  # 數字索引\n",
        "            ticktext=df[x_col],      # 保持原本 x 軸顯示\n",
        "            range=[-0.5, len(df) - 0.5]  # 確保不擠在邊界\n",
        "        )\n",
        "    )\n",
        "\n",
        "    return fig\n"
      ],
      "metadata": {
        "id": "76XqgOj-Bhib"
      },
      "execution_count": null,
      "outputs": []
    },
    {
      "cell_type": "markdown",
      "source": [
        "1. x_index 仍為整數索引（0, 1, 2, ...）。\n",
        "2. 灰底範圍用 x_index_half 計算：\n",
        "3. 當 time_part < start_time，對應的 x_index 產生 灰色範圍 x0 = i, x1 = i + 0.5。\n",
        "4. 畫圖時加 add_vrect(x0=i, x1=i+0.5) 來繪製灰色背景。"
      ],
      "metadata": {
        "id": "mIZRIwrfCfPM"
      }
    },
    {
      "cell_type": "code",
      "source": [
        "import pandas as pd\n",
        "import plotly.graph_objects as go\n",
        "\n",
        "def plot_time_series_with_shading(df, x_col, y_col, start_time):\n",
        "    \"\"\"\n",
        "    繪製折線圖，並對 x_col 時間部分小於 start_time 的 0.5 索引點加上灰底。\n",
        "\n",
        "    參數：\n",
        "    - df: pandas DataFrame，包含 x_col 和 y_col\n",
        "    - x_col: str，表示 x 軸的欄位名稱（格式：\"YYYYMMDD_HHMMSS 編號\"）\n",
        "    - y_col: str，表示 y 軸的欄位名稱（數值型）\n",
        "    - start_time: str，格式為 \"HHMMSS\"，用來判別灰底區域\n",
        "\n",
        "    回傳：\n",
        "    - plotly Figure 物件\n",
        "    \"\"\"\n",
        "\n",
        "    # 1️⃣ 生成 x 軸數字索引\n",
        "    df = df.copy()\n",
        "    df[\"x_index\"] = range(len(df))  # 生成 [0, 1, 2, ..., n]\n",
        "\n",
        "    # 2️⃣ 解析時間部分，用來判斷灰色區間\n",
        "    df[\"time_part\"] = df[x_col].str.split(\"_\").str[1]  # 提取時間部分 (HHMMSS)\n",
        "\n",
        "    # 3️⃣ 找出需要加灰底的區間\n",
        "    shade_intervals = [\n",
        "        (i, i + 0.5) for i, time_str in zip(df[\"x_index\"], df[\"time_part\"])\n",
        "        if time_str < start_time\n",
        "    ]\n",
        "\n",
        "    # 4️⃣ 建立圖表\n",
        "    fig = go.Figure()\n",
        "\n",
        "    # 添加折線圖\n",
        "    fig.add_trace(go.Scatter(\n",
        "        x=df[\"x_index\"],\n",
        "        y=df[y_col],\n",
        "        mode='lines+markers',\n",
        "        name='數據'\n",
        "    ))\n",
        "\n",
        "    # 5️⃣ 加入灰底區間 (多個範圍)\n",
        "    for x0, x1 in shade_intervals:\n",
        "        fig.add_vrect(\n",
        "            x0=x0, x1=x1,  # 標記區間 (e.g., 0 ~ 0.5)\n",
        "            fillcolor=\"gray\", opacity=0.3, layer=\"below\", line_width=0\n",
        "        )\n",
        "\n",
        "    # 6️⃣ 設定 x 軸標籤\n",
        "    fig.update_layout(\n",
        "        title=\"時間序列折線圖 (帶灰色區間)\",\n",
        "        xaxis_title=x_col,\n",
        "        yaxis_title=y_col,\n",
        "        xaxis=dict(\n",
        "            tickvals=df[\"x_index\"],  # 數字索引\n",
        "            ticktext=df[x_col],      # 保持原本 x 軸顯示\n",
        "            range=[-0.5, len(df) - 0.5]  # 確保不擠在邊界\n",
        "        )\n",
        "    )\n",
        "\n",
        "    return fig\n"
      ],
      "metadata": {
        "id": "dwP2LLtHCalC"
      },
      "execution_count": null,
      "outputs": []
    }
  ]
}