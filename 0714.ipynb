{
  "nbformat": 4,
  "nbformat_minor": 0,
  "metadata": {
    "colab": {
      "provenance": [],
      "authorship_tag": "ABX9TyMC09FKQ6qeX+QF/tpXheuB",
      "include_colab_link": true
    },
    "kernelspec": {
      "name": "python3",
      "display_name": "Python 3"
    },
    "language_info": {
      "name": "python"
    }
  },
  "cells": [
    {
      "cell_type": "markdown",
      "metadata": {
        "id": "view-in-github",
        "colab_type": "text"
      },
      "source": [
        "<a href=\"https://colab.research.google.com/github/Annie00000/Project/blob/main/0714.ipynb\" target=\"_parent\"><img src=\"https://colab.research.google.com/assets/colab-badge.svg\" alt=\"Open In Colab\"/></a>"
      ]
    },
    {
      "cell_type": "markdown",
      "source": [
        "### 1."
      ],
      "metadata": {
        "id": "AR1e2Fs-_e4Q"
      }
    },
    {
      "cell_type": "code",
      "source": [
        "import numpy as np\n",
        "import plotly.graph_objects as go\n",
        "\n",
        "# 假設你已經有四種對齊方法\n",
        "def align_ncc(ref, target): ...\n",
        "def align_cnn(ref, target): ...\n",
        "def align_window_cnn(ref, target): ...\n",
        "def align_mse(ref, target): ...\n",
        "\n",
        "# 方法清單，對應函式\n",
        "methods = {\n",
        "    \"ncc\": align_ncc,\n",
        "    \"cnn\": align_cnn,\n",
        "    \"window_cnn\": align_window_cnn,\n",
        "    \"mse\": align_mse\n",
        "}\n",
        "\n",
        "def build_alignment_results(signals, ref, method_dict, max_lag=30):\n",
        "    results = {}\n",
        "\n",
        "    for idx, sig in enumerate(signals):\n",
        "        results[idx] = {}\n",
        "        for method_name, method_func in method_dict.items():\n",
        "            # 每個方法回傳 lag list, score list\n",
        "            lag_list, score_list = method_func(ref, sig, max_lag=max_lag)\n",
        "\n",
        "            # 繪圖\n",
        "            fig = go.Figure()\n",
        "            fig.add_trace(go.Scatter(\n",
        "                x=lag_list,\n",
        "                y=score_list,\n",
        "                mode='lines+markers',\n",
        "                name=method_name\n",
        "            ))\n",
        "            fig.update_layout(\n",
        "                title=f\"Signal {idx} - Method: {method_name}\",\n",
        "                xaxis_title=\"Lag\",\n",
        "                yaxis_title=\"Similarity\"\n",
        "            )\n",
        "\n",
        "            x_min = min(lag_list)\n",
        "            x_max = max(lag_list)\n",
        "\n",
        "            results[idx][method_name] = {\n",
        "                \"fig\": fig,\n",
        "                \"x_min\": x_min,\n",
        "                \"x_max\": x_max\n",
        "            }\n",
        "\n",
        "    return results\n"
      ],
      "metadata": {
        "id": "4HMG5Eknzs1-"
      },
      "execution_count": null,
      "outputs": []
    },
    {
      "cell_type": "code",
      "source": [
        "\n",
        "# 任務 2：統計每組訊號、每個方法下的圖的 X 範圍（即 lag 範圍）\n",
        "results = {\n",
        "    signal_idx: {\n",
        "        method_name: {\n",
        "            'fig': fig,\n",
        "            'x_min': min(x),\n",
        "            'x_max': max(x)\n",
        "        }, ...\n",
        "    }, ...\n",
        "}\n",
        "\n",
        "# 若需要全部訊號下的最小x與最大x：\n",
        "global_xmin = min(所有x_min)\n",
        "global_xmax = max(所有x_max)\n"
      ],
      "metadata": {
        "id": "lR5I4UYqzu3k"
      },
      "execution_count": null,
      "outputs": []
    },
    {
      "cell_type": "markdown",
      "source": [
        "## 各idx下的 x_min/x_max 統整"
      ],
      "metadata": {
        "id": "DaMBFs0e10aX"
      }
    },
    {
      "cell_type": "code",
      "source": [
        "def summarize_xrange_per_signal(results):\n",
        "    summary = {}\n",
        "    for idx, methods_data in results.items():\n",
        "        x_mins = [v[\"x_min\"] for v in methods_data.values()]\n",
        "        x_maxs = [v[\"x_max\"] for v in methods_data.values()]\n",
        "        summary[idx] = {\n",
        "            \"x_min_all_methods\": min(x_mins),\n",
        "            \"x_max_all_methods\": max(x_maxs)\n",
        "        }\n",
        "    return summary\n",
        "\n",
        "# 使用\n",
        "summary = summarize_xrange_per_signal(results)\n",
        "for idx, val in summary.items():\n",
        "    print(f\"Signal {idx}: x_min = {val['x_min_all_methods']}, x_max = {val['x_max_all_methods']}\")\n"
      ],
      "metadata": {
        "id": "uhO1Hewo12tx"
      },
      "execution_count": null,
      "outputs": []
    },
    {
      "cell_type": "markdown",
      "source": [
        "* 法2"
      ],
      "metadata": {
        "id": "wnizmDEl35Da"
      }
    },
    {
      "cell_type": "code",
      "source": [
        "def summarize_xrange_per_signal(results):\n",
        "    \"\"\"\n",
        "    input: results = {\n",
        "        idx: {\n",
        "            method_name: {'fig': ..., 'x_min': ..., 'x_max': ...},\n",
        "            ...\n",
        "        },\n",
        "        ...\n",
        "    }\n",
        "\n",
        "    output: {\n",
        "        idx: {\n",
        "            'min_x_min': float,  # 該 idx 所有方法最小 lag\n",
        "            'max_x_max': float   # 該 idx 所有方法最大 lag\n",
        "        }\n",
        "    }\n",
        "    \"\"\"\n",
        "    summary = {}\n",
        "    for idx, methods_data in results.items():\n",
        "        all_x_mins = [mdata['x_min'] for mdata in methods_data.values()]\n",
        "        all_x_maxs = [mdata['x_max'] for mdata in methods_data.values()]\n",
        "        summary[idx] = {\n",
        "            'min_x_min': min(all_x_mins),\n",
        "            'max_x_max': max(all_x_maxs)\n",
        "        }\n",
        "    return summary\n",
        "\n",
        "# 使用\n",
        "summary_per_signal = summarize_xrange_per_signal(results)\n",
        "\n",
        "for idx, val in summary_per_signal.items():\n",
        "    print(f\"Signal {idx}: Min lag across methods = {val['min_x_min']}, Max lag = {val['max_x_max']}\")\n"
      ],
      "metadata": {
        "id": "CH5yg43q36lR"
      },
      "execution_count": null,
      "outputs": []
    }
  ]
}