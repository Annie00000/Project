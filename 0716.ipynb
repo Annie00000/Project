{
  "nbformat": 4,
  "nbformat_minor": 0,
  "metadata": {
    "colab": {
      "provenance": [],
      "authorship_tag": "ABX9TyNKpFlTMTn+5ULsRDptvOPa",
      "include_colab_link": true
    },
    "kernelspec": {
      "name": "python3",
      "display_name": "Python 3"
    },
    "language_info": {
      "name": "python"
    }
  },
  "cells": [
    {
      "cell_type": "markdown",
      "metadata": {
        "id": "view-in-github",
        "colab_type": "text"
      },
      "source": [
        "<a href=\"https://colab.research.google.com/github/Annie00000/Project/blob/main/0716.ipynb\" target=\"_parent\"><img src=\"https://colab.research.google.com/assets/colab-badge.svg\" alt=\"Open In Colab\"/></a>"
      ]
    },
    {
      "cell_type": "code",
      "source": [
        "import matplotlib.pyplot as plt\n",
        "\n",
        "# 假設這是你用來評估哪個圖更好的函數\n",
        "def cal_non_white_pixels(fig1, fig2):\n",
        "    # EX: 比較圖的非白色像素數，回傳 'method_x'\n",
        "    return \"method_1\"  # 要根據實際內容替換邏輯\n",
        "\n",
        "# 假設這是各個方法的繪圖函數\n",
        "def method1(): return draw_figure(\"method_1\")\n",
        "def method2(): return draw_figure(\"method_2\")\n",
        "def method3(): return draw_figure(\"method_3\")\n",
        "def method4(): return draw_figure(\"method_4\")\n",
        "\n",
        "def draw_figure(method_name):\n",
        "    fig, ax = plt.subplots()\n",
        "    ax.plot([1, 2, 3], [1, 2, 3])  # 示例繪圖\n",
        "    ax.set_title(method_name)\n",
        "    return fig\n",
        "\n",
        "# ----------------------------------\n",
        "# 方法與函數的對應關係\n",
        "# ----------------------------------\n",
        "method_dict = {\n",
        "    \"method_1\": method1,\n",
        "    \"method_2\": method2,\n",
        "    \"method_3\": method3,\n",
        "    \"method_4\": method4\n",
        "}\n",
        "\n",
        "# ----------------------------------\n",
        "# 主邏輯：逐步比較、記憶體友善\n",
        "# ----------------------------------\n",
        "methods = list(method_dict.keys())\n",
        "\n",
        "# 初始兩個方法比較\n",
        "best_method = methods[0]\n",
        "best_fig = method_dict[best_method]()  # 先畫第一個圖\n",
        "# best_fig, best_x_data = method_dict[best_method]()  # 回傳df & fig\n",
        "\n",
        "for next_method in methods[1:]:\n",
        "    fig2 = method_dict[next_method]()  # 畫下一個方法(()內放參數)（覆蓋用 fig2）\n",
        "    # fig2, x2 = method_dict[next_method]()\n",
        "\n",
        "    chosen = cal_non_white_pixels(best_fig, fig2)\n",
        "\n",
        "    if chosen == next_method:\n",
        "        # 關閉沒被選中的圖 ，只保留 best_fig, best_method\n",
        "        plt.close(best_fig)\n",
        "        best_fig = fig2\n",
        "        best_method = next_method\n",
        "        # best_x_data = x2  # 儲存對應 x 資料\n",
        "    else:\n",
        "        plt.close(fig2)  # 關閉沒被選中的圖\n",
        "\n",
        "# ----------------------------------\n",
        "# 結果輸出\n",
        "# ----------------------------------\n",
        "print(f\"最終最佳方法：{best_method}\")\n",
        "best_fig.show()\n"
      ],
      "metadata": {
        "id": "3i8jkKK55pGh"
      },
      "execution_count": null,
      "outputs": []
    }
  ]
}