{
  "nbformat": 4,
  "nbformat_minor": 0,
  "metadata": {
    "colab": {
      "provenance": [],
      "authorship_tag": "ABX9TyNWfheCxXvbw+5Itt5b0Uvm",
      "include_colab_link": true
    },
    "kernelspec": {
      "name": "python3",
      "display_name": "Python 3"
    },
    "language_info": {
      "name": "python"
    }
  },
  "cells": [
    {
      "cell_type": "markdown",
      "metadata": {
        "id": "view-in-github",
        "colab_type": "text"
      },
      "source": [
        "<a href=\"https://colab.research.google.com/github/Annie00000/Project/blob/main/6_09.ipynb\" target=\"_parent\"><img src=\"https://colab.research.google.com/assets/colab-badge.svg\" alt=\"Open In Colab\"/></a>"
      ]
    },
    {
      "cell_type": "markdown",
      "source": [
        "##  4 in 1  Link 使用 dash"
      ],
      "metadata": {
        "id": "Gqu-2ee361z_"
      }
    },
    {
      "cell_type": "code",
      "source": [
        "import dash\n",
        "from dash import html, dcc, Input, Output\n",
        "from flask import send_from_directory\n",
        "import os\n",
        "\n",
        "# 圖片基礎資料夾（外部目錄）\n",
        "IMAGE_ROOT = '/path/to/folder'  # ⬅️ 這裡換成你的資料夾路徑\n",
        "\n",
        "app = dash.Dash(__name__)\n",
        "server = app.server\n",
        "\n",
        "# 🔧 自定義圖片提供端點\n",
        "@server.route(\"/images/<path:subpath>\")\n",
        "def serve_image(subpath):\n",
        "    folder, filename = os.path.split(subpath)\n",
        "    return send_from_directory(os.path.join(IMAGE_ROOT, folder), filename)\n",
        "\n",
        "# 主頁面 Layout，使用 dcc.Location 來讀網址參數\n",
        "app.layout = html.Div([\n",
        "    dcc.Location(id='url', refresh=False),\n",
        "    html.Div(id='image-layout')  # 圖片排版區\n",
        "])\n",
        "\n",
        "@app.callback(\n",
        "    Output('image-layout', 'children'),\n",
        "    Input('url', 'search')\n",
        ")\n",
        "def display_images(search):\n",
        "    from urllib.parse import parse_qs\n",
        "\n",
        "    # ✅ 解析網址參數\n",
        "    query = parse_qs(search.lstrip('?'))\n",
        "    chart_name = query.get('chart_name', [''])[0]\n",
        "    create = query.get('create', [''])[0]\n",
        "\n",
        "    if not chart_name or not create:\n",
        "        return html.Div(\"請在網址中提供 chart_name 和 create 參數\")\n",
        "\n",
        "    # ✅ 建構搜尋資料夾路徑\n",
        "    folder_path = os.path.join(IMAGE_ROOT, create)\n",
        "    if not os.path.exists(folder_path):\n",
        "        return html.Div(f\"資料夾不存在: {folder_path}\")\n",
        "\n",
        "    # ✅ 搜尋符合的圖片\n",
        "    files = os.listdir(folder_path)\n",
        "    target_images = [f for f in files if f.startswith(chart_name) and f.lower().endswith(('.png', '.jpg', '.jpeg'))]\n",
        "\n",
        "    # ✅ 定位每個位置的圖片\n",
        "    positions = {\n",
        "        'cpk': None,\n",
        "        'mean': None,\n",
        "        'sigma': None,\n",
        "        'trend': None\n",
        "    }\n",
        "\n",
        "    for fname in target_images:\n",
        "        lname = fname.lower()\n",
        "        if 'cpk' in lname and positions['cpk'] is None:\n",
        "            positions['cpk'] = fname\n",
        "        elif 'mean' in lname and positions['mean'] is None:\n",
        "            positions['mean'] = fname\n",
        "        elif 'sigma' in lname and positions['sigma'] is None:\n",
        "            positions['sigma'] = fname\n",
        "        elif 'trend' in lname and positions['trend'] is None:\n",
        "            positions['trend'] = fname\n",
        "\n",
        "    def img_or_blank(key):\n",
        "        if positions[key]:\n",
        "            src = f\"/images/{create}/{positions[key]}\"\n",
        "            return html.Img(src=src, style={'width': '100%', 'maxHeight': '300px'})\n",
        "        else:\n",
        "            return html.Div(style={'height': '300px', 'width': '100%'})  # 空白佔位\n",
        "\n",
        "    # ✅ 2x2 排列\n",
        "    return html.Div([\n",
        "        html.Div([\n",
        "            html.Div(img_or_blank('cpk'), style={'width': '48%', 'margin': '1%'}),\n",
        "            html.Div(img_or_blank('mean'), style={'width': '48%', 'margin': '1%'})\n",
        "        ], style={'display': 'flex', 'justifyContent': 'space-between'}),\n",
        "        html.Div([\n",
        "            html.Div(img_or_blank('sigma'), style={'width': '48%', 'margin': '1%'}),\n",
        "            html.Div(img_or_blank('trend'), style={'width': '48%', 'margin': '1%'})\n",
        "        ], style={'display': 'flex', 'justifyContent': 'space-between'})\n",
        "    ])\n",
        "\n",
        "if __name__ == '__main__':\n",
        "    app.run_server(debug=True)\n"
      ],
      "metadata": {
        "id": "RH5CHiyz61Ap"
      },
      "execution_count": null,
      "outputs": []
    },
    {
      "cell_type": "markdown",
      "source": [
        "## 生成ppt"
      ],
      "metadata": {
        "id": "4PAmMyAdBicw"
      }
    },
    {
      "cell_type": "code",
      "source": [
        "from io import BytesIO\n",
        "from pptx import Presentation\n",
        "from pptx.util import Inches, Pt\n",
        "from pptx.enum.text import PP_ALIGN\n",
        "\n",
        "# 下載 PPT 的 callback\n",
        "@app.callback(\n",
        "    Output(\"download-data\", \"data\"),\n",
        "    Input(\"download-button\", \"n_clicks\"),\n",
        "    State(\"my-table\", \"derived_virtual_data\"),\n",
        "    prevent_initial_call=True\n",
        ")\n",
        "def download_ppt(n_clicks, filtered_data):\n",
        "    if not filtered_data:\n",
        "        return dash.no_update\n",
        "\n",
        "    prs = Presentation()\n",
        "    slide_layout = prs.slide_layouts[5]  # 空白版面\n",
        "    slide = prs.slides.add_slide(slide_layout)\n",
        "\n",
        "    title_shape = slide.shapes.title\n",
        "    if title_shape:\n",
        "        title_shape.text = \"篩選後資料簡報\"\n",
        "\n",
        "    # 將資料整理成文字放入簡報的 textbox 裡 (這裡示範簡單放文字)\n",
        "    left = Inches(0.5)\n",
        "    top = Inches(1.5)\n",
        "    width = Inches(9)\n",
        "    height = Inches(5)\n",
        "\n",
        "    txBox = slide.shapes.add_textbox(left, top, width, height)\n",
        "    tf = txBox.text_frame\n",
        "    tf.word_wrap = True\n",
        "\n",
        "    # 依欄位名稱產生標題列\n",
        "    columns = filtered_data[0].keys()\n",
        "    header = \"\\t\".join(columns)\n",
        "    p = tf.add_paragraph()\n",
        "    p.text = header\n",
        "    p.font.bold = True\n",
        "    p.font.size = Pt(14)\n",
        "    p.alignment = PP_ALIGN.LEFT\n",
        "\n",
        "    # 資料每列加入一行\n",
        "    for row in filtered_data:\n",
        "        line = \"\\t\".join(str(row[col]) for col in columns)\n",
        "        p = tf.add_paragraph()\n",
        "        p.text = line\n",
        "        p.font.size = Pt(12)\n",
        "        p.alignment = PP_ALIGN.LEFT\n",
        "\n",
        "    # 把 ppt 存到記憶體 buffer\n",
        "    ppt_io = BytesIO()\n",
        "    prs.save(ppt_io)\n",
        "    ppt_io.seek(0)\n",
        "\n",
        "    return dcc.send_bytes(ppt_io.read(), \"filtered_data.pptx\")\n"
      ],
      "metadata": {
        "id": "KcHm2P9HBkG5"
      },
      "execution_count": null,
      "outputs": []
    },
    {
      "cell_type": "markdown",
      "source": [
        "### ppt 範例 (先測試，再放入Dash)"
      ],
      "metadata": {
        "id": "hTPR2qqjD73d"
      }
    },
    {
      "cell_type": "code",
      "source": [
        "import pandas as pd\n",
        "from pptx import Presentation\n",
        "from pptx.util import Inches, Pt\n",
        "import os\n",
        "\n",
        "# 模擬 chart 名單\n",
        "df = pd.DataFrame({\n",
        "    'chart': ['chartA', 'chartB']\n",
        "})\n",
        "\n",
        "# 建立簡報\n",
        "prs = Presentation()\n",
        "\n",
        "# 圖片位置設定（左上、右上、左下、右下）\n",
        "positions = [\n",
        "    (Inches(0.5), Inches(1.5)),   # 1 - 左上\n",
        "    (Inches(5.0), Inches(1.5)),   # 2 - 右上\n",
        "    (Inches(0.5), Inches(4.5)),   # 3 - 左下\n",
        "    (Inches(5.0), Inches(4.5)),   # 4 - 右下\n",
        "]\n",
        "\n",
        "img_width = Inches(4.5)\n",
        "img_height = Inches(3)\n",
        "\n",
        "for chart_name in df['chart']:\n",
        "    slide_layout = prs.slide_layouts[5]  # 空白\n",
        "    slide = prs.slides.add_slide(slide_layout)\n",
        "\n",
        "    # 加入 chart 標題\n",
        "    title_box = slide.shapes.add_textbox(Inches(0.5), Inches(0.2), Inches(9), Inches(1))\n",
        "    title_frame = title_box.text_frame\n",
        "    title_frame.text = chart_name\n",
        "    title_frame.paragraphs[0].font.size = Pt(28)\n",
        "\n",
        "    # 加入圖片（有就放，沒有就跳過）\n",
        "    for i in range(1, 5):\n",
        "        img_path = f\"./images/{chart_name}_{i}.png\"\n",
        "        if os.path.exists(img_path):\n",
        "            left, top = positions[i - 1]\n",
        "            slide.shapes.add_picture(img_path, left, top, width=img_width, height=img_height)\n",
        "        else:\n",
        "            # 空白：不放圖\n",
        "            print(f\"👉 沒找到圖片，略過: {img_path}\")\n",
        "\n",
        "# 儲存簡報\n",
        "prs.save(\"charts_with_missing_images_ok.pptx\")\n"
      ],
      "metadata": {
        "id": "KGJ-NEtSEA2g"
      },
      "execution_count": null,
      "outputs": []
    }
  ]
}