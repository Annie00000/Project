{
  "nbformat": 4,
  "nbformat_minor": 0,
  "metadata": {
    "colab": {
      "provenance": [],
      "authorship_tag": "ABX9TyNcJL/HLwo9chVOl2LalE/B",
      "include_colab_link": true
    },
    "kernelspec": {
      "name": "python3",
      "display_name": "Python 3"
    },
    "language_info": {
      "name": "python"
    }
  },
  "cells": [
    {
      "cell_type": "markdown",
      "metadata": {
        "id": "view-in-github",
        "colab_type": "text"
      },
      "source": [
        "<a href=\"https://colab.research.google.com/github/Annie00000/Project/blob/main/2_20.ipynb\" target=\"_parent\"><img src=\"https://colab.research.google.com/assets/colab-badge.svg\" alt=\"Open In Colab\"/></a>"
      ]
    },
    {
      "cell_type": "markdown",
      "source": [
        "1. src 属性指定图片的路径，alt 属性提供图片的替代文本，width 和 height 属性可以设置图片的尺寸"
      ],
      "metadata": {
        "id": "eEw5iLou1SMn"
      }
    },
    {
      "cell_type": "markdown",
      "source": [
        "</img/ src=\"path/to/image.jpg\" alt=\"Image description\" width=\"100\" height=\"100\">"
      ],
      "metadata": {
        "id": "wEhBVN52-uUY"
      }
    },
    {
      "cell_type": "markdown",
      "source": [
        "2. 通过使用百分比设置图片的宽度，可以使图片在不同设备上自动调整大小："
      ],
      "metadata": {
        "id": "vO4q1sAV1hPy"
      }
    },
    {
      "cell_type": "markdown",
      "source": [
        "</img/ src=\"path/to/image.jpg\" alt=\"Image description\" width=\"100\" height=\"100\">"
      ],
      "metadata": {
        "id": "SLpLRe1x-wHM"
      }
    },
    {
      "cell_type": "markdown",
      "source": [
        "3. 隨機嘗試"
      ],
      "metadata": {
        "id": "UeRFaQJi2Je3"
      }
    },
    {
      "cell_type": "code",
      "source": [
        "import dash\n",
        "import base64\n",
        "import dash_table\n",
        "from dash import html\n",
        "\n",
        "app = dash.Dash(__name__)\n",
        "\n",
        "# ✅ 讀取本地圖片並轉換為 Base64\n",
        "def encode_image(image_path):\n",
        "    with open(image_path, \"rb\") as image_file:\n",
        "        encoded = base64.b64encode(image_file.read()).decode()\n",
        "    return f\"data:image/png;base64,{encoded}\"\n",
        "\n",
        "# ✅ 你的圖片路徑（換成你自己的圖片）\n",
        "image_path = \"your_image.png\"  # 修改成你的本地圖片\n",
        "base64_image = encode_image(image_path)\n",
        "\n",
        "# ✅ Table 數據（Base64 編碼的圖片）\n",
        "data = [\n",
        "    {\"ID\": 1, \"Name\": \"Sample Image\", \"Image\": f'<img src=\"{base64_image}\" class=\"table-img\"/>'},\n",
        "    {\"ID\": 2, \"Name\": \"A very long text that should wrap in the cell to test the word wrapping\", \"Image\": f'<img src=\"{base64_image}\" class=\"table-img\"/>'},\n",
        "    {\"ID\": 3, \"Name\": \"Another Sample Image\", \"Image\": f'<img src=\"{base64_image}\" class=\"table-img\"/>'},\n",
        "]\n",
        "\n",
        "# ✅ Dash Layout\n",
        "app.layout = html.Div([\n",
        "    html.H3(\"Dash Table with Base64 Images and Fixed Height\"),\n",
        "\n",
        "    # ✅ 自定義 CSS\n",
        "    html.Style(\"\"\"\n",
        "        .table-img {\n",
        "            width: 50px;\n",
        "            height: auto;\n",
        "            max-height: 50px; /* 限制最大高度，避免撐開行 */\n",
        "            display: block;\n",
        "            margin: auto;\n",
        "        }\n",
        "    \"\"\"),\n",
        "\n",
        "    dash_table.DataTable(\n",
        "        id=\"table\",\n",
        "        columns=[\n",
        "            {\"name\": \"ID\", \"id\": \"ID\"},\n",
        "            {\"name\": \"Name\", \"id\": \"Name\"},\n",
        "            {\"name\": \"Image\", \"id\": \"Image\", \"presentation\": \"markdown\"},  # ✅ 使用 Markdown 解析 HTML\n",
        "        ],\n",
        "        data=data,\n",
        "        markdown_options={\"html\": True},  # ✅ 允許 Markdown 解析 HTML\n",
        "        style_cell={\"textAlign\": \"center\", \"whiteSpace\": \"normal\", \"height\": \"auto\"},  # 允許換行\n",
        "        style_data_conditional=[\n",
        "            {\n",
        "                'if': {'column_id': 'ID'},\n",
        "                'width': '100px',  # 固定 ID 欄位寬度\n",
        "            },\n",
        "        ],\n",
        "        style_table={\n",
        "            'overflowX': 'auto',\n",
        "            'height': '400px',  # ✅ 固定表格高度\n",
        "            'overflowY': 'auto',  # ✅ 允許滾動\n",
        "        },\n",
        "    )\n",
        "])\n",
        "\n",
        "if __name__ == \"__main__\":\n",
        "    app.run_server(debug=True)\n"
      ],
      "metadata": {
        "id": "hdQVpDK32Jv7"
      },
      "execution_count": null,
      "outputs": []
    },
    {
      "cell_type": "code",
      "source": [
        "img {\n",
        "    max-width: 50px;\n",
        "    max-height: 50px;\n",
        "    display: block;\n",
        "    margin: auto;\n",
        "}"
      ],
      "metadata": {
        "id": "nemnIOle67hH"
      },
      "execution_count": null,
      "outputs": []
    },
    {
      "cell_type": "markdown",
      "source": [
        "4. 不要有 垂直滾動軸"
      ],
      "metadata": {
        "id": "aCkTJxMz6Hf1"
      }
    },
    {
      "cell_type": "code",
      "source": [
        "        style_cell={\n",
        "            \"textAlign\": \"center\",\n",
        "            \"whiteSpace\": \"normal\",  # ✅ 允許換行\n",
        "            \"height\": \"auto\",  # ✅ 行高自適應\n",
        "        },\n",
        "        style_data_conditional=[\n",
        "            {\n",
        "                'if': {'column_id': 'ID'},\n",
        "                'width': '100px',  # ✅ 固定 ID 欄位寬度\n",
        "            },\n",
        "        ],\n",
        "        style_table={\n",
        "            'overflowX': 'auto',  # ✅ 允許水平滾動，但不會有垂直滾動條\n",
        "        },"
      ],
      "metadata": {
        "id": "kfXYEvGJ6KEy"
      },
      "execution_count": null,
      "outputs": []
    },
    {
      "cell_type": "markdown",
      "source": [
        "5. 當 </img/> 放入 Dash DataTable 時，如果圖片的大小影響了行高，導致 style_table 的 height 設置無法生效，可以採取以下 解決方案："
      ],
      "metadata": {
        "id": "8UR_sACG6_9p"
      }
    },
    {
      "cell_type": "markdown",
      "source": [
        "* 限制圖片的最大高度 (max-height)，確保表格行高不會被拉大。\n",
        "*啟用表格的垂直滾動 (overflowY: 'auto')，讓表格內部可滾動，而不影響整體佈局。"
      ],
      "metadata": {
        "id": "5x1zGWcU7FHb"
      }
    },
    {
      "cell_type": "code",
      "source": [
        "import dash\n",
        "import base64\n",
        "import dash_table\n",
        "from dash import html\n",
        "\n",
        "app = dash.Dash(__name__)\n",
        "\n",
        "# ✅ 讀取本地圖片並轉換為 Base64\n",
        "def encode_image(image_path):\n",
        "    with open(image_path, \"rb\") as image_file:\n",
        "        encoded = base64.b64encode(image_file.read()).decode()\n",
        "    return f\"data:image/png;base64,{encoded}\"\n",
        "\n",
        "# ✅ 你的圖片路徑（請換成你的本地圖片）\n",
        "image_path = \"your_image.png\"  # 修改成你的本地圖片\n",
        "base64_image = encode_image(image_path)\n",
        "\n",
        "# ✅ Table 數據（Base64 編碼的圖片）\n",
        "data = [\n",
        "    {\"ID\": 1, \"Name\": \"Sample Image\", \"Image\": f'<img src=\"{base64_image}\" style=\"width:50px; max-height: 50px; display: block; margin: auto;\"/>'},\n",
        "    {\"ID\": 2, \"Name\": \"A very long text that should wrap inside the cell properly\", \"Image\": f'<img src=\"{base64_image}\" style=\"width:50px; max-height: 50px; display: block; margin: auto;\"/>'},\n",
        "    {\"ID\": 3, \"Name\": \"Another Sample Image\", \"Image\": f'<img src=\"{base64_image}\" style=\"width:50px; max-height: 50px; display: block; margin: auto;\"/>'},\n",
        "]\n",
        "\n",
        "# ✅ Dash Layout\n",
        "app.layout = html.Div([\n",
        "    html.H3(\"Dash Table with Base64 Images and Fixed Height\"),\n",
        "    dash_table.DataTable(\n",
        "        id=\"table\",\n",
        "        columns=[\n",
        "            {\"name\": \"ID\", \"id\": \"ID\"},\n",
        "            {\"name\": \"Name\", \"id\": \"Name\"},\n",
        "            {\"name\": \"Image\", \"id\": \"Image\", \"presentation\": \"markdown\"},  # ✅ 啟用 Markdown 支援 HTML\n",
        "        ],\n",
        "        data=data,\n",
        "        markdown_options={\"html\": True},  # ✅ 允許 HTML 標籤\n",
        "        style_cell={\n",
        "            \"textAlign\": \"center\",\n",
        "            \"whiteSpace\": \"normal\",  # ✅ 允許文字換行\n",
        "            \"height\": \"auto\",  # ✅ 自動調整行高\n",
        "        },\n",
        "        style_data_conditional=[\n",
        "            {\n",
        "                'if': {'column_id': 'ID'},\n",
        "                'width': '100px',  # ✅ 固定 ID 欄位寬度\n",
        "            },\n",
        "        ],\n",
        "        style_table={\n",
        "            'height': '400px',  # ✅ 固定表格高度\n",
        "            'overflowY': 'auto',  # ✅ 啟用滾動條\n",
        "        },\n",
        "    )\n",
        "])\n",
        "\n",
        "if __name__ == \"__main__\":\n",
        "    app.run_server(debug=True)\n"
      ],
      "metadata": {
        "id": "9TXp2KBs7H_x"
      },
      "execution_count": null,
      "outputs": []
    }
  ]
}