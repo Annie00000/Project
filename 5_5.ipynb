{
  "nbformat": 4,
  "nbformat_minor": 0,
  "metadata": {
    "colab": {
      "provenance": [],
      "authorship_tag": "ABX9TyPz1HU0N8svNwKhHMhMVjxO",
      "include_colab_link": true
    },
    "kernelspec": {
      "name": "python3",
      "display_name": "Python 3"
    },
    "language_info": {
      "name": "python"
    }
  },
  "cells": [
    {
      "cell_type": "markdown",
      "metadata": {
        "id": "view-in-github",
        "colab_type": "text"
      },
      "source": [
        "<a href=\"https://colab.research.google.com/github/Annie00000/Project/blob/main/5_5.ipynb\" target=\"_parent\"><img src=\"https://colab.research.google.com/assets/colab-badge.svg\" alt=\"Open In Colab\"/></a>"
      ]
    },
    {
      "cell_type": "code",
      "source": [
        "import pandas as pd\n",
        "\n",
        "# 假設你的資料已經載入為 DataFrame `df`\n",
        "# df = pd.read_excel('your_file.xlsx')  # 如果是從Excel讀取資料\n",
        "\n",
        "# 判斷 Grade A 判斷條件 (ProGrp ∈ ['H02U-B1', 'H02U-KB', 'H01U-PB'])\n",
        "def check_grade_a(df):\n",
        "    df['A_rule'] = 0\n",
        "\n",
        "    # 條件 a：ProGrp為['H02U-B1', 'H02U-KB', 'H01U-PB']，且param重複 >= 2次（不分fab）\n",
        "    condition_a = df['ProGrp'].isin(['[H02U-B1]', '[H02U-KB]', '[H01U-PB]'])\n",
        "    df.loc[condition_a, 'A_rule'] = df.loc[condition_a, 'param'].duplicated(keep=False) & (df.groupby('ProGrp')['param'].transform('count') >= 2)\n",
        "\n",
        "    # 條件 b：ProGrp 開頭為 '[SF' 或 '[TF'，直接為A\n",
        "    condition_b = df['ProGrp'].str.startswith('[SF') | df['ProGrp'].str.startswith('[TF')\n",
        "    df.loc[condition_b, 'A_rule'] = 1\n",
        "\n",
        "    # 條件 c：其餘 ProGrp，且同fab下param重複 >= 3次，或rule_result中的數值 > 2\n",
        "    condition_c = ~df['ProGrp'].isin(['[H02U-B1]', '[H02U-KB]', '[H01U-PB]'])\n",
        "    df.loc[condition_c, 'A_rule'] = (df.groupby(['fab', 'ProGrp'])['param'].transform('count') >= 3) | (df['rule_result'].str.contains(r'\\[.*\\]') & df['rule_result'].apply(lambda x: any([int(i) > 2 for i in x.strip('[]').split(',')])))\n",
        "\n",
        "    return df\n",
        "\n",
        "# 判斷 Grade B 判斷條件 (若該玩家出現>=3次，且monthly_fail_flag=1)\n",
        "def check_grade_b(df):\n",
        "    df['B_rule'] = 0\n",
        "\n",
        "    # 根據ID在當月和前5個月資料中，`monthly_fail_flag == 1` 的次數 >= 3\n",
        "    fail_count = df[df['monthly_fail_flag'] == 1].groupby('ID').size()\n",
        "    df['B_rule'] = df['ID'].map(fail_count).ge(3).astype(int)\n",
        "\n",
        "    return df\n",
        "\n",
        "# 判斷 Grade C 判斷條件 (如果 A_rule 和 B_rule 都為0，且monthly_fail_flag=1)\n",
        "def check_grade_c(df):\n",
        "    df['C_rule'] = 0\n",
        "\n",
        "    # 當 A_rule 和 B_rule 都是 0，並且 monthly_fail_flag == 1，則為 C\n",
        "    df['C_rule'] = ((df['A_rule'] == 0) & (df['B_rule'] == 0) & (df['monthly_fail_flag'] == 1)).astype(int)\n",
        "\n",
        "    return df\n",
        "\n",
        "# 最終 Grade 判定，依照 A > B > C\n",
        "def assign_grade(df):\n",
        "    df['grade'] = ''\n",
        "\n",
        "    # 優先順序：A > B > C\n",
        "    df.loc[df['A_rule'] == 1, 'grade'] = 'A'\n",
        "    df.loc[(df['A_rule'] == 0) & (df['B_rule'] == 1), 'grade'] = 'B'\n",
        "    df.loc[(df['A_rule'] == 0) & (df['B_rule'] == 0) & (df['C_rule'] == 1), 'grade'] = 'C'\n",
        "\n",
        "    return df\n",
        "\n",
        "# 主處理流程\n",
        "def process_data(df):\n",
        "    df = check_grade_a(df)  # 判斷 Grade A\n",
        "    df = check_grade_b(df)  # 判斷 Grade B\n",
        "    df = check_grade_c(df)  # 判斷 Grade C\n",
        "    df = assign_grade(df)   # 最終的 Grade 分配\n",
        "    return df\n",
        "\n",
        "# 執行主處理流程\n",
        "df = process_data(df)\n",
        "\n",
        "# 檢視結果\n",
        "print(df[['ID', 'A_rule', 'B_rule', 'C_rule', 'grade']])\n"
      ],
      "metadata": {
        "id": "amMlzdoUiBDf"
      },
      "execution_count": null,
      "outputs": []
    },
    {
      "cell_type": "markdown",
      "source": [
        "222"
      ],
      "metadata": {
        "id": "ekhNs0vAiXwG"
      }
    },
    {
      "cell_type": "code",
      "source": [
        "import pandas as pd\n",
        "\n",
        "# 假設你的資料 DataFrame 叫 df\n",
        "def grade_assignment(df):\n",
        "    # 初始設定新的欄位\n",
        "    df['A_rule'] = 0\n",
        "    df['B_rule'] = 0\n",
        "    df['C_rule'] = 0\n",
        "    df['grade'] = ''\n",
        "\n",
        "    # 只對 monthly_fail_flag == 1 的資料進行判斷\n",
        "    fail_data = df[df['monthly_fail_flag'] == 1]\n",
        "\n",
        "    # A_rule 判斷\n",
        "    def check_A_rule(group):\n",
        "        # 1. ProGrp 條件 a: ProGrp ∈ ['H02U-B1', 'H02U-KB', 'H01U-PB']\n",
        "        if group['ProGrp'].iloc[0] in ['[H02U-B1]', '[H02U-KB]', '[H01U-PB]']:\n",
        "            param_check = group['param'].duplicated().sum() >= 1  # param 重複 >= 2次\n",
        "            rule_result_check = any(group['rule_result'].str.contains(r'\\[.*\\]', na=False).apply(lambda x: float(x.split('[')[1].split(']')[0]) > 2))  #  rule_result 第一個或第二個大於 2\n",
        "            if param_check or rule_result_check:\n",
        "                return True\n",
        "\n",
        "        # 2. ProGrp 開頭為 [SF 或 [TF\n",
        "        elif group['ProGrp'].str.startswith(('[SF', '[TF')).any():\n",
        "            return True\n",
        "\n",
        "        # 3. 其他 ProGrp：檢查 param 重複 >= 3 次 (分fab)\n",
        "        else:\n",
        "            param_check_fab = group.groupby('fab')['param'].apply(lambda x: x.value_counts().max()).max() >= 3  # param 重複 ≥ 3 次\n",
        "            rule_result_check_fab = any(group['rule_result'].str.contains(r'\\[.*\\]', na=False).apply(lambda x: float(x.split('[')[1].split(']')[0]) > 2))  # rule_result 大於 2\n",
        "            if param_check_fab or rule_result_check_fab:\n",
        "                return True\n",
        "\n",
        "        return False\n",
        "\n",
        "    # 遍歷每個玩家 ID (fab + ProGrp + param) 做 A 判斷\n",
        "    for player_id, group in fail_data.groupby(['fab', 'ProGrp', 'param']):\n",
        "        if check_A_rule(group):\n",
        "            df.loc[group.index, 'A_rule'] = 1\n",
        "\n",
        "    # B_rule 判斷\n",
        "    def check_B_rule(player_id):\n",
        "        # 該玩家在 fail 資料中出現 >= 3 次\n",
        "        return fail_data[fail_data['fab'] == player_id].shape[0] >= 3\n",
        "\n",
        "    for player_id in fail_data['fab'].unique():\n",
        "        if check_B_rule(player_id):\n",
        "            df.loc[df['fab'] == player_id, 'B_rule'] = 1\n",
        "\n",
        "    # C_rule 判斷\n",
        "    df.loc[(df['A_rule'] == 0) & (df['B_rule'] == 0) & (df['monthly_fail_flag'] == 1), 'C_rule'] = 1\n",
        "\n",
        "    # 最終 grade 判斷\n",
        "    df['grade'] = df.apply(lambda row: 'A' if row['A_rule'] == 1 else ('B' if row['B_rule'] == 1 else ('C' if row['C_rule'] == 1 else '')), axis=1)\n",
        "\n",
        "    return df\n",
        "\n",
        "# 呼叫該函數，將結果賦值回原 DataFrame\n",
        "df = grade_assignment(df)\n"
      ],
      "metadata": {
        "id": "XEoD0QWHiY6u"
      },
      "execution_count": null,
      "outputs": []
    }
  ]
}