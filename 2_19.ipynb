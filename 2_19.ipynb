{
  "nbformat": 4,
  "nbformat_minor": 0,
  "metadata": {
    "colab": {
      "provenance": [],
      "authorship_tag": "ABX9TyMHNd/2gnk04tz5eFs25LUj",
      "include_colab_link": true
    },
    "kernelspec": {
      "name": "python3",
      "display_name": "Python 3"
    },
    "language_info": {
      "name": "python"
    }
  },
  "cells": [
    {
      "cell_type": "markdown",
      "metadata": {
        "id": "view-in-github",
        "colab_type": "text"
      },
      "source": [
        "<a href=\"https://colab.research.google.com/github/Annie00000/Project/blob/main/2_19.ipynb\" target=\"_parent\"><img src=\"https://colab.research.google.com/assets/colab-badge.svg\" alt=\"Open In Colab\"/></a>"
      ]
    },
    {
      "cell_type": "markdown",
      "source": [
        "### file 下載"
      ],
      "metadata": {
        "id": "Tt0kVxsTUkBa"
      }
    },
    {
      "cell_type": "markdown",
      "source": [
        "1. 使用 html.Button：取代超連結，當按鈕被點擊時，觸發下載。\n",
        "2. 使用 dcc.Download：讓 dcc.Download 控制檔案下載行為。\n",
        "3. 新增 callback：\n",
        " - 監聽點擊的按鈕，判斷是哪個檔案需要下載。\n",
        " - 讀取對應的檔案並觸發 dcc.send_file() 下載。\n",
        "4.確保 file_id 唯一：使用 month/{file} 確保每個檔案按鈕都有獨特 ID。"
      ],
      "metadata": {
        "id": "po_8iMBkUeJP"
      }
    },
    {
      "cell_type": "code",
      "source": [
        "import dash\n",
        "from dash import dcc, html, dash_table, Input, Output\n",
        "import pandas as pd\n",
        "import os\n",
        "\n",
        "app = dash.Dash(__name__)\n",
        "\n",
        "# 原始數據\n",
        "data = [\n",
        "    [1, \"H02U\", 'DH240P23.00', 23, '202502_A.txt, 202502_B.xlsx'],\n",
        "    [2, \"H02D\", 'DH240P11.00', 23, '202502_C.png, 202502_D.csv'],\n",
        "    [3, \"H03F\", 'DH240P10.00', 21, '202502_CD.xlsx, 202502_E.csv, 2025-02_F.csv'],\n",
        "    [4, \"D03F\", 'CH240P10.00', 11, '']\n",
        "]\n",
        "\n",
        "# 轉換為 DataFrame\n",
        "df = pd.DataFrame(data, columns=[\"Issue Number\", \"Chart Name\", \"Lot\", \"Count\", \"File\"])\n",
        "\n",
        "def generate_file_links(file_string):\n",
        "    if not file_string:\n",
        "        return \"\"  # 空值處理\n",
        "\n",
        "    files = file_string.split(', ')\n",
        "    links = []\n",
        "\n",
        "    for file in files:\n",
        "        parts = file.split('_', 1)\n",
        "        if len(parts) > 1:\n",
        "            display_name = parts[1]  # 取 _ 之後的字眼\n",
        "            month = parts[0]  # 取 _ 之前的月份字串\n",
        "            file_id = f\"{month}/{file}\"  # 構造唯一識別符\n",
        "            link = html.Button(display_name, id={'type': 'download-btn', 'index': file_id}, n_clicks=0)\n",
        "            links.append(link)\n",
        "\n",
        "    return links\n",
        "\n",
        "df[\"File\"] = df[\"File\"].apply(generate_file_links)\n",
        "\n",
        "app.layout = html.Div([\n",
        "    dash_table.DataTable(\n",
        "        id='table',\n",
        "        columns=[\n",
        "            {\"name\": col, \"id\": col} if col != \"File\" else {\"name\": col, \"id\": col, \"presentation\": \"markdown\"}\n",
        "            for col in df.columns\n",
        "        ],\n",
        "        data=df.to_dict('records'),\n",
        "        style_table={'overflowX': 'auto'},\n",
        "    ),\n",
        "    dcc.Download(id=\"download-component\")\n",
        "])\n",
        "\n",
        "@app.callback(\n",
        "    Output(\"download-component\", \"data\"),\n",
        "    Input({'type': 'download-btn', 'index': dash.ALL}, \"n_clicks\"),\n",
        "    prevent_initial_call=True\n",
        ")\n",
        "def trigger_download(n_clicks):\n",
        "    ctx = dash.callback_context\n",
        "    if not ctx.triggered:\n",
        "        return dash.no_update\n",
        "\n",
        "    triggered_id = eval(ctx.triggered[0][\"prop_id\"].split(\".\")[0])  # 獲取觸發的 ID\n",
        "    file_path = f\"../../data_source/{triggered_id}\"  # 構造檔案路徑\n",
        "\n",
        "    if os.path.exists(file_path):\n",
        "        return dcc.send_file(file_path)\n",
        "\n",
        "    return dash.no_update\n",
        "\n",
        "if __name__ == '__main__':\n",
        "    app.run_server(debug=True)\n"
      ],
      "metadata": {
        "id": "eNuDTdPbUT5k"
      },
      "execution_count": null,
      "outputs": []
    },
    {
      "cell_type": "markdown",
      "source": [
        "按鈕是 html.Button，預設外觀是普通按鈕，希望它看起來像超連結（藍色+底線），可以\n",
        "\n",
        "1. 透過 html.A 加 dcc.Link，或者調整 html.Button 的 CSS 樣式。"
      ],
      "metadata": {
        "id": "AKxDfniKUsQd"
      }
    },
    {
      "cell_type": "code",
      "source": [
        "link = html.A(display_name, href=\"#\", id={'type': 'download-btn', 'index': file_id}, style={\"color\": \"blue\", \"textDecoration\": \"underline\", \"cursor\": \"pointer\"})"
      ],
      "metadata": {
        "id": "KMjQS5IjVFX1"
      },
      "execution_count": null,
      "outputs": []
    },
    {
      "cell_type": "markdown",
      "source": [
        "2. 修改 html.Button 樣式"
      ],
      "metadata": {
        "id": "pjliY1qvU7hH"
      }
    },
    {
      "cell_type": "code",
      "source": [
        "link = html.Button(display_name, id={'type': 'download-btn', 'index': file_id}, n_clicks=0, style={\"background\": \"none\", \"border\": \"none\", \"color\": \"blue\", \"textDecoration\": \"underline\", \"cursor\": \"pointer\"})\n"
      ],
      "metadata": {
        "id": "3O2e0Y7tVC2A"
      },
      "execution_count": null,
      "outputs": []
    }
  ]
}