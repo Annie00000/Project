{
  "nbformat": 4,
  "nbformat_minor": 0,
  "metadata": {
    "colab": {
      "provenance": [],
      "authorship_tag": "ABX9TyPaPXsOoy4B2oZGSEvrJqbH",
      "include_colab_link": true
    },
    "kernelspec": {
      "name": "python3",
      "display_name": "Python 3"
    },
    "language_info": {
      "name": "python"
    }
  },
  "cells": [
    {
      "cell_type": "markdown",
      "metadata": {
        "id": "view-in-github",
        "colab_type": "text"
      },
      "source": [
        "<a href=\"https://colab.research.google.com/github/Annie00000/Project/blob/main/6_23.ipynb\" target=\"_parent\"><img src=\"https://colab.research.google.com/assets/colab-badge.svg\" alt=\"Open In Colab\"/></a>"
      ]
    },
    {
      "cell_type": "code",
      "source": [
        "import os\n",
        "import pandas as pd\n",
        "from pptx import Presentation\n",
        "from pptx.util import Inches\n",
        "\n",
        "df = pd.DataFrame({\n",
        "    'chart_name': ['chart_A', 'chart_B', 'chart_C', 'chart_D'],\n",
        "    'base_on': ['LOT', 'WAFER', 'WAFER', 'WAFER'],\n",
        "    'stat': ['MEAN', 'MEAN', 'MEAN', 'SIGMA']\n",
        "})\n",
        "\n",
        "prs = Presentation()\n",
        "\n",
        "# 封面頁\n",
        "slide_start = prs.slides.add_slide(prs.slide_layouts[0])\n",
        "slide_start.shapes.title.text = 'review'\n",
        "slide_start.placeholders[1].text = '2025-01-02'\n",
        "\n",
        "# 圖片位置對應\n",
        "img_positions = {\n",
        "    'CPK': (Inches(0.5), Inches(1.5)),\n",
        "    'MEAN_SHIFT': (Inches(5.0), Inches(1.5)),\n",
        "    'SIGMA_RATIO': (Inches(0.5), Inches(4.5)),\n",
        "    'TREND_CHART': (Inches(5.0), Inches(4.5)),\n",
        "}\n",
        "\n",
        "img_width = Inches(4.5)\n",
        "img_height = Inches(3)\n",
        "\n",
        "# === 🧠 預先掃描所有資料夾的圖片檔案 ===\n",
        "# {(base_on, stat): [filename1, filename2, ...]}\n",
        "folder_image_map = {}\n",
        "\n",
        "# 所有組合\n",
        "combinations = df[['base_on', 'stat']].drop_duplicates()\n",
        "\n",
        "for _, row in combinations.iterrows():\n",
        "    base_on, stat = row['base_on'], row['stat']\n",
        "    folder = f\"../../data_source/month/{base_on}/{stat}\"\n",
        "    if not os.path.exists(folder):\n",
        "        print(f\"⚠️ 路徑不存在：{folder}\")\n",
        "        folder_image_map[(base_on, stat)] = []\n",
        "        continue\n",
        "    # 儲存此組合下所有圖片檔名（不含路徑）\n",
        "    folder_image_map[(base_on, stat)] = [\n",
        "        f for f in os.listdir(folder)\n",
        "        if f.endswith('.png') and '___' in f\n",
        "    ]\n",
        "\n",
        "# === 🖼 繪製每個 chart 的圖片頁面 ===\n",
        "for _, chart in df.iterrows():\n",
        "    chart_name = chart['chart_name']\n",
        "    base_on = chart['base_on']\n",
        "    stat = chart['stat']\n",
        "    folder = f\"../../data_source/month/{base_on}/{stat}\"\n",
        "    image_files = folder_image_map.get((base_on, stat), [])\n",
        "\n",
        "    slide = prs.slides.add_slide(prs.slide_layouts[7])\n",
        "    slide.shapes.title.text = chart_name\n",
        "\n",
        "    # 篩出該 chart_name 開頭的圖片\n",
        "    chart_images = [f for f in image_files if f.startswith(chart_name)]\n",
        "\n",
        "    for img_file in chart_images:\n",
        "        try:\n",
        "            file_key = img_file[:-4].split('___')[1]\n",
        "            if file_key not in img_positions:\n",
        "                continue\n",
        "            left, top = img_positions[file_key]\n",
        "            img_path = os.path.join(folder, img_file)\n",
        "            slide.shapes.add_picture(img_path, left, top, width=img_width, height=img_height)\n",
        "        except Exception as e:\n",
        "            print(f\"❌ 無法處理圖片 {img_file}：{e}\")\n",
        "\n",
        "prs.save('output.pptx')\n"
      ],
      "metadata": {
        "id": "Jd2gt70nh2hv"
      },
      "execution_count": null,
      "outputs": []
    },
    {
      "cell_type": "markdown",
      "source": [
        "## 2. monthly callback\n"
      ],
      "metadata": {
        "id": "msaNZJ5flrIS"
      }
    },
    {
      "cell_type": "markdown",
      "source": [
        "✅ 解法 1：儲存 session-id 到 dcc.Store(persistence=True)"
      ],
      "metadata": {
        "id": "_R-JtgaGl1bB"
      }
    },
    {
      "cell_type": "code",
      "source": [
        "# 這會讓使用者在 刷新頁面或誤關閉後重新開啟頁面時，仍保留原來的 session-id。\n",
        "# (這僅對「同一個使用者」瀏覽器刷新有效，若換裝置登入就是新 session。)\n",
        "dcc.Store(id=\"session-id\", data=str(uuid.uuid4()), storage_type='session', persistence=True)"
      ],
      "metadata": {
        "id": "RW_xzjw7ltpy"
      },
      "execution_count": null,
      "outputs": []
    },
    {
      "cell_type": "markdown",
      "source": [
        "✅ 解法 2：讓 update_ui / kill_process 自動 fallback\n",
        "\n",
        "(若抓不到 session_id，自動切換成原本只有按下report狀態)\n",
        "## 注意! 被kill 會沒有寄信"
      ],
      "metadata": {
        "id": "dB5jaxbEl17n"
      }
    },
    {
      "cell_type": "code",
      "source": [
        "## 原本 : progress = progress_pool.get(session_id, default_progress())\n",
        "if session_id not in progress_pool:\n",
        "    return [html.Div(\"⚠️ 尚未啟動流程\")]  # 或 disable interval\n"
      ],
      "metadata": {
        "id": "YDJnMxBYmF6m"
      },
      "execution_count": null,
      "outputs": []
    }
  ]
}