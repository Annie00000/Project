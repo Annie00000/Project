{
  "nbformat": 4,
  "nbformat_minor": 0,
  "metadata": {
    "colab": {
      "provenance": [],
      "authorship_tag": "ABX9TyOeQfn/D0UDxcMr94+VhERL",
      "include_colab_link": true
    },
    "kernelspec": {
      "name": "python3",
      "display_name": "Python 3"
    },
    "language_info": {
      "name": "python"
    }
  },
  "cells": [
    {
      "cell_type": "markdown",
      "metadata": {
        "id": "view-in-github",
        "colab_type": "text"
      },
      "source": [
        "<a href=\"https://colab.research.google.com/github/Annie00000/Project/blob/main/6_4.ipynb\" target=\"_parent\"><img src=\"https://colab.research.google.com/assets/colab-badge.svg\" alt=\"Open In Colab\"/></a>"
      ]
    },
    {
      "cell_type": "markdown",
      "source": [
        "### 1.  select all (根據filter(最終展示的) 勾選)"
      ],
      "metadata": {
        "id": "uTuJ85QQl9SN"
      }
    },
    {
      "cell_type": "code",
      "source": [
        "import dash\n",
        "from dash import Dash, dash_table, html, dcc, Output, Input, State\n",
        "import pandas as pd\n",
        "\n",
        "# 假資料\n",
        "df = pd.DataFrame({\n",
        "    \"姓名\": [\"Alice\", \"Bob\", \"Charlie\", \"David\", 'Cindy'],\n",
        "    \"年齡\": ['25', '30', '35', '40', '30'],\n",
        "    \"城市\": [\"台北\", \"高雄\", \"台中\", \"台南\", \"台北\"]\n",
        "})\n",
        "\n",
        "app = Dash(__name__)\n",
        "\n",
        "app.layout = html.Div([\n",
        "    # ✅ Select All 勾選框\n",
        "    dcc.Checklist(\n",
        "        id='select-all',\n",
        "        options=[{'label': 'Select All (filtered)', 'value': 'all'}],\n",
        "        value=[],\n",
        "        style={'marginBottom': '10px'}\n",
        "    ),\n",
        "\n",
        "    # ✅ DataTable with filter\n",
        "    dash_table.DataTable(\n",
        "        id='my-table',\n",
        "        columns=[{\"name\": i, \"id\": i} for i in df.columns],\n",
        "        data=df.to_dict('records'),\n",
        "        filter_action=\"native\",\n",
        "        row_selectable=\"multi\",\n",
        "        selected_rows=[],\n",
        "        style_table={'overflowX': 'auto'},\n",
        "        style_cell={'textAlign': 'left'}\n",
        "    )\n",
        "])\n",
        "\n",
        "# ✅ Callback：根據 filter 後的資料決定選取哪些列\n",
        "@app.callback(\n",
        "    Output('my-table', 'selected_rows'),\n",
        "    Input('select-all', 'value'),\n",
        "    State('my-table', 'derived_virtual_data'),  # DataTable 篩選後剩下的資料\n",
        "    State('my-table', 'data')\n",
        ")\n",
        "def select_filtered_rows(select_all_value, filtered_data, full_data):\n",
        "    if 'all' in select_all_value and filtered_data is not None:\n",
        "        # 對應回原始資料中的 index (回推哪些 row 在篩選後仍存在。)\n",
        "        return [i for i, row in enumerate(full_data) if row in filtered_data]\n",
        "    return []\n",
        "\n",
        "if __name__ == '__main__':\n",
        "    app.run(debug=True)\n"
      ],
      "metadata": {
        "id": "M-p9zAa0tA2n"
      },
      "execution_count": null,
      "outputs": []
    },
    {
      "cell_type": "markdown",
      "source": [
        "### 2. select all (根據 filter) + 勾選的部分 粉色底色"
      ],
      "metadata": {
        "id": "4BQdkLkWtBiE"
      }
    },
    {
      "cell_type": "code",
      "source": [
        "import dash\n",
        "from dash import Dash, dash_table, html, dcc, Output, Input, State\n",
        "import pandas as pd\n",
        "\n",
        "# 假資料 + 原始索引欄\n",
        "df = pd.DataFrame({\n",
        "    \"姓名\": [\"Alice\", \"Bob\", \"Charlie\", \"David\", 'Cindy'],\n",
        "    \"年齡\": ['25', '30', '35', '40', '30'],\n",
        "    \"城市\": [\"台北\", \"高雄\", \"台中\", \"台南\", \"台北\"]\n",
        "})\n",
        "### 每個 row 需要一個'獨立index'\n",
        "df['_index'] = df.index\n",
        "\n",
        "app = Dash(__name__)\n",
        "\n",
        "app.layout = html.Div([\n",
        "    dcc.Checklist(\n",
        "        id='select-all',\n",
        "        options=[{'label': 'Select All (filtered)', 'value': 'all'}],\n",
        "        value=[],\n",
        "        style={'marginBottom': '10px'}\n",
        "    ),\n",
        "    dash_table.DataTable(\n",
        "        id='my-table',\n",
        "        columns=[{\"name\": i, \"id\": i} for i in df.columns],\n",
        "        data=df.to_dict('records'),\n",
        "        filter_action=\"native\",\n",
        "        row_selectable=\"multi\",\n",
        "        selected_rows=[],\n",
        "        style_table={'overflowX': 'auto'},\n",
        "        style_cell={'textAlign': 'left'},\n",
        "        style_data_conditional=[]\n",
        "    )\n",
        "])\n",
        "\n",
        "# ✅ 控制勾選：根據篩選後資料決定 selected_rows（回傳原始 index）\n",
        "# 1. 取得「篩選後」資料（來自 derived_virtual_data)\n",
        "# 2. 找出這些資料在原始資料中的 index\n",
        "# 3. 回傳這些 _index，正確設定 selected_row (原始資料的)\n",
        "@app.callback(\n",
        "    Output('my-table', 'selected_rows'),\n",
        "    Input('select-all', 'value'),\n",
        "    State('my-table', 'derived_virtual_data'),\n",
        "    State('my-table', 'data')\n",
        ")\n",
        "def select_filtered_rows(select_all_value, filtered_data, full_data):\n",
        "    if 'all' in select_all_value and filtered_data is not None:\n",
        "        return [row['_index'] for row in filtered_data]\n",
        "    return []\n",
        "\n",
        "# ✅ 底色樣式：根據篩選資料中的原始 index 與勾選狀態設定底色\n",
        "# (透過Input: derived_virtual_data，讓 Dash 只要一變動就觸發底色更新 callback，確保樣式正確。)\n",
        "@app.callback(\n",
        "    Output('my-table', 'style_data_conditional'),\n",
        "    Input('my-table', 'derived_virtual_data'),\n",
        "    Input('my-table', 'selected_rows')\n",
        ")\n",
        "def update_row_style(filtered_data, selected_rows):\n",
        "    if not selected_rows or not filtered_data:\n",
        "        return []\n",
        "\n",
        "    return [\n",
        "        {\n",
        "            'if': {'row_index': i},\n",
        "            'backgroundColor': '#ffe6f0',\n",
        "            'border': '1px solid #ff99cc'\n",
        "        }\n",
        "        for i, row in enumerate(filtered_data)\n",
        "        if row.get('_index') in selected_rows\n",
        "    ]\n",
        "\n",
        "if __name__ == '__main__':\n",
        "    app.run(debug=True)"
      ],
      "metadata": {
        "id": "5LWT7-n7tI7u"
      },
      "execution_count": null,
      "outputs": []
    }
  ]
}