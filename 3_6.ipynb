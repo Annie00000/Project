{
  "nbformat": 4,
  "nbformat_minor": 0,
  "metadata": {
    "colab": {
      "provenance": [],
      "authorship_tag": "ABX9TyNzdwE5MtQB1ydafKnB4ejz",
      "include_colab_link": true
    },
    "kernelspec": {
      "name": "python3",
      "display_name": "Python 3"
    },
    "language_info": {
      "name": "python"
    }
  },
  "cells": [
    {
      "cell_type": "markdown",
      "metadata": {
        "id": "view-in-github",
        "colab_type": "text"
      },
      "source": [
        "<a href=\"https://colab.research.google.com/github/Annie00000/Project/blob/main/3_6.ipynb\" target=\"_parent\"><img src=\"https://colab.research.google.com/assets/colab-badge.svg\" alt=\"Open In Colab\"/></a>"
      ]
    },
    {
      "cell_type": "markdown",
      "source": [
        "### 法1"
      ],
      "metadata": {
        "id": "GKzufagMXHfQ"
      }
    },
    {
      "cell_type": "code",
      "source": [
        "import dash\n",
        "from dash import dcc, html, dash_table\n",
        "import pandas as pd\n",
        "\n",
        "# 原始数据\n",
        "data = {\n",
        "    \"id\": [1, 1, 1, 2, 3, 3, 4],\n",
        "    \"name\": [\"aaa\", \"aaa\", \"aaa\", \"bbb\", \"eee\", \"eee\", \"ggg\"],\n",
        "    \"base\": [\"lot\", \"lot\", \"lot\", \"site\", \"lot\", \"lot\", \"site\"],\n",
        "    \"wafer_id\": [\"c_1\", \"c_2\", \"c_3\", \"d_1\", \"f_1\", \"f_2\", \"h_1\"]\n",
        "}\n",
        "\n",
        "df = pd.DataFrame(data)\n",
        "\n",
        "# 按 'id', 'name', 'base' 进行分组，并合并 wafer_id\n",
        "df_grouped = df.groupby([\"id\", \"name\", \"base\"], as_index=False).agg({\n",
        "    \"wafer_id\": lambda x: \", \".join(x)  # 逗号合并 wafer_id\n",
        "})\n",
        "\n",
        "# 生成超链接\n",
        "def generate_link(row):\n",
        "    wafer_ids = row[\"wafer_id\"]\n",
        "    link = f\"https://127.0.0.1:8050/user=a&wafer={wafer_ids}\"\n",
        "\n",
        "    if row[\"base\"] == \"lot\":\n",
        "        display_text = \"all\"\n",
        "    else:\n",
        "        display_text = wafer_ids  # 原本的 wafer_id 文字\n",
        "\n",
        "    return f\"[{display_text}]({link})\"  # markdown 格式超链接\n",
        "\n",
        "df_grouped[\"wafer_id\"] = df_grouped.apply(generate_link, axis=1)\n",
        "\n",
        "# 初始化 Dash 应用\n",
        "app = dash.Dash(__name__)\n",
        "\n",
        "app.layout = html.Div([\n",
        "    html.H3(\"Wafer Data Table (Hyperlink Version)\"),\n",
        "    dash_table.DataTable(\n",
        "        id='table',\n",
        "        columns=[\n",
        "            {\"name\": \"ID\", \"id\": \"id\"},\n",
        "            {\"name\": \"Name\", \"id\": \"name\"},\n",
        "            {\"name\": \"Base\", \"id\": \"base\"},\n",
        "            {\"name\": \"Wafer ID\", \"id\": \"wafer_id\", \"presentation\": \"markdown\"}  # 允许 markdown 显示超链接\n",
        "        ],\n",
        "        data=df_grouped.to_dict('records'),\n",
        "        page_size=5,  # 分页\n",
        "        sort_action=\"native\",  # 允许排序\n",
        "        filter_action=\"native\",  # 允许筛选\n",
        "        style_table={'overflowX': 'auto'}\n",
        "    )\n",
        "])\n",
        "\n",
        "if __name__ == '__main__':\n",
        "    app.run_server(debug=True)\n"
      ],
      "metadata": {
        "id": "UXZbTgf_WXA0"
      },
      "execution_count": null,
      "outputs": []
    },
    {
      "cell_type": "markdown",
      "source": [
        "### 法 2"
      ],
      "metadata": {
        "id": "tC9L2GVWXIL_"
      }
    },
    {
      "cell_type": "code",
      "source": [
        "import dash\n",
        "from dash import dcc, html, dash_table\n",
        "import pandas as pd\n",
        "\n",
        "# 原始数据\n",
        "data = {\n",
        "    \"id\": [1, 1, 1, 2, 3, 3, 4],\n",
        "    \"name\": [\"aaa\", \"aaa\", \"aaa\", \"bbb\", \"eee\", \"eee\", \"ggg\"],\n",
        "    \"base\": [\"lot\", \"lot\", \"lot\", \"site\", \"lot\", \"lot\", \"site\"],\n",
        "    \"wafer_id\": [\"c_1\", \"c_2\", \"c_3\", \"d_1\", \"f_1\", \"f_2\", \"h_1\"]\n",
        "}\n",
        "\n",
        "df = pd.DataFrame(data)\n",
        "\n",
        "# 1️⃣ 对每个 `id`，将所有 `wafer_id` 串联\n",
        "df[\"wafer_id\"] = df.groupby(\"id\")[\"wafer_id\"].transform(lambda x: \", \".join(x))\n",
        "\n",
        "# 2️⃣ `drop_duplicates(\"id\")` 仅保留 `id` 的第一行\n",
        "df = df.drop_duplicates(\"id\")\n",
        "\n",
        "# 3️⃣ 生成超链接\n",
        "def generate_link(row):\n",
        "    wafer_ids = row[\"wafer_id\"]\n",
        "    link = f\"https://127.0.0.1:8050/user=a&wafer={wafer_ids}\"\n",
        "\n",
        "    if row[\"base\"] == \"lot\":\n",
        "        display_text = \"all\"\n",
        "    else:\n",
        "        display_text = wafer_ids  # 原本的 wafer_id 文字\n",
        "\n",
        "    return f\"[{display_text}]({link})\"  # markdown 格式超链接\n",
        "\n",
        "df[\"wafer_id\"] = df.apply(generate_link, axis=1)\n",
        "\n",
        "# 初始化 Dash 应用\n",
        "app = dash.Dash(__name__)\n",
        "\n",
        "app.layout = html.Div([\n",
        "    html.H3(\"Wafer Data Table (Hyperlink Version)\"),\n",
        "    dash_table.DataTable(\n",
        "        id='table',\n",
        "        columns=[\n",
        "            {\"name\": \"ID\", \"id\": \"id\"},\n",
        "            {\"name\": \"Name\", \"id\": \"name\"},\n",
        "            {\"name\": \"Base\", \"id\": \"base\"},\n",
        "            {\"name\": \"Wafer ID\", \"id\": \"wafer_id\", \"presentation\": \"markdown\"}  # 允许 markdown 显示超链接\n",
        "        ],\n",
        "        data=df.to_dict('records'),\n",
        "        page_size=5,  # 分页\n",
        "        sort_action=\"native\",  # 允许排序\n",
        "        filter_action=\"native\",  # 允许筛选\n",
        "        style_table={'overflowX': 'auto'}\n",
        "    )\n",
        "])\n",
        "\n",
        "if __name__ == '__main__':\n",
        "    app.run_server(debug=True)\n"
      ],
      "metadata": {
        "id": "CkNMi2f_XMvZ"
      },
      "execution_count": null,
      "outputs": []
    }
  ]
}