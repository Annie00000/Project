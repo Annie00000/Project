{
  "nbformat": 4,
  "nbformat_minor": 0,
  "metadata": {
    "colab": {
      "provenance": [],
      "authorship_tag": "ABX9TyMaNJTL+EY59bWuzXeK/3jY",
      "include_colab_link": true
    },
    "kernelspec": {
      "name": "python3",
      "display_name": "Python 3"
    },
    "language_info": {
      "name": "python"
    }
  },
  "cells": [
    {
      "cell_type": "markdown",
      "metadata": {
        "id": "view-in-github",
        "colab_type": "text"
      },
      "source": [
        "<a href=\"https://colab.research.google.com/github/Annie00000/Project/blob/main/0703.ipynb\" target=\"_parent\"><img src=\"https://colab.research.google.com/assets/colab-badge.svg\" alt=\"Open In Colab\"/></a>"
      ]
    },
    {
      "cell_type": "code",
      "source": [
        "### align 整體形狀\n",
        "import numpy as np\n",
        "import matplotlib.pyplot as plt\n",
        "from scipy.signal import correlate\n",
        "\n",
        "def compute_alignment_offsets(signals, reference_index=0):\n",
        "    \"\"\"對每段訊號與參考訊號做 cross-correlation，回傳對齊所需的 lag（offset）\"\"\"\n",
        "    # cross-correlation 對齊的是整體形狀， 而不是特定值\n",
        "    ref = signals[reference_index]\n",
        "    offsets = []\n",
        "\n",
        "    for sig in signals:\n",
        "        corr = correlate(sig, ref, mode='full', method='fft') # 用fft加速  (method='direct'（時域）window 一格格滑動)\n",
        "        # lag : 要把 sig 往右移多少（正值），才能和參考訊號對齊\n",
        "        # (若 lag < 0：表示該訊號「比參考早出現)\n",
        "        lag = np.argmax(corr) - (len(ref) - 1)\n",
        "        offsets.append(lag)\n",
        "\n",
        "    return offsets\n",
        "\n",
        "def plot_aligned_signals(signals, offsets, reference_index=0):\n",
        "    ref_offset = offsets[reference_index]\n",
        "\n",
        "    plt.figure(figsize=(12, 5))\n",
        "    for i, (sig, offset) in enumerate(zip(signals, offsets)):\n",
        "        shift = offset - ref_offset  # 參考訊號的 shift = 0，其他依照差值\n",
        "        ## 調整 對齊 所做的平移處理\n",
        "        x = np.arange(len(sig)) - shift  # 這會調整 x 軸的起始點 (ex: sig1 往右移動了兩格(-(-2)))\n",
        "        plt.plot(x, sig, label=f\"Signal {i} (lag={offset})\")\n",
        "\n",
        "    plt.title(\"Correctly Aligned Signals (ref fixed)\")\n",
        "    plt.xlabel(\"Aligned Time Index\")\n",
        "    plt.grid(True)\n",
        "    plt.legend()\n",
        "    plt.show()\n",
        "\n",
        "# 測試資料\n",
        "signals = [\n",
        "    np.array([0, 0, 1, 2, 3, 2, 1, 0]),  # ref\n",
        "    np.array([1, 2, 3, 2, 1, 0]),     # lag = -2 (比 ref 早出現 2 個單位時間。)\n",
        "    np.array([0, 1, 2, 3, 2, 1]),     # lag = -1 (比 ref 早出現 1 個單位時間。)\n",
        "]\n",
        "\n",
        "offsets = compute_alignment_offsets(signals)\n",
        "plot_aligned_signals(signals, offsets, reference_index=0)\n"
      ],
      "metadata": {
        "id": "8JQu9SosQ6Xl"
      },
      "execution_count": null,
      "outputs": []
    },
    {
      "cell_type": "markdown",
      "source": [
        "## 找 lag 方法"
      ],
      "metadata": {
        "id": "5HfHgat7RCDw"
      }
    },
    {
      "cell_type": "markdown",
      "source": [
        "1. Normalized Cross-Correlation 👉 抵抗振幅差異\n",
        "  - 若你的訊號振幅不同，但波形相似，可用z-score 正規化後再做互相關\n",
        "  - 對不同能量的訊號更公平（如有雜訊）\n",
        "  - 適合非同步振幅，但形狀趨勢相同的訊號\n",
        "2. Peak Matching（峰值比對）👉 適合事件驅動訊號（如脈衝）\n",
        "  - 找每個訊號的主要峰值（如最大值），根據它們的位置來對齊\n",
        "  - 快速簡單， 適合訊號中有明顯尖峰、突變點\n",
        "\n",
        "3. Phase Correlation（相位相關） 👉 頻域找平移量，常用於圖像/序列對齊\n",
        "  - 這種方法是找頻域相位差，理論上對縮放、亮度變化更穩健，也可套用於一維訊號：\n",
        "  - 頻域方法，不需時域滑動\n",
        "  - 抵抗整體能量變化\n",
        "  - 較適合長訊號、影像、週期性波形\n",
        "\n"
      ],
      "metadata": {
        "id": "w3oEBGf2RYt4"
      }
    },
    {
      "cell_type": "code",
      "source": [
        "# 1. Normalized Cross-Correlation\n",
        "from scipy.signal import correlate\n",
        "from scipy.stats import zscore\n",
        "sig_norm = zscore(sig)\n",
        "ref_norm = zscore(ref)\n",
        "corr = correlate(sig_norm, ref_norm, mode='full', method='fft')\n",
        "lag = np.argmax(corr) - (len(ref) - 1)\n",
        "\n",
        "\n",
        "# 2. Peak Matching（峰值比對）\n",
        "peak_sig = np.argmax(sig)\n",
        "peak_ref = np.argmax(ref)\n",
        "lag = peak_sig - peak_ref\n",
        "\n",
        "# 3.\n",
        "def phase_correlation(sig, ref):\n",
        "    # zero-pad to same length\n",
        "    n = len(sig) + len(ref)\n",
        "    f1 = np.fft.fft(sig, n)\n",
        "    f2 = np.fft.fft(ref, n)\n",
        "    cross_power = (f1 * np.conj(f2)) / np.abs(f1 * np.conj(f2))\n",
        "    corr = np.fft.ifft(cross_power)\n",
        "    lag = np.argmax(np.abs(corr))\n",
        "    lag = lag if lag < n // 2 else lag - n\n",
        "    return lag"
      ],
      "metadata": {
        "id": "UZ9YKMl4RGbC"
      },
      "execution_count": null,
      "outputs": []
    },
    {
      "cell_type": "markdown",
      "source": [
        "| 方法                    | 適用狀況      | 是否會改變值 | 抵抗振幅差異 | 可加速    | 是否非線性對齊 |\n",
        "| --------------------- | --------- | ------ | ------ | ------ | ------- |\n",
        "| Cross-Correlation     | 一般對齊      | ❌      | 🚫     | ✅（FFT） | ❌       |\n",
        "| Normalized Cross-Corr | 波形相似但強度不同 | ❌      | ✅      | ✅      | ❌       |\n",
        "| Peak Matching         | 明顯脈衝      | ❌      | 🚫     | ✅      | ❌       |\n",
        "| Phase Correlation     | 頻率一致的訊號   | ❌      | ✅      | ✅      | ❌       |\n",
        "| DTW                   | 結構類似但速率不同 | ✅（非線性） | ✅      | ❌      | ✅       |\n",
        "| Manual Anchoring      | 有明確特徵點    | ❌      | ✅      | ✅      | ❌       |\n",
        "\n",
        "\n",
        "* 抵抗震幅差異 : 當兩條波形的整體強度（振幅 / 高度）不同，但形狀趨勢相似，這時還能準確找出它們的相似位置、對齊點。"
      ],
      "metadata": {
        "id": "ZSYHUCg1SXme"
      }
    },
    {
      "cell_type": "markdown",
      "source": [
        "### 一階微分"
      ],
      "metadata": {
        "id": "yan24mqQUsSG"
      }
    },
    {
      "cell_type": "code",
      "source": [
        "x = np.array([10, 15, 20, 25, 30])\n",
        "# 1. 向前分差  (要快、簡單對齊（如互相關）)\n",
        "np.diff(x) # [5, 5, 5, 5]  # forward: x[n+1] - x[n]\n",
        "# 2. 中心分差 Central difference (要精確模擬導數（如頻率/速度變化）)\n",
        "(x[2:] - x[:-2]) / 2 # ➜ [5, 5, 5]"
      ],
      "metadata": {
        "id": "QPXiStbXUurU"
      },
      "execution_count": null,
      "outputs": []
    },
    {
      "cell_type": "code",
      "source": [],
      "metadata": {
        "id": "uDUUet1sVHFv"
      },
      "execution_count": null,
      "outputs": []
    }
  ]
}