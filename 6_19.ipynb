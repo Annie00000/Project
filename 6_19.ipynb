{
  "nbformat": 4,
  "nbformat_minor": 0,
  "metadata": {
    "colab": {
      "provenance": [],
      "authorship_tag": "ABX9TyMByOIXRawjMhHGtHbbeEzz",
      "include_colab_link": true
    },
    "kernelspec": {
      "name": "python3",
      "display_name": "Python 3"
    },
    "language_info": {
      "name": "python"
    }
  },
  "cells": [
    {
      "cell_type": "markdown",
      "metadata": {
        "id": "view-in-github",
        "colab_type": "text"
      },
      "source": [
        "<a href=\"https://colab.research.google.com/github/Annie00000/Project/blob/main/6_19.ipynb\" target=\"_parent\"><img src=\"https://colab.research.google.com/assets/colab-badge.svg\" alt=\"Open In Colab\"/></a>"
      ]
    },
    {
      "cell_type": "markdown",
      "source": [
        "## 全 VARCHAR 的潛在問題"
      ],
      "metadata": {
        "id": "siIFVqWl5syA"
      }
    },
    {
      "cell_type": "markdown",
      "source": [
        "### 1. 資料型別不明確 → 易出錯"
      ],
      "metadata": {
        "id": "Vb-O0Wx15u4q"
      }
    },
    {
      "cell_type": "markdown",
      "source": [
        "| 問題類型   | 範例                                 |\n",
        "| ------ | ---------------------------------- |\n",
        "| 錯誤排序   | `'10' < '2'` → 文字排序與數字排序不同         |\n",
        "| 無法數值運算 | `SUM('123')` 不會報錯，但會很危險（隱式轉型）或直接失敗 |\n",
        "| 濫用欄位   | 本來是日期，但有人塞「unknown」進去也不會錯，造成資料污染   |\n",
        "\n",
        "\n",
        "👉 建議：明確類型應使用正確型別（如 INTEGER, DATE, TIMESTAMP）"
      ],
      "metadata": {
        "id": "CdToW7-u5ovJ"
      }
    },
    {
      "cell_type": "markdown",
      "source": [
        "### 2. 索引效率較差\n",
        "\n",
        "- 對 VARCHAR（尤其長欄位）建立 index，效率會低於固定長度欄位。\n",
        "\n",
        "- 比對成本高、排序效率差，甚至佔更多 index page 空間。\n",
        "\n",
        "👉 建議：關鍵查詢欄位（如 ID、狀態碼）使用 CHAR(n) 或 INTEGER 更快"
      ],
      "metadata": {
        "id": "voYBQ7OW5y60"
      }
    },
    {
      "cell_type": "code",
      "source": [
        "CREATE TABLE COMMENT (\n",
        "    ISSUE_NUMBER     VARCHAR(32)      NOT NULL,      # -- ID，保留 VARCHAR\n",
        "    REVIEW_MONTH     CHAR(6)          NOT NULL,    # -- 格式建議 YYYYMM，故用 CHAR(6)\n",
        "    CHART_NAME       VARCHAR(128)     NOT NULL,     # -- 圖表名稱，可考慮縮短上限\n",
        "    PRODGRP_ID       VARCHAR(32)      NOT NULL,     # -- 產品群組 ID，保留 VARCHAR\n",
        "    CATEGORY         CHAR(3)          NOT NULL,     # -- 若是代碼（如 HBT、SF），用固定長度\n",
        "    FAB              CHAR(4)          NOT NULL,     # -- 廠別名稱（如 F12），用 CHAR\n",
        "    PARAM_ID         VARCHAR(32)      NOT NULL,     # -- 參數名稱\n",
        "    CHART_GROUP      VARCHAR(64),                   # -- 分群 ID，自由長度\n",
        "    BASE_ON          CHAR(3)          NOT NULL,     # -- 判定依據，如 AVG、MAX...\n",
        "    STAT             CHAR(3)          NOT NULL,     # -- 統計方法（如 MS、SD）\n",
        "    CAUSE_CATEGORY   VARCHAR(64),                   # -- 原因分類\n",
        "    TID_COMMENT      VARCHAR(2048),                          # -- 可大量文字，建議改 CLOB\n",
        "    TID_ACTION       VARCHAR(128),                  # -- 動作說明\n",
        "    REFER_FILE_1     VARCHAR(128),                  # -- 檔案名稱，128 通常夠用\n",
        "    REFER_FILE_2     VARCHAR(128),\n",
        "    REFER_FILE_3     VARCHAR(128),\n",
        "    TID_USER         VARCHAR(32),                   # -- 提交者\n",
        "    TID_UPDATE_TIME  TIMESTAMP   NULL,      # -- 修改時間 → 用時間型別\n",
        "    QCE_COMMENT      VARCHAR(2048),                          # -- 同上\n",
        "    QCE_ACTION       VARCHAR(2048),                          # -- 同上\n",
        "    QCE_USER         VARCHAR(32),                   # -- 品管確認者\n",
        "    QCE_UPDATE_TIME  TIMESTAMP NULL,      # -- 確認時間\n",
        "    CREATE_TIME      TIMESTAMP       NOT NULL,      # -- 建立時間\n",
        "    TRACKING         VARCHAR(512),                  # -- 補充追蹤說明\n",
        "    HISTORY_FLAG     CHAR(1)         NOT NULL,      # -- 0 或 1，布林旗標\n",
        "    CONSTRAINT pk_id PRIMARY KEY (\n",
        "        ISSUE_NUMBER, REVIEW_MONTH, CHART_NAME,\n",
        "        BASE_ON, STAT, TID_UPDATE_TIME, QCE_UPDATE_TIME\n",
        "    )\n",
        ");\n",
        "\n",
        "## PRIMARY KEY (ISSUE_NUMBER, TID_UPDATE_TIME, QCE_UPDATE_TIME)\n",
        "\n",
        "## 一次只會更新 一個 TID/QCE _ TIME 可以 TIMESTAMP ???"
      ],
      "metadata": {
        "id": "ist8a2WU6Q6x"
      },
      "execution_count": null,
      "outputs": []
    },
    {
      "cell_type": "markdown",
      "source": [
        "### Q : 一次只會更新 一個 TID/QCE _ TIME 可以使用 TIMESTAMP ???"
      ],
      "metadata": {
        "id": "Owpn0Drv8RQ6"
      }
    },
    {
      "cell_type": "markdown",
      "source": [
        "- 只更新其中一個時間欄位，另一個欄位會保持原樣（不變）\n",
        "\n",
        "- insert : 可以自己填入像 '2025-06-01 10:00:00' 這樣的字串，只要它格式符合 IBM Db2 TIMESTAMP 的標準格式，Db2 會自動幫你轉成 TIMESTAMP 型態存入。\n",
        "(只要UPDATE語句沒有針對某欄位更新，該欄位就不會改變。)"
      ],
      "metadata": {
        "id": "L842HCxL8pqR"
      }
    }
  ]
}