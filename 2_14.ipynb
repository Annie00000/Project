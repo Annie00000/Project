{
  "nbformat": 4,
  "nbformat_minor": 0,
  "metadata": {
    "colab": {
      "provenance": [],
      "authorship_tag": "ABX9TyNPq+EoqMQlx4jxgnhdstJU",
      "include_colab_link": true
    },
    "kernelspec": {
      "name": "python3",
      "display_name": "Python 3"
    },
    "language_info": {
      "name": "python"
    }
  },
  "cells": [
    {
      "cell_type": "markdown",
      "metadata": {
        "id": "view-in-github",
        "colab_type": "text"
      },
      "source": [
        "<a href=\"https://colab.research.google.com/github/Annie00000/Project/blob/main/2_14.ipynb\" target=\"_parent\"><img src=\"https://colab.research.google.com/assets/colab-badge.svg\" alt=\"Open In Colab\"/></a>"
      ]
    },
    {
      "cell_type": "markdown",
      "source": [
        "## 1. dash table 相關"
      ],
      "metadata": {
        "id": "DqWSbkTT0jIg"
      }
    },
    {
      "cell_type": "markdown",
      "source": [
        "#### 1-1. 篩選"
      ],
      "metadata": {
        "id": "fF511Gej2Mmi"
      }
    },
    {
      "cell_type": "code",
      "source": [
        "app.layout = html.Div([\n",
        "    dash_table.DataTable(\n",
        "        id='table',\n",
        "        columns=[{\"name\": i, \"id\": i} for i in df.columns],\n",
        "        data=df.to_dict('records'),\n",
        "        filter_action=\"native\",  # 啟用內建篩選\n",
        "        fixed_rows={'headers': True}  # 固定標題\n",
        "    )\n",
        "])"
      ],
      "metadata": {
        "id": "vGiQHbKN0mMr"
      },
      "execution_count": null,
      "outputs": []
    },
    {
      "cell_type": "markdown",
      "source": [
        "#### 1-2. 固定標題"
      ],
      "metadata": {
        "id": "JIeETeqg2Ozo"
      }
    },
    {
      "cell_type": "markdown",
      "source": [
        "是的！如果 dash_table.DataTable 的欄位很多，會自動出現水平捲動條，你可以使用 fixed_rows={'headers': True} 來固定標題列，並搭配 style_table 設定 overflowX=\"auto\" 來確保表格可以水平滾動。"
      ],
      "metadata": {
        "id": "vEZpviHP2SEe"
      }
    },
    {
      "cell_type": "code",
      "source": [
        "import dash\n",
        "from dash import dcc, html, dash_table\n",
        "import pandas as pd\n",
        "\n",
        "app = dash.Dash(__name__)\n",
        "\n",
        "# 產生多欄位的範例數據\n",
        "df = pd.DataFrame({\n",
        "    \"姓名\": [\"Alice\", \"Bob\", \"Charlie\", \"David\"],\n",
        "    \"年齡\": [25, 30, 35, 40],\n",
        "    \"城市\": [\"台北\", \"台中\", \"高雄\", \"新北\"],\n",
        "    \"職業\": [\"工程師\", \"設計師\", \"醫生\", \"老師\"],\n",
        "    \"公司\": [\"公司A\", \"公司B\", \"公司C\", \"公司D\"],\n",
        "    \"興趣\": [\"閱讀\", \"運動\", \"音樂\", \"電影\"],\n",
        "    \"國籍\": [\"台灣\", \"美國\", \"日本\", \"德國\"],\n",
        "    \"婚姻狀態\": [\"未婚\", \"已婚\", \"未婚\", \"已婚\"],\n",
        "    \"收入\": [50000, 60000, 70000, 80000],\n",
        "    \"語言\": [\"中文\", \"英文\", \"日文\", \"德文\"]\n",
        "})\n",
        "\n",
        "app.layout = html.Div([\n",
        "    dash_table.DataTable(\n",
        "        id='table',\n",
        "        columns=[{\"name\": i, \"id\": i} for i in df.columns],\n",
        "        data=df.to_dict('records'),\n",
        "\n",
        "        # 啟用篩選功能\n",
        "        filter_action=\"native\",\n",
        "\n",
        "        # 啟用排序功能\n",
        "        sort_action=\"native\",\n",
        "\n",
        "        # 固定標題列\n",
        "        fixed_rows={'headers': True},\n",
        "\n",
        "        # 設定表格最大高度，讓標題可見 (允許水平捲動：style_table={'overflowX': 'auto'})\n",
        "        style_table={'height': '400px', 'overflowY': 'auto', 'overflowX': 'auto'},\n",
        "\n",
        "        # 設定標題列樣式\n",
        "        style_header={\n",
        "            'backgroundColor': 'lightgrey',\n",
        "            'fontWeight': 'bold',\n",
        "            'textAlign': 'center'\n",
        "        },\n",
        "\n",
        "        # 設定內容樣式 (調整欄寬，避免欄位過寬或過窄)\n",
        "        style_cell={\n",
        "            'minWidth': '100px', 'maxWidth': '200px', 'whiteSpace': 'normal',\n",
        "            'textAlign': 'left'\n",
        "        }\n",
        "    )\n",
        "])\n",
        "\n",
        "if __name__ == '__main__':\n",
        "    app.run_server(debug=True)\n"
      ],
      "metadata": {
        "id": "OuGARNAu2RMF"
      },
      "execution_count": null,
      "outputs": []
    },
    {
      "cell_type": "markdown",
      "source": [
        "## 2. 圖片"
      ],
      "metadata": {
        "id": "iO7GWbZh6uZP"
      }
    },
    {
      "cell_type": "markdown",
      "source": [
        "#### 2-1. flask 圖片"
      ],
      "metadata": {
        "id": "9aBD6Xhp_5Z7"
      }
    },
    {
      "cell_type": "code",
      "source": [
        "import os\n",
        "from flask import Flask, send_from_directory\n",
        "import dash\n",
        "from dash import dcc, html, dash_table\n",
        "from dash.dependencies import Input, Output\n",
        "\n",
        "# ✅ 圖片資料夾的根目錄（請修改為你的實際路徑）\n",
        "IMAGE_ROOT = os.path.abspath(\"../../../data_source\")\n",
        "\n",
        "# ✅ 初始化 Dash（使用 Flask 提供靜態檔案服務）\n",
        "server = Flask(__name__)\n",
        "app = dash.Dash(__name__, server=server)\n",
        "\n",
        "# ✅ Flask 端點，提供圖片\n",
        "@server.route(\"/images/<path:image_path>\")\n",
        "def serve_image(image_path):\n",
        "    \"\"\"提供靜態圖片\"\"\"\n",
        "    directory, filename = os.path.split(image_path)\n",
        "    return send_from_directory(directory, filename)\n",
        "\n",
        "# ✅ 範例表格數據\n",
        "df = [\n",
        "    {\"row_index\": 1, \"date\": \"20240210\", \"base\": \"A\", \"STAT\": \"X\", \"chart_name\": \"chart1\", \"time\": \"1200\"},\n",
        "    {\"row_index\": 2, \"date\": \"20240210\", \"base\": \"A\", \"STAT\": \"X\", \"chart_name\": \"chart1\", \"time\": \"1200\"},\n",
        "    {\"row_index\": 3, \"date\": \"20240210\", \"base\": \"A\", \"STAT\": \"X\", \"chart_name\": \"chart1\", \"time\": \"1200\"},\n",
        "    {\"row_index\": 4, \"date\": \"20240211\", \"base\": \"B\", \"STAT\": \"Y\", \"chart_name\": \"chart2\", \"time\": \"1300\"},\n",
        "    {\"row_index\": 5, \"date\": \"20240212\", \"base\": \"C\", \"STAT\": \"Z\", \"chart_name\": \"chart3\", \"time\": \"1400\"},\n",
        "    {\"row_index\": 6, \"date\": \"20240212\", \"base\": \"C\", \"STAT\": \"Z\", \"chart_name\": \"chart3\", \"time\": \"1400\"},\n",
        "    {\"row_index\": 7, \"date\": \"20240212\", \"base\": \"C\", \"STAT\": \"Z\", \"chart_name\": \"chart3\", \"time\": \"1400\"},\n",
        "    {\"row_index\": 8, \"date\": \"20240212\", \"base\": \"C\", \"STAT\": \"Z\", \"chart_name\": \"chart3\", \"time\": \"1400\"},\n",
        "]\n",
        "\n",
        "# ✅ Dash Layout\n",
        "app.layout = html.Div([\n",
        "    html.H1(\"Dash Table + 自動顯示符合條件的圖片\"),\n",
        "\n",
        "    # ✅ Table 顯示所有 row\n",
        "    dash_table.DataTable(\n",
        "        id='table',\n",
        "        columns=[{\"name\": i, \"id\": i} for i in df[0].keys()],\n",
        "        data=df,\n",
        "        style_table={'overflowX': 'auto', 'height': '400px'},\n",
        "        fixed_rows={'headers': True}\n",
        "    ),\n",
        "\n",
        "    html.H3(\"對應的圖片：\"),\n",
        "\n",
        "    # ✅ 這裡放所有符合條件的圖片\n",
        "    html.Div(id=\"figure_div\", style={\"display\": \"flex\", \"flex-wrap\": \"wrap\"}) # 確保圖片可以自動換行\n",
        "])\n",
        "\n",
        "# ✅ 動態生成符合條件的圖片路徑\n",
        "def get_image_path(row):\n",
        "    \"\"\"根據 row 內容計算對應的圖片路徑\"\"\"\n",
        "    image_filename = f\"{row['chart_name']}__{row['base']}__{row['time']}.png\"\n",
        "    image_folder = os.path.join(IMAGE_ROOT, row[\"date\"], row[\"base\"], \"figure\", row[\"STAT\"])\n",
        "    image_path = os.path.join(image_folder, image_filename)\n",
        "\n",
        "    # 確保圖片存在\n",
        "    if os.path.exists(image_path):\n",
        "        return image_filename, f\"/images/{image_path}\"\n",
        "    else:\n",
        "        return None, None  # 若找不到圖片則回傳 None\n",
        "\n",
        "# ✅ 計算 Table 內所有符合條件的圖片，並顯示在 `figure_div`\n",
        "@app.callback(\n",
        "    Output(\"figure_div\", \"children\"),\n",
        "    Input(\"table\", \"data\")\n",
        ")\n",
        "def update_images(table_data):\n",
        "    if not table_data:\n",
        "        return html.Div(\"無資料\")\n",
        "\n",
        "    # 存放已經顯示過的圖片，避免重複顯示\n",
        "    unique_images = set()\n",
        "\n",
        "    image_elements = []\n",
        "    for row in table_data:\n",
        "        image_filename, image_src = get_image_path(row)\n",
        "        if image_src and image_src not in unique_images:\n",
        "            unique_images.add(image_src)\n",
        "            image_elements.append(html.Div([\n",
        "                html.Img(src=image_src, style={\"width\": \"200px\", \"margin\": \"10px\"}),\n",
        "                html.P(f\"Image Filename: {image_filename}\")\n",
        "            ]))\n",
        "\n",
        "    if not image_elements:\n",
        "        return html.Div(\"沒有找到符合條件的圖片\")\n",
        "\n",
        "    return image_elements  # 回傳所有找到的圖片\n",
        "\n",
        "# ✅ 啟動 Dash 伺服器\n",
        "if __name__ == \"__main__\":\n",
        "    app.run_server(debug=True)\n"
      ],
      "metadata": {
        "id": "DoepfLrh6noZ"
      },
      "execution_count": null,
      "outputs": []
    },
    {
      "cell_type": "markdown",
      "source": [
        "#### 2-2. (接續上)"
      ],
      "metadata": {
        "id": "xObc1rus_4bI"
      }
    },
    {
      "cell_type": "code",
      "source": [
        "    # 收集每張圖片對應的所有 row_index\n",
        "    for row in table_data:\n",
        "        image_filename, image_src = get_image_path(row)\n",
        "        if image_src:\n",
        "            if image_src not in image_to_rows:\n",
        "                image_to_rows[image_src] = []\n",
        "            image_to_rows[image_src].append(row['row_index'])\n",
        "            # 圖片路徑（image_src）作為鍵，對應的 row_index 會儲存在列表\n",
        "\n",
        "    # 顯示圖片及其對應的 row_index\n",
        "    image_elements = []\n",
        "    for image_src, row_indices in image_to_rows.items():\n",
        "        image_filename = os.path.basename(image_src)\n",
        "        image_elements.append(html.Div([\n",
        "            html.Img(src=image_src, style={\"width\": \"200px\", \"margin\": \"10px\"}),\n",
        "            html.P(f\"Image Filename: {image_filename}, Row Indices: {', '.join(map(str, row_indices))}\")\n",
        "        ]))"
      ],
      "metadata": {
        "id": "jzir45gr_32n"
      },
      "execution_count": null,
      "outputs": []
    },
    {
      "cell_type": "markdown",
      "source": [
        "#### 2-3. 表格展示圖片"
      ],
      "metadata": {
        "id": "yQD4oneCAyAL"
      }
    },
    {
      "cell_type": "markdown",
      "source": [
        "1. 我們將先收集每張圖片的所有對應 row_index 和檔案名稱。\n",
        "2. 然後，將這些資料呈現在一個 Dash 表格中，並將圖片顯示在相應的欄位。"
      ],
      "metadata": {
        "id": "MTp_gU8mBzsg"
      }
    },
    {
      "cell_type": "code",
      "source": [
        "# ✅ 計算 Table 內所有符合條件的圖片，並顯示在 `figure_div`\n",
        "@app.callback(\n",
        "    Output(\"figure_div\", \"children\"),\n",
        "    Input(\"table\", \"data\")\n",
        ")\n",
        "def update_images(table_data):\n",
        "    if not table_data:\n",
        "        return html.Div(\"無資料\")\n",
        "\n",
        "    # 使用字典來儲存每張圖片對應的 row_index 列表\n",
        "    image_to_rows = {}\n",
        "\n",
        "    # 收集每張圖片對應的所有 row_index\n",
        "    for row in table_data:\n",
        "        image_filename, image_src = get_image_path(row)\n",
        "        if image_src:\n",
        "            if image_src not in image_to_rows:\n",
        "                image_to_rows[image_src] = []\n",
        "            image_to_rows[image_src].append(row['row_index'])\n",
        "\n",
        "    # 準備將圖片顯示在 Dash 表格中\n",
        "    # 每張圖片資料為一行 (row_index, image_filename, png)加入table_data_for_display中)\n",
        "    table_data_for_display = []\n",
        "    for image_src, row_indices in image_to_rows.items():\n",
        "        image_filename = os.path.basename(image_src)\n",
        "        row_data = {\n",
        "            \"row_index\": \", \".join(map(str, row_indices)),  # 顯示多個對應的 row_index\n",
        "            \"image_filename\": image_filename,\n",
        "            \"png\": html.Img(src=image_src, style={\"width\": \"100px\", \"height\": \"auto\"})\n",
        "        }\n",
        "        table_data_for_display.append(row_data)\n",
        "\n",
        "    if not table_data_for_display:\n",
        "        return html.Div(\"沒有找到符合條件的圖片\")\n",
        "\n",
        "    return dash_table.DataTable(\n",
        "        id='image_table',\n",
        "        columns=[\n",
        "            {\"name\": \"row_index\", \"id\": \"row_index\"},\n",
        "            {\"name\": \"image_filename\", \"id\": \"image_filename\"},\n",
        "            {\"name\": \"png\", \"id\": \"png\"},\n",
        "        ],\n",
        "        data=table_data_for_display,\n",
        "        style_table={'overflowX': 'auto', 'height': '400px'},\n",
        "        style_cell={'textAlign': 'center'},\n",
        "        style_data_conditional=[\n",
        "            {'if': {'column_id': 'png'}, 'width': '120px'}  # 控制圖片的顯示大小\n",
        "        ]\n",
        "    )"
      ],
      "metadata": {
        "id": "gXWJZbA3DiY-"
      },
      "execution_count": null,
      "outputs": []
    },
    {
      "cell_type": "markdown",
      "source": [
        "#### 2-4 設定每個欄位的 高 寬"
      ],
      "metadata": {
        "id": "_gYw6KSlGqVC"
      }
    },
    {
      "cell_type": "code",
      "source": [
        "        style_data_conditional=[\n",
        "            # 設定每一欄位的寬度\n",
        "            {'if': {'column_id': 'row_index'}, 'width': '100px'},\n",
        "            {'if': {'column_id': 'image_filename'}, 'width': '200px'},\n",
        "            {'if': {'column_id': 'png'}, 'width': '150px'},  # 限制圖片欄位寬度\n",
        "\n",
        "            # 設定圖片大小\n",
        "            {'if': {'column_id': 'png'}, 'height': '120px'},"
      ],
      "metadata": {
        "id": "soZB5bWhGoiE"
      },
      "execution_count": null,
      "outputs": []
    }
  ]
}