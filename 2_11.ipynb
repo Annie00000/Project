{
  "nbformat": 4,
  "nbformat_minor": 0,
  "metadata": {
    "colab": {
      "provenance": [],
      "authorship_tag": "ABX9TyOoXdrOzRV0hRp2LZxdWYAq",
      "include_colab_link": true
    },
    "kernelspec": {
      "name": "python3",
      "display_name": "Python 3"
    },
    "language_info": {
      "name": "python"
    }
  },
  "cells": [
    {
      "cell_type": "markdown",
      "metadata": {
        "id": "view-in-github",
        "colab_type": "text"
      },
      "source": [
        "<a href=\"https://colab.research.google.com/github/Annie00000/Project/blob/main/2_11.ipynb\" target=\"_parent\"><img src=\"https://colab.research.google.com/assets/colab-badge.svg\" alt=\"Open In Colab\"/></a>"
      ]
    },
    {
      "cell_type": "markdown",
      "source": [
        "## 1. 希望資料自動更新，可以使用 dcc.Interval 來定時獲取資料。"
      ],
      "metadata": {
        "id": "M9GuZ13TTQyZ"
      }
    },
    {
      "cell_type": "code",
      "source": [
        "import dash\n",
        "from dash import dcc, html, Input, Output\n",
        "import pandas as pd\n",
        "\n",
        "app = dash.Dash(__name__)\n",
        "\n",
        "# 假設我們的預設資料是這樣的\n",
        "default_data = pd.DataFrame({'Column 1': [1, 2, 3], 'Column 2': ['A', 'B', 'C']}).to_dict('records')\n",
        "\n",
        "app.layout = html.Div([\n",
        "    dcc.Interval(\n",
        "        id='interval',\n",
        "        interval=300000,  # 設定為 5 分鐘 (300,000 毫秒)\n",
        "        n_intervals=0  # 觸發次數初始為 0\n",
        "    ),\n",
        "    html.Div(id='output_table'),\n",
        "])\n",
        "\n",
        "@app.callback(\n",
        "    Output('output_table', 'children'),\n",
        "    Input('interval', 'n_intervals')  # 當 interval 觸發時執行\n",
        ")\n",
        "def get_data(n_intervals):\n",
        "    # 每次 interval 觸發時，會執行這個函式來更新資料\n",
        "    table_data = default_data\n",
        "    return html.Table([\n",
        "        html.Tr([html.Th(col) for col in table_data[0].keys()])  # 顯示列名\n",
        "    ] + [html.Tr([html.Td(d[col]) for col in d]) for d in table_data])  # 顯示資料行\n",
        "\n",
        "if __name__ == '__main__':\n",
        "    app.run(debug=True)\n"
      ],
      "metadata": {
        "id": "rs1HRbnsTNmf"
      },
      "execution_count": null,
      "outputs": []
    },
    {
      "cell_type": "markdown",
      "source": [
        "## 2. filter 欄位改變，href更改"
      ],
      "metadata": {
        "id": "48GkgtmKTTa6"
      }
    },
    {
      "cell_type": "code",
      "source": [
        "import dash\n",
        "from dash import dcc, html, Input, Output\n",
        "\n",
        "app = dash.Dash(__name__)\n",
        "\n",
        "app.layout = html.Div([\n",
        "    dcc.Location(id='url', refresh=False),\n",
        "    html.Button(\"改變 URL\", id=\"change_url\", n_clicks=0),\n",
        "])\n",
        "\n",
        "@app.callback(\n",
        "    Output(\"url\", \"href\"),\n",
        "    Input(\"change_url\", \"n_clicks\"),\n",
        "    prevent_initial_call=True\n",
        ")\n",
        "def update_url(n_clicks):\n",
        "    return \"/?filter=updated_value\"  # 變更 URL，但不刷新\n",
        "\n",
        "if __name__ == '__main__':\n",
        "    app.run(debug=True)\n"
      ],
      "metadata": {
        "id": "hdX72o1wTqHC"
      },
      "execution_count": null,
      "outputs": []
    }
  ]
}