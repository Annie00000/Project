{
  "nbformat": 4,
  "nbformat_minor": 0,
  "metadata": {
    "colab": {
      "provenance": [],
      "authorship_tag": "ABX9TyPgiNfMnZTaQ5T7YJTysqL3",
      "include_colab_link": true
    },
    "kernelspec": {
      "name": "python3",
      "display_name": "Python 3"
    },
    "language_info": {
      "name": "python"
    }
  },
  "cells": [
    {
      "cell_type": "markdown",
      "metadata": {
        "id": "view-in-github",
        "colab_type": "text"
      },
      "source": [
        "<a href=\"https://colab.research.google.com/github/Annie00000/Project/blob/main/0709.ipynb\" target=\"_parent\"><img src=\"https://colab.research.google.com/assets/colab-badge.svg\" alt=\"Open In Colab\"/></a>"
      ]
    },
    {
      "cell_type": "markdown",
      "source": [
        "### 1."
      ],
      "metadata": {
        "id": "AR1e2Fs-_e4Q"
      }
    },
    {
      "cell_type": "code",
      "source": [
        "import plotly.graph_objects as go\n",
        "import cv2\n",
        "import numpy as np\n",
        "import tempfile\n",
        "\n",
        "def get_line_pixel_ratio(fig, threshold=250):\n",
        "    \"\"\"\n",
        "    將 plotly figure 存為圖片，讀取後統計灰階像素中非白比例（視為畫線區域）\n",
        "\n",
        "    參數：\n",
        "        fig: plotly figure\n",
        "        threshold: 小於此灰階值視為畫過（0~255）\n",
        "\n",
        "    回傳：\n",
        "        line_ratio: 畫線像素 / 總像素\n",
        "    \"\"\"\n",
        "    with tempfile.NamedTemporaryFile(suffix=\".png\", delete=False) as tmpfile:\n",
        "        fig.write_image(tmpfile.name, width=800, height=400, engine=\"kaleido\")\n",
        "\n",
        "        # 讀入圖片 → 灰階\n",
        "        img = cv2.imread(tmpfile.name, cv2.IMREAD_GRAYSCALE)\n",
        "\n",
        "    # 統計畫線 pixel 占比\n",
        "    total_pixels = img.size\n",
        "    line_pixels = np.sum(img < threshold)\n",
        "\n",
        "    return line_pixels / total_pixels\n"
      ],
      "metadata": {
        "id": "g8ApFXIB9dzY"
      },
      "execution_count": null,
      "outputs": []
    },
    {
      "cell_type": "code",
      "source": [
        "methods = {\n",
        "    'fft': plot_fft_align,\n",
        "    'template': plot_template_align,\n",
        "    'dtw': plot_dtw_align\n",
        "}\n",
        "\n",
        "for name, plot_func in methods.items():\n",
        "    fig = plot_func(...)\n",
        "    ratio = get_line_pixel_ratio(fig)\n",
        "    print(f\"{name}: 線條佔比 = {ratio:.4f}\")\n"
      ],
      "metadata": {
        "id": "pSOeMVd6_d-G"
      },
      "execution_count": null,
      "outputs": []
    },
    {
      "cell_type": "markdown",
      "source": [
        "### 2."
      ],
      "metadata": {
        "id": "2l1F-DTL_oJW"
      }
    },
    {
      "cell_type": "code",
      "source": [
        "def compute_overlay_density(fig, threshold=50):\n",
        "    \"\"\"\n",
        "    將 plotly 圖轉為圖像，計算畫線區域（非背景）像素占比\n",
        "    threshold: 灰階閾值，小於此值視為背景\n",
        "    \"\"\"\n",
        "    # 1. 儲存 Plotly 為 PNG 圖像 (in memory)\n",
        "    img_bytes = fig.to_image(format=\"png\", scale=2)\n",
        "    img = Image.open(io.BytesIO(img_bytes)).convert('L')  # 轉灰階\n",
        "\n",
        "    # 2. 灰階轉 numpy array\n",
        "    img_np = np.array(img)\n",
        "\n",
        "    # 3. 閾值處理：視為畫線區域\n",
        "    mask = img_np < threshold  # 黑色線條 pixel\n",
        "\n",
        "    # 4. 計算比例\n",
        "    painted_ratio = np.sum(mask) / mask.size\n",
        "    return painted_ratio, img_np, mask"
      ],
      "metadata": {
        "id": "gUnaz4Tw_pDJ"
      },
      "execution_count": null,
      "outputs": []
    },
    {
      "cell_type": "markdown",
      "source": [
        "### 3. 哪個方法畫越少點（像素） → 代表線越重疊 → align 越好"
      ],
      "metadata": {
        "id": "TKsi0YEnAASi"
      }
    },
    {
      "cell_type": "code",
      "source": [
        "import plotly.graph_objects as go\n",
        "import cv2\n",
        "import numpy as np\n",
        "import tempfile\n",
        "\n",
        "def get_line_pixel_count(fig, threshold=250):\n",
        "    \"\"\"\n",
        "    將 plotly figure 存為圖片，統計畫線的像素總數（越少代表越集中）\n",
        "\n",
        "    參數：\n",
        "        fig: plotly figure\n",
        "        threshold: 小於此灰階值視為畫線（0~255）# 圖片轉成灰階後，像素值範圍是 0（黑）~ 255（白）\n",
        "\n",
        "    回傳：\n",
        "        line_pixel_count: 有畫線的像素數\n",
        "    \"\"\"\n",
        "    with tempfile.NamedTemporaryFile(suffix=\".png\", delete=False) as tmpfile:\n",
        "        fig.write_image(tmpfile.name, width=800, height=400, engine=\"kaleido\")\n",
        "        img = cv2.imread(tmpfile.name, cv2.IMREAD_GRAYSCALE)\n",
        "\n",
        "    line_pixels = np.sum(img < threshold) # 像素值 < 250 → 視為「有線條」\n",
        "    return line_pixels\n",
        "\n",
        "\n",
        "# 使用\n",
        "fig = plot_aligned_signals(ref_signal, all_signals, ref_job)\n",
        "line_pixel_count = get_line_pixel_count(fig)\n",
        "\n",
        "print(f\"線條像素數（越少越集中）：{line_pixel_count}\")\n",
        "\n",
        "\n",
        "# 多方法比較\n",
        "results = {}\n",
        "\n",
        "for name, plot_func in methods.items():  # methods 是不同 align 畫圖函式\n",
        "    fig = plot_func(...)\n",
        "    count = get_line_pixel_count(fig)\n",
        "    results[name] = count\n",
        "\n",
        "# 排序看看誰效果最好（線條重疊最多 = 畫線像素最少）\n",
        "sorted_result = sorted(results.items(), key=lambda x: x[1])\n",
        "print(\"\\n== Overlay 評分 ==\")\n",
        "for name, count in sorted_result:\n",
        "    print(f\"{name:10s} → 畫線像素：{count}\")"
      ],
      "metadata": {
        "id": "C1mAVVXDADpc"
      },
      "execution_count": null,
      "outputs": []
    },
    {
      "cell_type": "markdown",
      "source": [
        "### 4. 轉圖片注意事項"
      ],
      "metadata": {
        "id": "1wmVfk_AA4L5"
      }
    },
    {
      "cell_type": "code",
      "source": [
        "# plot_bgcolor='white'，避免背景深色影響灰階判斷\n",
        "fig.update_layout(plot_bgcolor='white')\n",
        "\n",
        "# 取消或調整 legend，會佔用空間並影響像素計算 (若只想比對線條疊合程度，可以先關閉 legend)\n",
        "fig.update_layout(showlegend=False)\n",
        "# 或把 legend 放圖外（右側），不影響畫布主區域\n",
        "fig.update_layout(\n",
        "    legend=dict(\n",
        "        x=1.05,\n",
        "        y=1,\n",
        "        bgcolor='rgba(255,255,255,0)',\n",
        "        bordercolor='rgba(0,0,0,0)'\n",
        "    )\n",
        ")\n",
        "\n",
        "# 固定圖像大小\n",
        "fig.update_layout(width=800, height=400)\n",
        "\n",
        "# 去除多餘的 margin\n",
        "fig.update_layout(margin=dict(l=40, r=20, t=40, b=40))\n",
        "\n",
        "# 若目的是比較 overlay 程度 → 建議去除所有非必要元件\n",
        "def clean_layout_for_image(fig, width=800, height=400):\n",
        "    fig.update_layout(\n",
        "        showlegend=False,\n",
        "        title='',\n",
        "        xaxis_title='',\n",
        "        yaxis_title='',\n",
        "        plot_bgcolor='white',\n",
        "        paper_bgcolor='white',\n",
        "        margin=dict(l=10, r=10, t=10, b=10),\n",
        "        width=width,\n",
        "        height=height\n",
        "    )\n",
        "    return fig"
      ],
      "metadata": {
        "id": "_2DNTFMAA6sV"
      },
      "execution_count": null,
      "outputs": []
    }
  ]
}