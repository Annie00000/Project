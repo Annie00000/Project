{
  "nbformat": 4,
  "nbformat_minor": 0,
  "metadata": {
    "colab": {
      "provenance": [],
      "authorship_tag": "ABX9TyPnoRwSOYh/sLvPEQfUqvU2",
      "include_colab_link": true
    },
    "kernelspec": {
      "name": "python3",
      "display_name": "Python 3"
    },
    "language_info": {
      "name": "python"
    }
  },
  "cells": [
    {
      "cell_type": "markdown",
      "metadata": {
        "id": "view-in-github",
        "colab_type": "text"
      },
      "source": [
        "<a href=\"https://colab.research.google.com/github/Annie00000/Project/blob/main/6_12.ipynb\" target=\"_parent\"><img src=\"https://colab.research.google.com/assets/colab-badge.svg\" alt=\"Open In Colab\"/></a>"
      ]
    },
    {
      "cell_type": "markdown",
      "source": [
        "## 1. 右上 select"
      ],
      "metadata": {
        "id": "yl1q8tvxBC7a"
      }
    },
    {
      "cell_type": "code",
      "source": [
        "import dash\n",
        "from dash import Dash, dash_table, html, dcc, Input, Output, State\n",
        "import pandas as pd\n",
        "\n",
        "# 建立資料（7欄）\n",
        "data = pd.DataFrame({\n",
        "    'ID': ['1', '2', '3'],\n",
        "    'Name': ['Alice', 'Bob', 'Charlie'],\n",
        "    'Age': ['25', '30', '35'],\n",
        "    'Gender': ['F', 'M', 'M'],\n",
        "    'Country': ['USA', 'Canada', 'UK'],\n",
        "    'Score': ['88', '92', '79'],\n",
        "    'Passed': ['Yes', 'Yes', 'No']\n",
        "})\n",
        "# 所有欄位 & 可切換欄位\n",
        "all_columns = data.columns.tolist()\n",
        "toggle_columns = ['Country', 'Score', 'Passed']\n",
        "default_columns = [col for col in all_columns if col not in toggle_columns]\n",
        "\n",
        "# 建立 Dash 應用\n",
        "app = Dash(__name__)\n",
        "\n",
        "# 設定 layout\n",
        "\n",
        "app.layout = html.Div([\n",
        "    html.Div([\n",
        "        dcc.Checklist(\n",
        "            id='select-all',\n",
        "            options=[{'label': 'Select All', 'value': 'all'}],\n",
        "            value=[],\n",
        "            style={'display': 'inline-block', 'margin-right': '20px'}\n",
        "        ),\n",
        "\n",
        "        html.Div([\n",
        "            html.Label(\"Select columns to display:\", style={'margin-right': '8px', 'font-weight': 'bold', 'white-space': 'nowrap'}),\n",
        "            dcc.Checklist(\n",
        "                id='column-toggle',\n",
        "                options=[{'label': col, 'value': col} for col in toggle_columns],\n",
        "                value=[],\n",
        "                inline=True,\n",
        "                style={'display': 'inline-block'}\n",
        "            )\n",
        "        ], style={'display': 'flex', 'align-items': 'center'})\n",
        "    ], style={\n",
        "        'display': 'flex',\n",
        "        'justifyContent': 'space-between',\n",
        "        'alignItems': 'center',\n",
        "        'margin-bottom': '10px'\n",
        "    }),\n",
        "\n",
        "    # 資料表\n",
        "    dash_table.DataTable(\n",
        "        id='filterable-table',\n",
        "        columns=[{'name': col, 'id': col} for col in default_columns],\n",
        "        data=data.to_dict('records'),\n",
        "        filter_action='native',\n",
        "        row_selectable='multi',\n",
        "        selected_rows=[],\n",
        "        page_size=5,\n",
        "        style_table={'overflowX': 'auto'},\n",
        "        style_cell={'textAlign': 'left'}\n",
        "    )\n",
        "])\n",
        "\n",
        "# Select All 控制行選取\n",
        "@app.callback(\n",
        "    Output('filterable-table', 'selected_rows'),\n",
        "    Input('select-all', 'value'),\n",
        "    State('filterable-table', 'data')\n",
        ")\n",
        "def update_select_all(value, rows):\n",
        "    if 'all' in value:\n",
        "        return list(range(len(rows)))\n",
        "    return []\n",
        "\n",
        "# 欄位切換控制 table 欄位顯示\n",
        "@app.callback(\n",
        "    Output('filterable-table', 'columns'),\n",
        "    Input('column-toggle', 'value')\n",
        ")\n",
        "def update_table_columns(selected_optional_cols):\n",
        "    final_cols = default_columns + selected_optional_cols\n",
        "    return [{'name': col, 'id': col} for col in final_cols]\n",
        "\n",
        "# 啟動伺服器\n",
        "if __name__ == '__main__':\n",
        "    app.run(debug=True)\n"
      ],
      "metadata": {
        "id": "oCD90zXjBFZt"
      },
      "execution_count": null,
      "outputs": []
    },
    {
      "cell_type": "markdown",
      "source": [
        "## 2. 右上 dropdowm"
      ],
      "metadata": {
        "id": "rl3gue3-BGCG"
      }
    },
    {
      "cell_type": "code",
      "source": [
        "import dash\n",
        "from dash import Dash, dash_table, html, dcc, Input, Output, State\n",
        "import pandas as pd\n",
        "\n",
        "# 資料\n",
        "data = pd.DataFrame({\n",
        "    'ID': ['1', '2', '3'],\n",
        "    'Name': ['Alice', 'Bob', 'Charlie'],\n",
        "    'Age': ['25', '30', '35'],\n",
        "    'Gender': ['F', 'M', 'M'],\n",
        "    'Country': ['USA', 'Canada', 'UK'],\n",
        "    'Score': ['88', '92', '79'],\n",
        "    'Passed': ['Yes', 'Yes', 'No']\n",
        "})\n",
        "\n",
        "all_columns = data.columns.tolist()\n",
        "toggle_columns = ['Country', 'Score', 'Passed']\n",
        "default_columns = [col for col in all_columns if col not in toggle_columns]\n",
        "\n",
        "# 建立 App\n",
        "app = Dash(__name__)\n",
        "\n",
        "app.layout = html.Div([\n",
        "    html.Div([\n",
        "        # 左上 Select All\n",
        "        html.Div(\n",
        "            dcc.Checklist(\n",
        "                id='select-all',\n",
        "                options=[{'label': 'Select All', 'value': 'all'}],\n",
        "                value=[],\n",
        "                style={'display': 'inline-block'}\n",
        "            ),\n",
        "            style={'display': 'flex', 'alignItems':'flex-end', 'height': '40px'}  # ✅ 對齊高度\n",
        "        ),\n",
        "        # 右上欄位顯示 Dropdown\n",
        "        dcc.Dropdown(\n",
        "            id='column-toggle',\n",
        "            options=[{'label': col, 'value': col} for col in toggle_columns],\n",
        "            value=[],  # 預設無選擇\n",
        "            multi=True,\n",
        "            placeholder=\"Select columns to display...\",\n",
        "            style={'width': '300px'}\n",
        "        ),\n",
        "    ], style={\n",
        "        'display': 'flex',\n",
        "        'justifyContent': 'space-between',\n",
        "        # 'alignItems': 'center',\n",
        "        'alignItems': 'flex-end',\n",
        "        'margin-bottom': '10px'\n",
        "    }),\n",
        "\n",
        "    dash_table.DataTable(\n",
        "        id='filterable-table',\n",
        "        columns=[{'name': col, 'id': col} for col in default_columns],\n",
        "        data=data.to_dict('records'),\n",
        "        filter_action='native',\n",
        "        row_selectable='multi',\n",
        "        selected_rows=[],\n",
        "        page_size=5,\n",
        "        style_table={'overflowX': 'auto'},\n",
        "        style_cell={'textAlign': 'left'}\n",
        "    )\n",
        "])\n",
        "\n",
        "# 選取列（Select All）\n",
        "@app.callback(\n",
        "    Output('filterable-table', 'selected_rows'),\n",
        "    Input('select-all', 'value'),\n",
        "    State('filterable-table', 'data')\n",
        ")\n",
        "def update_select_all(value, rows):\n",
        "    if 'all' in value:\n",
        "        return list(range(len(rows)))\n",
        "    return []\n",
        "\n",
        "# 顯示欄位控制\n",
        "@app.callback(\n",
        "    Output('filterable-table', 'columns'),\n",
        "    Input('column-toggle', 'value')\n",
        ")\n",
        "def update_table_columns(selected_cols):\n",
        "    final_cols = default_columns + selected_cols\n",
        "    return [{'name': col, 'id': col} for col in final_cols]\n",
        "\n",
        "if __name__ == '__main__':\n",
        "    app.run(debug=True)\n"
      ],
      "metadata": {
        "id": "07chyf3_BIf-"
      },
      "execution_count": null,
      "outputs": []
    },
    {
      "cell_type": "markdown",
      "source": [
        "## 3. 圓餅圖 固定大小"
      ],
      "metadata": {
        "id": "Udpu4MgYHEso"
      }
    },
    {
      "cell_type": "code",
      "source": [
        "# 1. 在 go.Pie 裡面固定 domain 範圍（確定圓餅圖位置及大小）\n",
        "fig = go.Figure(data=[go.Pie(\n",
        "    labels=labels,\n",
        "    values=values,\n",
        "    domain=dict(x=[0, 1], y=[0, 1])  # x, y 的範圍都定死 0~1\n",
        ")])\n",
        "\n",
        "# 2. 固定圖表的 layout 尺寸，指定 width 和 height\n",
        "fig.update_layout(width=400, height=400)\n",
        "\n",
        "# 3. 在 Dash 佈局中包裝 dcc.Graph 的外層容器設定固定寬高\n",
        "html.Div(\n",
        "    dcc.Graph(figure=fig),\n",
        "    style={'width': '400px', 'height': '400px'}\n",
        ")"
      ],
      "metadata": {
        "id": "3CuMcNRwHH5d"
      },
      "execution_count": null,
      "outputs": []
    },
    {
      "cell_type": "markdown",
      "source": [
        "#### 自適應大小圓餅圖\n",
        "\n",
        "dcc.Graph 設定 style={'width': '100%', 'height': '100%'}，讓 Plotly 圖表充滿外層容器。"
      ],
      "metadata": {
        "id": "i4-Z1ZiCHzpg"
      }
    },
    {
      "cell_type": "code",
      "source": [
        "app = dash.Dash(__name__)\n",
        "\n",
        "labels = ['A', 'B', 'C', 'D']\n",
        "values = [random.randint(10, 100) for _ in labels]\n",
        "\n",
        "fig = go.Figure(data=[go.Pie(labels=labels, values=values)])\n",
        "\n",
        "# 移除固定寬高，讓圖表用百分比寬度自適應\n",
        "fig.update_layout(\n",
        "    margin=dict(t=40, b=40, l=40, r=40),\n",
        "    # 不設定 width, height，讓它隨容器尺寸調整\n",
        ")\n",
        "\n",
        "app.layout = html.Div([\n",
        "    html.H3(\"響應式圓餅圖\"),\n",
        "    html.Div(\n",
        "        dcc.Graph(\n",
        "            figure=fig,\n",
        "            style={'width': '100%', 'height': '100%'}\n",
        "        ),\n",
        "        style={'width': '50vw', 'height': '50vw', 'maxWidth': '600px', 'maxHeight': '600px', 'margin': 'auto'}\n",
        "        # 50vw 寬高，並限制最大尺寸，居中顯示\n",
        "    )\n",
        "])\n",
        "\n",
        "if __name__ == '__main__':\n",
        "    app.run(debug=True)\n"
      ],
      "metadata": {
        "id": "mIjnEhfxH2Q2"
      },
      "execution_count": null,
      "outputs": []
    }
  ]
}