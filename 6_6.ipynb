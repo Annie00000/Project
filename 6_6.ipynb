{
  "nbformat": 4,
  "nbformat_minor": 0,
  "metadata": {
    "colab": {
      "provenance": [],
      "authorship_tag": "ABX9TyO89RckURMiOl4IxFe1kGsI",
      "include_colab_link": true
    },
    "kernelspec": {
      "name": "python3",
      "display_name": "Python 3"
    },
    "language_info": {
      "name": "python"
    }
  },
  "cells": [
    {
      "cell_type": "markdown",
      "metadata": {
        "id": "view-in-github",
        "colab_type": "text"
      },
      "source": [
        "<a href=\"https://colab.research.google.com/github/Annie00000/Project/blob/main/6_6.ipynb\" target=\"_parent\"><img src=\"https://colab.research.google.com/assets/colab-badge.svg\" alt=\"Open In Colab\"/></a>"
      ]
    },
    {
      "cell_type": "markdown",
      "source": [
        "### 1.  select all (根據filter(最終展示的) 勾選)  + 圖表\n",
        "\n",
        "p.s. 一定要用 唯一數字index 做select_rows"
      ],
      "metadata": {
        "id": "uTuJ85QQl9SN"
      }
    },
    {
      "cell_type": "code",
      "source": [
        "import dash\n",
        "from dash import Dash, dash_table, html, dcc, Output, Input, State\n",
        "import pandas as pd\n",
        "import plotly.express as px\n",
        "\n",
        "# 假資料 + 原始索引欄\n",
        "df = pd.DataFrame({\n",
        "    \"re_id\": ['re_001','re_002', 're_003', 're_004', 're_005'],\n",
        "    \"姓名\": [\"Alice\", \"Bob\", \"Charlie\", \"David\", 'Cindy'],\n",
        "    \"年齡\": ['25', '30', '35', '40', '30'],\n",
        "    \"城市\": [\"台北\", \"高雄\", \"台中\", \"台南\", \"台北\"]\n",
        "})\n",
        "### 每個 row 需要一個'獨立index'  (需用這個!因為select_rows要數字，不能是String(ex:re_id))\n",
        "df['_index'] = df.index\n",
        "\n",
        "app = Dash(__name__)\n",
        "\n",
        "app.layout = html.Div([\n",
        "    dcc.Checklist(\n",
        "        id='select-all',\n",
        "        options=[{'label': 'Select All (filtered)', 'value': 'all'}],\n",
        "        value=[],\n",
        "        style={'marginBottom': '10px'}\n",
        "    ),\n",
        "    dash_table.DataTable(\n",
        "        id='my-table',\n",
        "        columns=[{\"name\": i, \"id\": i} for i in df.columns],\n",
        "        data=df.to_dict('records'),\n",
        "        filter_action=\"native\",\n",
        "        row_selectable=\"multi\",\n",
        "        selected_rows=[],\n",
        "        style_table={'overflowX': 'auto'},\n",
        "        style_cell={'textAlign': 'left'},\n",
        "        style_data_conditional=[]\n",
        "    ),\n",
        "    html.Br(),\n",
        "\n",
        "    # ✅ 圖（放在 DataTable 下方）\n",
        "    html.Div([\n",
        "        dcc.Graph(id='pareto-chart', style={'width': '50%', 'display': 'inline-block'}),\n",
        "        dcc.Graph(id='pie-chart', style={'width': '50%', 'display': 'inline-block'})\n",
        "    ])])\n",
        "\n",
        "# ✅ 控制勾選：根據篩選後資料決定 selected_rows（回傳原始 index）\n",
        "# 1. 取得「篩選後」資料（來自 derived_virtual_data)\n",
        "# 2. 找出這些資料在原始資料中的 index\n",
        "# 3. 回傳這些 _index，正確設定 selected_row (原始資料的)\n",
        "@app.callback(\n",
        "    Output('my-table', 'selected_rows'),\n",
        "    Input('select-all', 'value'),\n",
        "    State('my-table', 'derived_virtual_data'),\n",
        "    State('my-table', 'data')\n",
        ")\n",
        "def select_filtered_rows(select_all_value, filtered_data, full_data):\n",
        "    if 'all' in select_all_value and filtered_data is not None:\n",
        "        return [row['_index'] for row in filtered_data]\n",
        "    return []\n",
        "\n",
        "# ✅ 底色樣式：根據篩選資料中的原始 index 與勾選狀態設定底色\n",
        "# (透過Input: derived_virtual_data，讓 Dash 只要一變動就觸發底色更新 callback，確保樣式正確。)\n",
        "@app.callback(\n",
        "    Output('my-table', 'style_data_conditional'),\n",
        "    Input('my-table', 'derived_virtual_data'),\n",
        "    Input('my-table', 'selected_rows')\n",
        ")\n",
        "def update_row_style(filtered_data, selected_rows):\n",
        "    if not selected_rows or not filtered_data:\n",
        "        return []\n",
        "\n",
        "    return [\n",
        "        {\n",
        "            'if': {'row_index': i},\n",
        "            'backgroundColor': '#ffe6f0',\n",
        "            'border': '1px solid #ff99cc'\n",
        "        }\n",
        "        for i, row in enumerate(filtered_data)\n",
        "        if row.get('_index') in selected_rows\n",
        "    ]\n",
        "\n",
        "\n",
        "# ✅ Pareto + Pie 圖 callback\n",
        "@app.callback(\n",
        "    Output('pareto-chart', 'figure'),\n",
        "    Output('pie-chart', 'figure'),\n",
        "    Input('my-table', 'derived_virtual_data')\n",
        ")\n",
        "def update_charts(filtered_data):\n",
        "    dff = pd.DataFrame(filtered_data) if filtered_data else df\n",
        "\n",
        "    # ▓ Pareto\n",
        "    city_counts = dff[\"城市\"].value_counts().reset_index()\n",
        "    city_counts.columns = [\"城市\", \"數量\"]\n",
        "    city_counts[\"累積百分比\"] = city_counts[\"數量\"].cumsum() / city_counts[\"數量\"].sum() * 100\n",
        "\n",
        "    pareto_fig = go.Figure()\n",
        "    pareto_fig.add_trace(go.Bar(\n",
        "        x=city_counts[\"城市\"],\n",
        "        y=city_counts[\"數量\"],\n",
        "        name=\"數量\",\n",
        "        marker_color='lightsalmon'\n",
        "    ))\n",
        "    pareto_fig.add_trace(go.Scatter(\n",
        "        x=city_counts[\"城市\"],\n",
        "        y=city_counts[\"累積百分比\"],\n",
        "        name=\"累積百分比\",\n",
        "        yaxis='y2',\n",
        "        mode='lines+markers',\n",
        "        marker=dict(color='blue')\n",
        "    ))\n",
        "    pareto_fig.update_layout(\n",
        "        title=\"Pareto 圖：城市人數分布\",\n",
        "        yaxis=dict(title=\"數量\"),\n",
        "        yaxis2=dict(title=\"累積百分比\", overlaying='y', side='right', range=[0, 110]),\n",
        "        xaxis=dict(title=\"城市\"),\n",
        "        margin=dict(t=40, b=40)\n",
        "    )\n",
        "\n",
        "    # ▓ Pie\n",
        "    pie_fig = go.Figure(\n",
        "        go.Pie(\n",
        "            labels=city_counts[\"城市\"],\n",
        "            values=city_counts[\"數量\"],\n",
        "            marker=dict(colors=px.colors.qualitative.Set3),  # 可以替換成 Set1, Pastel1, Dark2 等\n",
        "            hole=0.3,\n",
        "        )\n",
        "    )\n",
        "    pie_fig.update_layout(title=\"Pie 圖：城市分布\")\n",
        "\n",
        "    return pareto_fig, pie_fig\n",
        "\n",
        "\n",
        "if __name__ == '__main__':\n",
        "    app.run(debug=True)"
      ],
      "metadata": {
        "id": "HRg35wrsIKL3"
      },
      "execution_count": null,
      "outputs": []
    },
    {
      "cell_type": "markdown",
      "source": [
        "### 2. 被select的資料， 找出其row後 撈出其Re_id"
      ],
      "metadata": {
        "id": "X2ybdvfgNeRz"
      }
    },
    {
      "cell_type": "code",
      "source": [
        "# 被select的那些row的 re_id\n",
        "selected_re_ids = df_all.loc[df_all['_index'].isin(selected_rows), 're_id'].tolist()"
      ],
      "metadata": {
        "id": "04oOzb_oOL1Q"
      },
      "execution_count": null,
      "outputs": []
    },
    {
      "cell_type": "code",
      "source": [
        "# 新增 callback 觸發下載\n",
        "@app.callback(\n",
        "    Output(\"download-data\", \"data\"),\n",
        "    Input(\"btn-download\", \"n_clicks\"),\n",
        "    State(\"my-table\", \"selected_rows\"),\n",
        "    State(\"stored-data\", \"data\"),\n",
        "    prevent_initial_call=True,\n",
        ")\n",
        "def generate_excel(n_clicks, selected_rows, stored_data):\n",
        "    if not selected_rows:\n",
        "        return dash.no_update  # 沒選資料就不下載\n",
        "\n",
        "    # 把 stored_data 轉 DataFrame（包含隱藏欄位）\n",
        "    df_all = pd.DataFrame(stored_data)\n",
        "\n",
        "    # 選出被選中的資料\n",
        "    df_selected = df_all[df_all['_index'].isin(selected_rows)]\n",
        "\n",
        "    # 用 send_data_frame 輸出 Excel 檔\n",
        "    return send_data_frame(df_selected.to_excel, \"selected_data.xlsx\", index=False)"
      ],
      "metadata": {
        "id": "X9QmA8-XN5MG"
      },
      "execution_count": null,
      "outputs": []
    },
    {
      "cell_type": "markdown",
      "source": [
        "### 3. table 有的欄位不show & markdown"
      ],
      "metadata": {
        "id": "k1I7_b1ZPEwT"
      }
    },
    {
      "cell_type": "code",
      "source": [
        "columns = [\n",
        "    {\n",
        "        \"name\": i,\n",
        "        \"id\": i,\n",
        "        \"presentation\": \"markdown\" if i in [\"城市\", \"姓名\"] else \"input\"\n",
        "    }\n",
        "    for i in df.columns if i not in ('re_id', '_index', 'info')\n",
        "]\n"
      ],
      "metadata": {
        "id": "QK29cb4MPKde"
      },
      "execution_count": null,
      "outputs": []
    }
  ]
}