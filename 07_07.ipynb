{
  "nbformat": 4,
  "nbformat_minor": 0,
  "metadata": {
    "colab": {
      "provenance": [],
      "authorship_tag": "ABX9TyPBjAXd+bckNr+5Xc63x31C",
      "include_colab_link": true
    },
    "kernelspec": {
      "name": "python3",
      "display_name": "Python 3"
    },
    "language_info": {
      "name": "python"
    }
  },
  "cells": [
    {
      "cell_type": "markdown",
      "metadata": {
        "id": "view-in-github",
        "colab_type": "text"
      },
      "source": [
        "<a href=\"https://colab.research.google.com/github/Annie00000/Project/blob/main/07_07.ipynb\" target=\"_parent\"><img src=\"https://colab.research.google.com/assets/colab-badge.svg\" alt=\"Open In Colab\"/></a>"
      ]
    },
    {
      "cell_type": "code",
      "source": [
        "# 1. 檢查互相關峰值是否明顯（信號強度不夠）\n",
        "if np.max(corr) < 1e-3:\n",
        "    lag = 0  # 太小 → 相似性不足 → 不移動\n",
        "\n",
        "# 2. 比最大值和平均的比值\n",
        "if np.max(corr) / np.mean(np.abs(corr)) < 3:\n",
        "    lag = 0\n",
        "\n",
        "# 3. 預先過濾掉「幾乎為常數」的訊號\n",
        "if np.std(sig) < 1e-3:\n",
        "    lag = 0"
      ],
      "metadata": {
        "id": "uDUUet1sVHFv"
      },
      "execution_count": null,
      "outputs": []
    },
    {
      "cell_type": "code",
      "source": [
        "from scipy.signal import correlate\n",
        "from scipy.stats import zscore\n",
        "import numpy as np\n",
        "\n",
        "def compute_alignment_offsets(signals, reference_index=0, max_lag=20, min_corr_ratio=3):\n",
        "    ref = signals[reference_index]\n",
        "    offsets = []\n",
        "\n",
        "    for i, sig in enumerate(signals):\n",
        "        if np.std(sig) < 1e-6:  # 幾乎是水平線，不處理\n",
        "            offsets.append(0)\n",
        "            continue\n",
        "        ref_norm = zscore(ref)\n",
        "        sig_norm = zscore(sig)\n",
        "        corr = correlate(sig_norm, ref_norm, mode='full', method='fft')\n",
        "\n",
        "        lag = np.argmax(corr) - (len(ref) - 1)\n",
        "\n",
        "        # Normalized cross-correlation quality gating\n",
        "        peak = np.max(corr)\n",
        "        mean_corr = np.mean(np.abs(corr))\n",
        "        ratio = peak / mean_corr if mean_corr != 0 else 0 # 避免 mean_corr=0 時爆炸\n",
        "\n",
        "        if ratio < min_corr_ratio or abs(lag) > max_lag:\n",
        "            lag = 0  # 不做對齊\n",
        "\n",
        "        offsets.append(lag)\n",
        "\n",
        "    return offsets\n"
      ],
      "metadata": {
        "id": "idxJyC-p54B9"
      },
      "execution_count": null,
      "outputs": []
    },
    {
      "cell_type": "markdown",
      "source": [
        "## 第幾個lag開始"
      ],
      "metadata": {
        "id": "UtN_6TLC75aZ"
      }
    },
    {
      "cell_type": "code",
      "source": [
        "# 表示這條訊號應該從 第 lag 格起始位置畫起，才能與參考訊號對齊。\n",
        "# (拿它作為 x 座標偏移來畫圖，不用再倒過來想誰往哪邊平移)\n",
        "lag = -(np.argmax(corr) - (len(ref) - 1))\n"
      ],
      "metadata": {
        "id": "9MBzKC1u77WD"
      },
      "execution_count": null,
      "outputs": []
    }
  ]
}